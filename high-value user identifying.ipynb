{
 "cells": [
  {
   "cell_type": "code",
   "execution_count": 175,
   "metadata": {
    "collapsed": true
   },
   "outputs": [],
   "source": [
    "import re\n",
    "import string\n",
    "import itertools\n",
    "from nltk import bigrams #pay attention to the 's' of bigrams\n",
    "from nltk.tokenize import RegexpTokenizer\n",
    "from nltk.corpus import stopwords\n",
    "from nltk.stem.wordnet import WordNetLemmatizer\n",
    "import pandas as pd\n",
    "import numpy as np\n",
    "import csv\n",
    "import json\n",
    "import nltk\n",
    "import operator\n",
    "from collections import Counter\n",
    "import gensim\n",
    "from gensim import corpora\n",
    "from os import listdir\n",
    "from os.path import isfile,join\n",
    "import nltk\n",
    "\n",
    "\n",
    "# read from files as dataframe\n",
    "def read_as_df(folder,filename):\n",
    "    filename=filename.split('.')[0]\n",
    "    filepath=folder+filename+'.txt'\n",
    "    df = pd.read_csv(filepath, delimiter=\"^\", header=None,error_bad_lines=False,engine='python')\n",
    "    df.columns = [\"tweets\", \"time\", \"date\"]\n",
    "    df['account']=filename \n",
    "    return df\n",
    "\n",
    "\n",
    "# read from files as list \n",
    "def read_as_list(filepath):\n",
    "    with open(filepath) as txt_file:\n",
    "        lines = txt_file.readlines()\n",
    "        e_list = []\n",
    "        for line in lines:\n",
    "            e_list.append(line)  # store the text into a list # 27608\n",
    "        return e_list\n",
    "\n",
    "# drop repetitive words\n",
    "def strip_drop_duplicated(input_list):\n",
    "    tem_list=[tweet.strip() for tweet in input_list] #drop the space at the beginning and in the end\n",
    "    tem_list=list(set(tem_list)) # drop the duplicated # 25600\n",
    "    return tem_list\n",
    "\n",
    "# remove all the symbols and non-english words\n",
    "def remove_symbols(input_list):\n",
    "    #format:[[],[],[]]\n",
    "    regex_str = [\n",
    "        #emoticons_str,\n",
    "        #r'<[^>]+>',  # HTML tags\n",
    "        #r'(?:@[\\w_]+)',  # @-mentions\n",
    "        #r\"(?:\\#+[\\w_]+[\\w\\'_\\-]*[\\w_]+)\",  # hash-tags\n",
    "        #r'http[s]?://(?:[a-z]|[0-9]|[$-_@.&amp;+]|[!*\\(\\),]|(?:%[0-9a-f][0-9a-f]))+',  # URLs\n",
    "        #r'(?:(?:\\d+,?)+(?:\\.?\\d+)?)',  # numbers\n",
    "        #r\"(?:[a-z][a-z'\\-_]+[a-z])\",  # words with - and '\n",
    "        #r'(?:[\\w_]+)',  # other words\n",
    "        #r'(?:\\S)'  # anything else\n",
    "    ]\n",
    "\n",
    "    punctuation=set(string.punctuation)\n",
    "\n",
    "\n",
    "    POS_f_list=[]\n",
    "\n",
    "    for tweet in input_list:\n",
    "        #print(tweet)\n",
    "        tokens=tweet.split(' ')\n",
    "        #tokens=tokens_re.findall(tweet)  # tokens is a list   # token is word\n",
    "        tokens = [ token.lower() for token in tokens]\n",
    "        tokens = [ re.sub(r'<[^>]+>','',token) for token in tokens]\n",
    "        tokens = [ re.sub(r'(?:@[\\w_]+)','',token) for token in tokens]\n",
    "        #tokens = [ re.sub(r\"(?:\\#+[\\w_]+[\\w\\'_\\-]*[\\w_]+)\",'',token) for token in tokens]\n",
    "        tokens = [ re.sub(r'http[s]?://(?:[a-z]|[0-9]|[$-_@.&amp;+]|[!*\\(\\),]|(?:%[0-9a-f][0-9a-f]))+','',token) for token in tokens]\n",
    "        tokens = [ re.sub(r'(?:(?:\\d+,?)+(?:\\.?\\d+)?)','',token) for token in tokens]\n",
    "        tokens = [ re.sub(r'[!?+]','',token) for token in tokens]\n",
    "        tokens = [ re.sub(r'\\&[\\w]+[;]?','',token) for token in tokens]\n",
    "        tokens = [ re.sub(r'[\\w]+[.]+[\\w]+','',token) for token in tokens]\n",
    "        tokens = ['' if token in punctuation else token for token in tokens]\n",
    "        tokens = ['' if len(token)==1 else token for token in tokens]\n",
    "\n",
    "\n",
    "        result=[]\n",
    "        for text in tokens:\n",
    "            try:\n",
    "                word=re.search(r\"(?:^[a-z]+[a-z'\\-_]?[a-z]+)\",text).group(0)\n",
    "                result.append(word)\n",
    "            except:\n",
    "                pass\n",
    "\n",
    "        tokens = nltk.pos_tag(result)\n",
    "        #tokens= [words[0] for words in tokens if words[1] in ['NN','NNS','NNP','NNPS']]\n",
    "        tokens= [words[0] for words in tokens]\n",
    "        POS_f_list.append(tokens)\n",
    "        #remove the '' after the replace of symbols in words\n",
    "        #for i in range(tokens.count('')):\n",
    "            #tokens.remove('')\n",
    "        #token_list.append(result)\n",
    "\n",
    "    #get rid of all the [] in tweets\n",
    "    new_tweets_list=[]\n",
    "    for i in POS_f_list:\n",
    "        if i==[]:\n",
    "            pass\n",
    "        else:\n",
    "            new_tweets_list.append(i)\n",
    "            #print(i)\n",
    "    return new_tweets_list\n",
    "\n",
    "\n",
    "# make some words like 'gooood' to 'good'\n",
    "def standardize(input_list):\n",
    "    standardize_tweet_list=[]\n",
    "    for tweet in input_list:\n",
    "        standardize_tweet=[''.join(''.join(s)[:2] for _, s in itertools.groupby(word)) for word in tweet]\n",
    "        standardize_tweet_list.append(standardize_tweet)\n",
    "    return standardize_tweet_list\n",
    "\n",
    "# list from: Twitter-LDA/data/stoplist.txt & Twitter-LDA/src/Common/Stopwords.java\n",
    "# remove stop words\n",
    "def stop_word_removal(input_list):\n",
    "    nonstopwd_tweets_list=[]\n",
    "    swords_mlist=['ah',\n",
    "'da',\n",
    "'de',\n",
    "'di',\n",
    "'eh',\n",
    "'ga',\n",
    "'ha',\n",
    "'je',\n",
    "'ke',\n",
    "'la',\n",
    "'le',\n",
    "'lo',\n",
    "'lu',\n",
    "'ma',\n",
    "'ni',\n",
    "'tu',\n",
    "'uh',\n",
    "'wa',\n",
    "'xx',\n",
    "'ya',\n",
    "'dah',\n",
    "'hah',\n",
    "'heh',\n",
    "'lah',\n",
    "'leh',\n",
    "'wah',\n",
    "'wat',\n",
    "'wow',\n",
    "'yay',\n",
    "'zzz',\n",
    "\"a\",\n",
    "\"able\",\n",
    "\"about\",\n",
    "\"above\",\n",
    "\"according\",\n",
    "\"accordingly\",\n",
    "\"across\",\n",
    "\"actually\",\n",
    "\"after\",\n",
    "\"afterwards\",\n",
    "\"again\",\n",
    "\"against\",\n",
    "\"all\",\n",
    "\"allow\",\n",
    "\"allows\",\n",
    "\"almost\",\n",
    "\"alone\",\n",
    "\"along\",\n",
    "\"already\",\n",
    "\"also\",\n",
    "\"although\",\n",
    "\"always\",\n",
    "\"am\",\n",
    "\"among\",\n",
    "\"amongst\",\n",
    "\"amp\",\n",
    "\"an\",\n",
    "\"and\",\n",
    "\"another\",\n",
    "\"any\",\n",
    "\"anybody\",\n",
    "\"anyhow\",\n",
    "\"anyone\",\n",
    "\"anything\",\n",
    "\"anyway\",\n",
    "\"anyways\",\n",
    "\"anywhere\",\n",
    "\"apart\",\n",
    "\"appear\",\n",
    "\"appreciate\",\n",
    "\"appropriate\",\n",
    "\"are\",\n",
    "\"around\",\n",
    "\"as\",\n",
    "\"aside\",\n",
    "\"ask\",\n",
    "\"asking\",\n",
    "\"associated\",\n",
    "\"at\",\n",
    "\"available\",\n",
    "\"away\",\n",
    "\"awfully\",\n",
    "\"b\",\n",
    "\"be\",\n",
    "\"became\",\n",
    "\"because\",\n",
    "\"become\",\n",
    "\"becomes\",\n",
    "\"becoming\",\n",
    "\"been\",\n",
    "\"before\",\n",
    "\"beforehand\",\n",
    "\"behind\",\n",
    "\"being\",\n",
    "\"believe\",\n",
    "\"below\",\n",
    "\"beside\",\n",
    "\"besides\",\n",
    "\"best\",\n",
    "\"better\",\n",
    "\"between\",\n",
    "\"beyond\",\n",
    "\"both\",\n",
    "\"brief\",\n",
    "\"but\",\n",
    "\"by\",\n",
    "\"c\",\n",
    "\"came\",\n",
    "\"can\",\n",
    "\"cannot\",\n",
    "\"cant\",\n",
    "\"cause\",\n",
    "\"causes\",\n",
    "\"certain\",\n",
    "\"certainly\",\n",
    "\"changes\",\n",
    "\"clearly\",\n",
    "\"co\",\n",
    "\"com\",\n",
    "\"come\",\n",
    "\"comes\",\n",
    "\"concerning\",\n",
    "\"consequently\",\n",
    "\"consider\",\n",
    "\"considering\",\n",
    "\"contain\",\n",
    "\"containing\",\n",
    "\"contains\",\n",
    "\"corresponding\",\n",
    "\"could\",\n",
    "\"course\",\n",
    "\"currently\",\n",
    "\"d\",\n",
    "\"definitely\",\n",
    "\"described\",\n",
    "\"despite\",\n",
    "\"did\",\n",
    "\"different\",\n",
    "\"do\",\n",
    "\"does\",\n",
    "\"doing\",\n",
    "\"done\",\n",
    "\"down\",\n",
    "\"downwards\",\n",
    "\"during\",\n",
    "\"e\",\n",
    "\"each\",\n",
    "\"edu\",\n",
    "\"eg\",\n",
    "\"eight\",\n",
    "\"either\",\n",
    "\"else\",\n",
    "\"elsewhere\",\n",
    "\"enough\",\n",
    "\"entirely\",\n",
    "\"especially\",\n",
    "\"et\",\n",
    "\"etc\",\n",
    "\"even\",\n",
    "\"ever\",\n",
    "\"every\",\n",
    "\"everybody\",\n",
    "\"everyone\",\n",
    "\"everything\",\n",
    "\"everywhere\",\n",
    "\"ex\",\n",
    "\"exactly\",\n",
    "\"example\",\n",
    "\"except\",\n",
    "\"f\",\n",
    "\"far\",\n",
    "\"few\",\n",
    "\"fifth\",\n",
    "\"first\",\n",
    "\"five\",\n",
    "\"followed\",\n",
    "\"following\",\n",
    "\"follows\",\n",
    "\"for\",\n",
    "\"former\",\n",
    "\"formerly\",\n",
    "\"forth\",\n",
    "\"four\",\n",
    "\"from\",\n",
    "\"further\",\n",
    "\"furthermore\",\n",
    "\"g\",\n",
    "\"get\",\n",
    "\"gets\",\n",
    "\"getting\",\n",
    "\"given\",\n",
    "\"gives\",\n",
    "\"go\",\n",
    "\"goes\",\n",
    "\"going\",\n",
    "\"gone\",\n",
    "\"got\",\n",
    "\"gotten\",\n",
    "\"greetings\",\n",
    "\"h\",\n",
    "\"had\",\n",
    "\"happens\",\n",
    "\"hardly\",\n",
    "\"has\",\n",
    "\"have\",\n",
    "\"having\",\n",
    "\"he\",\n",
    "\"hello\",\n",
    "\"help\",\n",
    "\"hence\",\n",
    "\"her\",\n",
    "\"here\",\n",
    "\"hereafter\",\n",
    "\"hereby\",\n",
    "\"herein\",\n",
    "\"hereupon\",\n",
    "\"hers\",\n",
    "\"herself\",\n",
    "\"hi\",\n",
    "\"him\",\n",
    "\"himself\",\n",
    "\"his\",\n",
    "\"hither\",\n",
    "\"hopefully\",\n",
    "\"how\",\n",
    "\"howbeit\",\n",
    "\"however\",\n",
    "\"i\",\n",
    "\"ie\",\n",
    "\"if\",\n",
    "\"ignored\",\n",
    "\"immediate\",\n",
    "\"in\",\n",
    "\"inasmuch\",\n",
    "\"inc\",\n",
    "\"indeed\",\n",
    "\"indicate\",\n",
    "\"indicated\",\n",
    "\"indicates\",\n",
    "\"inner\",\n",
    "\"insofar\",\n",
    "\"instead\",\n",
    "\"into\",\n",
    "\"inward\",\n",
    "\"is\",\n",
    "\"it\",\n",
    "\"its\",\n",
    "\"itself\",\n",
    "\"j\",\n",
    "\"just\",\n",
    "\"k\",\n",
    "\"keep\",\n",
    "\"keeps\",\n",
    "\"kept\",\n",
    "\"know\",\n",
    "\"knows\",\n",
    "\"known\",\n",
    "\"l\",\n",
    "\"last\",\n",
    "\"lately\",\n",
    "\"later\",\n",
    "\"latter\",\n",
    "\"latterly\",\n",
    "\"least\",\n",
    "\"less\",\n",
    "\"lest\",\n",
    "\"let\",\n",
    "\"like\",\n",
    "\"liked\",\n",
    "\"likely\",\n",
    "\"little\",\n",
    "\"ll\",\n",
    "\"look\",\n",
    "\"looking\",\n",
    "\"looks\",\n",
    "\"ltd\",\n",
    "\"m\",\n",
    "\"mainly\",\n",
    "\"many\",\n",
    "\"may\",\n",
    "\"maybe\",\n",
    "\"me\",\n",
    "\"mean\",\n",
    "\"meanwhile\",\n",
    "\"merely\",\n",
    "\"might\",\n",
    "\"more\",\n",
    "\"moreover\",\n",
    "\"most\",\n",
    "\"mostly\",\n",
    "\"much\",\n",
    "\"must\",\n",
    "\"my\",\n",
    "\"myself\",\n",
    "\"n\",\n",
    "\"name\",\n",
    "\"namely\",\n",
    "\"nd\",\n",
    "\"near\",\n",
    "\"nearly\",\n",
    "\"necessary\",\n",
    "\"need\",\n",
    "\"needs\",\n",
    "\"neither\",\n",
    "\"never\",\n",
    "\"nevertheless\",\n",
    "\"new\",\n",
    "\"next\",\n",
    "\"nine\",\n",
    "\"no\",\n",
    "\"nobody\",\n",
    "\"non\",\n",
    "\"none\",\n",
    "\"noone\",\n",
    "\"nor\",\n",
    "\"normally\",\n",
    "\"not\",\n",
    "\"nothing\",\n",
    "\"novel\",\n",
    "\"now\",\n",
    "\"nowhere\",\n",
    "\"o\",\n",
    "\"obviously\",\n",
    "\"of\",\n",
    "\"off\",\n",
    "\"often\",\n",
    "\"oh\",\n",
    "\"ok\",\n",
    "\"okay\",\n",
    "\"old\",\n",
    "\"on\",\n",
    "\"once\",\n",
    "\"one\",\n",
    "\"ones\",\n",
    "\"only\",\n",
    "\"onto\",\n",
    "\"or\",\n",
    "\"other\",\n",
    "\"others\",\n",
    "\"otherwise\",\n",
    "\"ought\",\n",
    "\"our\",\n",
    "\"ours\",\n",
    "\"ourselves\",\n",
    "\"out\",\n",
    "\"outside\",\n",
    "\"over\",\n",
    "\"overall\",\n",
    "\"own\",\n",
    "\"p\",\n",
    "\"particular\",\n",
    "\"particularly\",\n",
    "\"per\",\n",
    "\"perhaps\",\n",
    "\"placed\",\n",
    "\"please\",\n",
    "\"plus\",\n",
    "\"possible\",\n",
    "\"presumably\",\n",
    "\"probably\",\n",
    "\"provides\",\n",
    "\"q\",\n",
    "\"que\",\n",
    "\"quite\",\n",
    "\"qv\",\n",
    "\"r\",\n",
    "\"rather\",\n",
    "\"rd\",\n",
    "\"re\",\n",
    "\"really\",\n",
    "\"reasonably\",\n",
    "\"regarding\",\n",
    "\"regardless\",\n",
    "\"regards\",\n",
    "\"relatively\",\n",
    "\"respectively\",\n",
    "\"right\",\n",
    "\"s\",\n",
    "\"said\",\n",
    "\"same\",\n",
    "\"saw\",\n",
    "\"say\",\n",
    "\"saying\",\n",
    "\"says\",\n",
    "\"second\",\n",
    "\"secondly\",\n",
    "\"see\",\n",
    "\"seeing\",\n",
    "\"seem\",\n",
    "\"seemed\",\n",
    "\"seeming\",\n",
    "\"seems\",\n",
    "\"seen\",\n",
    "\"self\",\n",
    "\"selves\",\n",
    "\"sensible\",\n",
    "\"sent\",\n",
    "\"serious\",\n",
    "\"seriously\",\n",
    "\"seven\",\n",
    "\"several\",\n",
    "\"shall\",\n",
    "\"she\",\n",
    "\"should\",\n",
    "\"since\",\n",
    "\"six\",\n",
    "\"so\",\n",
    "\"some\",\n",
    "\"somebody\",\n",
    "\"somehow\",\n",
    "\"someone\",\n",
    "\"something\",\n",
    "\"sometime\",\n",
    "\"sometimes\",\n",
    "\"somewhat\",\n",
    "\"somewhere\",\n",
    "\"soon\",\n",
    "\"sorry\",\n",
    "\"specified\",\n",
    "\"specify\",\n",
    "\"specifying\",\n",
    "\"still\",\n",
    "\"sub\",\n",
    "\"such\",\n",
    "\"sup\",\n",
    "\"sure\",\n",
    "\"t\",\n",
    "\"take\",\n",
    "\"taken\",\n",
    "\"tell\",\n",
    "\"tends\",\n",
    "\"th\",\n",
    "\"than\",\n",
    "\"thank\",\n",
    "\"thanks\",\n",
    "\"thanx\",\n",
    "\"that\",\n",
    "\"thats\",\n",
    "\"the\",\n",
    "\"their\",\n",
    "\"theirs\",\n",
    "\"them\",\n",
    "\"themselves\",\n",
    "\"then\",\n",
    "\"thence\",\n",
    "\"there\",\n",
    "\"thereafter\",\n",
    "\"thereby\",\n",
    "\"therefore\",\n",
    "\"therein\",\n",
    "\"theres\",\n",
    "\"thereupon\",\n",
    "\"these\",\n",
    "\"they\",\n",
    "\"think\",\n",
    "\"third\",\n",
    "\"this\",\n",
    "\"thorough\",\n",
    "\"thoroughly\",\n",
    "\"those\",\n",
    "\"though\",\n",
    "\"three\",\n",
    "\"through\",\n",
    "\"throughout\",\n",
    "\"thru\",\n",
    "\"thus\",\n",
    "\"to\",\n",
    "\"together\",\n",
    "\"too\",\n",
    "\"took\",\n",
    "\"toward\",\n",
    "\"towards\",\n",
    "\"tried\",\n",
    "\"tries\",\n",
    "\"truly\",\n",
    "\"try\",\n",
    "\"trying\",\n",
    "\"twice\",\n",
    "\"two\",\n",
    "\"u\",\n",
    "\"un\",\n",
    "\"under\",\n",
    "\"unfortunately\",\n",
    "\"unless\",\n",
    "\"unlikely\",\n",
    "\"until\",\n",
    "\"unto\",\n",
    "\"up\",\n",
    "\"upon\",\n",
    "\"us\",\n",
    "\"use\",\n",
    "\"used\",\n",
    "\"useful\",\n",
    "\"uses\",\n",
    "\"using\",\n",
    "\"usually\",\n",
    "\"uucp\",\n",
    "\"v\",\n",
    "\"value\",\n",
    "\"various\",\n",
    "\"ve\",\n",
    "\"very\",\n",
    "\"via\",\n",
    "\"viz\",\n",
    "\"vs\",\n",
    "\"w\",\n",
    "\"want\",\n",
    "\"wants\",\n",
    "\"was\",\n",
    "\"way\",\n",
    "\"we\",\n",
    "\"welcome\",\n",
    "\"well\",\n",
    "\"went\",\n",
    "\"were\",\n",
    "\"what\",\n",
    "\"whatever\",\n",
    "\"when\",\n",
    "\"whence\",\n",
    "\"whenever\",\n",
    "\"where\",\n",
    "\"whereafter\",\n",
    "\"whereas\",\n",
    "\"whereby\",\n",
    "\"wherein\",\n",
    "\"whereupon\",\n",
    "\"wherever\",\n",
    "\"whether\",\n",
    "\"which\",\n",
    "\"while\",\n",
    "\"whither\",\n",
    "\"who\",\n",
    "\"whoever\",\n",
    "\"whole\",\n",
    "\"whom\",\n",
    "\"whose\",\n",
    "\"why\",\n",
    "\"will\",\n",
    "\"willing\",\n",
    "\"wish\",\n",
    "\"with\",\n",
    "\"within\",\n",
    "\"without\",\n",
    "\"wonder\",\n",
    "\"would\",\n",
    "\"would\",\n",
    "\"x\",\n",
    "\"y\",\n",
    "\"yes\",\n",
    "\"yet\",\n",
    "\"you\",\n",
    "\"your\",\n",
    "\"yours\",\n",
    "\"yourself\",\n",
    "\"yourselves\",\n",
    "\"z\",\n",
    "\"zero\",\n",
    "\"i'm\",\n",
    "\"he's\",\n",
    "\"she's\",\n",
    "\"you're\",\n",
    "\"i'll\",\n",
    "\"you'll\",\n",
    "\"she'll\",\n",
    "\"he'll\",\n",
    "\"it's\",\n",
    "\"don't\",\n",
    "\"can't\",\n",
    "\"didn't\",\n",
    "\"i've\",\n",
    "\"that's\",\n",
    "\"there's\",\n",
    "\"isn't\",\n",
    "\"what's\",\n",
    "\"rt\",\n",
    "\"doesn't\",\n",
    "\"w/\",\n",
    "\"w/o\",\n",
    "\"#pb#po\",\n",
    "\"#pb#re\",\n",
    "\"#pb#rt\",\n",
    "\"#pb#me\" ,\n",
    "\"share\",\n",
    "\"time\",\n",
    "\"today\", \n",
    "\"weekend\", \n",
    "\"we’re\", \"world\", \"pm\", \"time\", \"dn\"\n",
    "]\n",
    "    for tweet in input_list:\n",
    "        nonstopwd_tweets=[word for word in tweet if word not in (stopwords.words('english'))]\n",
    "        nonstopwd_tweets=[word for word in tweet if word not in swords_mlist]\n",
    "        nonstopwd_tweets_list.append(nonstopwd_tweets)\n",
    "    return nonstopwd_tweets_list\n",
    "\n",
    "# lematize the word from worked to work\n",
    "def lematization(input_list):\n",
    "    lemma_tweets_list=[]\n",
    "    lemma = WordNetLemmatizer()\n",
    "    for tweet in input_list:\n",
    "        lemma_tweet=[lemma.lemmatize(word) for word in tweet]\n",
    "        lemma_tweets_list.append(lemma_tweet)\n",
    "    return lemma_tweets_list\n",
    "\n",
    "# count the word frequency\n",
    "def term_frequency(text):\n",
    "    count_all = Counter()\n",
    "    final_list = []\n",
    "    for tweet in text:\n",
    "        for word in tweet:\n",
    "            final_list.append(word)\n",
    "    count_all.update(final_list)\n",
    "    return count_all\n",
    "        \n",
    "def list_to_string(input_list):\n",
    "    result_list=[]\n",
    "    for tweet in input_list:\n",
    "        line=' '.join(tweet)\n",
    "        result_list.append(line)\n",
    "    return result_list"
   ]
  },
  {
   "cell_type": "code",
   "execution_count": 367,
   "metadata": {},
   "outputs": [
    {
     "name": "stderr",
     "output_type": "stream",
     "text": [
      "Skipping line 5: '^' expected after '\"'\n",
      "Skipping line 23: '^' expected after '\"'\n",
      "Skipping line 24: '^' expected after '\"'\n",
      "Skipping line 26: '^' expected after '\"'\n",
      "Skipping line 367: '^' expected after '\"'\n",
      "Skipping line 489: '^' expected after '\"'\n",
      "Skipping line 469: '^' expected after '\"'\n",
      "Skipping line 353: '^' expected after '\"'\n",
      "Skipping line 467: '^' expected after '\"'\n",
      "Skipping line 197: '^' expected after '\"'\n",
      "Skipping line 247: '^' expected after '\"'\n",
      "Skipping line 248: '^' expected after '\"'\n",
      "Skipping line 249: '^' expected after '\"'\n",
      "Skipping line 253: '^' expected after '\"'\n",
      "Skipping line 255: '^' expected after '\"'\n",
      "Skipping line 258: '^' expected after '\"'\n",
      "Skipping line 259: '^' expected after '\"'\n",
      "Skipping line 263: '^' expected after '\"'\n",
      "Skipping line 266: '^' expected after '\"'\n",
      "Skipping line 267: '^' expected after '\"'\n",
      "Skipping line 268: '^' expected after '\"'\n",
      "Skipping line 272: '^' expected after '\"'\n",
      "Skipping line 276: '^' expected after '\"'\n",
      "Skipping line 287: '^' expected after '\"'\n",
      "Skipping line 324: '^' expected after '\"'\n",
      "Skipping line 400: '^' expected after '\"'\n",
      "Skipping line 583: '^' expected after '\"'\n",
      "Skipping line 144: '^' expected after '\"'\n",
      "Skipping line 161: '^' expected after '\"'\n",
      "Skipping line 174: '^' expected after '\"'\n",
      "Skipping line 191: '^' expected after '\"'\n",
      "Skipping line 311: '^' expected after '\"'\n",
      "Skipping line 318: '^' expected after '\"'\n",
      "Skipping line 399: '^' expected after '\"'\n",
      "Skipping line 491: '^' expected after '\"'\n",
      "Skipping line 544: '^' expected after '\"'\n",
      "Skipping line 547: '^' expected after '\"'\n",
      "Skipping line 738: '^' expected after '\"'\n",
      "Skipping line 742: '^' expected after '\"'\n",
      "Skipping line 768: '^' expected after '\"'\n",
      "Skipping line 791: '^' expected after '\"'\n",
      "Skipping line 365: '^' expected after '\"'\n",
      "Skipping line 394: '^' expected after '\"'\n",
      "Skipping line 186: '^' expected after '\"'\n",
      "Skipping line 336: '^' expected after '\"'\n",
      "Skipping line 603: '^' expected after '\"'\n",
      "Skipping line 78: Expected 3 fields in line 78, saw 5\n",
      "Skipping line 153: '^' expected after '\"'\n",
      "Skipping line 196: '^' expected after '\"'\n",
      "Skipping line 288: '^' expected after '\"'\n",
      "Skipping line 510: '^' expected after '\"'\n",
      "Skipping line 526: '^' expected after '\"'\n",
      "Skipping line 745: '^' expected after '\"'\n",
      "Skipping line 237: '^' expected after '\"'\n",
      "Skipping line 197: '^' expected after '\"'\n",
      "Skipping line 247: '^' expected after '\"'\n",
      "Skipping line 248: '^' expected after '\"'\n",
      "Skipping line 249: '^' expected after '\"'\n",
      "Skipping line 253: '^' expected after '\"'\n",
      "Skipping line 255: '^' expected after '\"'\n",
      "Skipping line 258: '^' expected after '\"'\n",
      "Skipping line 259: '^' expected after '\"'\n",
      "Skipping line 263: '^' expected after '\"'\n",
      "Skipping line 266: '^' expected after '\"'\n",
      "Skipping line 267: '^' expected after '\"'\n",
      "Skipping line 268: '^' expected after '\"'\n",
      "Skipping line 272: '^' expected after '\"'\n",
      "Skipping line 276: '^' expected after '\"'\n",
      "Skipping line 287: '^' expected after '\"'\n",
      "Skipping line 324: '^' expected after '\"'\n",
      "Skipping line 400: '^' expected after '\"'\n",
      "Skipping line 583: '^' expected after '\"'\n",
      "Skipping line 365: '^' expected after '\"'\n",
      "Skipping line 394: '^' expected after '\"'\n",
      "Skipping line 78: Expected 3 fields in line 78, saw 5\n",
      "Skipping line 469: '^' expected after '\"'\n",
      "Skipping line 186: '^' expected after '\"'\n",
      "Skipping line 336: '^' expected after '\"'\n",
      "Skipping line 603: '^' expected after '\"'\n",
      "Skipping line 237: '^' expected after '\"'\n",
      "Skipping line 353: '^' expected after '\"'\n",
      "Skipping line 467: '^' expected after '\"'\n",
      "Skipping line 144: '^' expected after '\"'\n",
      "Skipping line 161: '^' expected after '\"'\n",
      "Skipping line 174: '^' expected after '\"'\n",
      "Skipping line 191: '^' expected after '\"'\n",
      "Skipping line 311: '^' expected after '\"'\n",
      "Skipping line 318: '^' expected after '\"'\n",
      "Skipping line 399: '^' expected after '\"'\n",
      "Skipping line 491: '^' expected after '\"'\n",
      "Skipping line 544: '^' expected after '\"'\n",
      "Skipping line 547: '^' expected after '\"'\n",
      "Skipping line 738: '^' expected after '\"'\n",
      "Skipping line 742: '^' expected after '\"'\n",
      "Skipping line 768: '^' expected after '\"'\n",
      "Skipping line 791: '^' expected after '\"'\n",
      "Skipping line 153: '^' expected after '\"'\n",
      "Skipping line 196: '^' expected after '\"'\n",
      "Skipping line 288: '^' expected after '\"'\n",
      "Skipping line 510: '^' expected after '\"'\n",
      "Skipping line 526: '^' expected after '\"'\n",
      "Skipping line 745: '^' expected after '\"'\n"
     ]
    }
   ],
   "source": [
    "#positive dataframe\n",
    "samsungsg_df=read_as_df('/Users/yyb/Documents/5920_Projects/New_data_collection_0312/Positive/','SamsungSG')\n",
    "samsungsg_df=samsungsg_df.dropna().reset_index(drop=True)\n",
    "\n",
    "#negative dataframe\n",
    "negative_folder_path='/Users/yyb/Documents/5920_Projects/New_data_collection_0312/Negative/'\n",
    "negative_filenames=[f for f in listdir(negative_folder_path) if isfile(join(negative_folder_path,f))]\n",
    "try:\n",
    "    negative_filenames.remove('.DS_Store')\n",
    "    negative_filenames.remove('negative_v1.txt') # the final combine file, have only one column\n",
    "except:\n",
    "    pass\n",
    "\n",
    "for name in negative_filenames:\n",
    "    name=name.split('.')[0]\n",
    "    N_df=read_as_df(negative_folder_path,name)\n",
    "    #if len(N_df.index)>500:\n",
    "        #print(name+': '+str(len(N_df.index)))\n",
    "    #print(name+': '+str(len(N_df.index)))\n",
    "    \n",
    "#dataset dataframe extraction\n",
    "MOEsg_df       =read_as_df(negative_folder_path,'MOEsg')\n",
    "kiasuparents_df=read_as_df(negative_folder_path,'kiasuparents')\n",
    "ilovedealssg_df=read_as_df(negative_folder_path,'ilovedealssg')\n",
    "JoannePeh_df   =read_as_df(negative_folder_path,'JoannePeh')\n",
    "Camemberu_df   =read_as_df(negative_folder_path,'Camemberu')\n",
    "premierleague_df=read_as_df(negative_folder_path,'premierleague')\n",
    "sgbroadcast_df =read_as_df(negative_folder_path,'sgbroadcast')\n",
    "mtvasia_df     =read_as_df(negative_folder_path,'mtvasia')\n",
    "SGAG_SG_df     =read_as_df(negative_folder_path,'SGAG_SG')\n",
    "\n",
    "#dataframe combine\n",
    "new_df=pd.concat([samsungsg_df,MOEsg_df,kiasuparents_df,ilovedealssg_df,JoannePeh_df,\n",
    "                 Camemberu_df, premierleague_df, sgbroadcast_df, mtvasia_df, SGAG_SG_df ], axis=0)\n",
    "new_df=new_df.dropna().reset_index(drop=True)\n",
    "new_df=new_df.drop_duplicates()\n",
    "\n",
    "#save to file\n",
    "samsungsg_list=list(new_df.loc[new_df['account']=='SamsungSG']['tweets'])\n",
    "for i in samsungsg_list:\n",
    "    with open('/Users/yyb/Documents/5920_Projects/PositiveDataset/samsungsg_v2.txt','a') as txtfile:\n",
    "        txtfile.write(i+'\\n')\n",
    "\n",
    "negative_list=list(new_df.loc[new_df['account']!='SamsungSG']['tweets'])\n",
    "for i in negative_list:\n",
    "    with open('/Users/yyb/Documents/5920_Projects/NegativeDataset/negative_v2.txt','a') as txtfile:\n",
    "        txtfile.write(i+'\\n')\n",
    "        \n",
    "#get positive training data      \n",
    "posi_list=read_as_list('/Users/yyb/Documents/5920_Projects/PositiveDataset/samsungsg_v2.txt')\n",
    "posi_list=strip_drop_duplicated(posi_list)\n",
    "posi_list=remove_symbols(posi_list)\n",
    "posi_list=standardize(posi_list)\n",
    "posi_list=stop_word_removal(posi_list)\n",
    "posi_list=lematization(posi_list)\n",
    "\n",
    "#get negative training data      \n",
    "nega_list=read_as_list('/Users/yyb/Documents/5920_Projects/NegativeDataset/negative_v2.txt')\n",
    "nega_list=strip_drop_duplicated(nega_list)\n",
    "nega_list=remove_symbols(nega_list)\n",
    "nega_list=standardize(nega_list)\n",
    "nega_list=stop_word_removal(nega_list)\n",
    "nega_list=lematization(nega_list)    "
   ]
  },
  {
   "cell_type": "code",
   "execution_count": 368,
   "metadata": {},
   "outputs": [
    {
     "name": "stdout",
     "output_type": "stream",
     "text": [
      "550 5307\n"
     ]
    }
   ],
   "source": [
    "print(len(posi_list),len(nega_list))"
   ]
  },
  {
   "cell_type": "code",
   "execution_count": 369,
   "metadata": {
    "collapsed": true
   },
   "outputs": [],
   "source": [
    "import operator \n",
    "import json\n",
    "from collections import Counter\n",
    "\n",
    "def TF_cal(input_list,most_common_num):\n",
    " \n",
    "    result_list=[]\n",
    "    count_all = Counter()\n",
    "    for line in input_list:\n",
    "        for word in line:\n",
    "            result_list.append(word)\n",
    "\n",
    "    count_all = Counter()\n",
    "    count_all.update(result_list)\n",
    "    print(count_all.most_common(most_common_num))"
   ]
  },
  {
   "cell_type": "code",
   "execution_count": 370,
   "metadata": {},
   "outputs": [
    {
     "name": "stdout",
     "output_type": "stream",
     "text": [
      "[('galaxy', 53), ('samsung', 51), ('win', 29), ('make', 26), ('feature', 25), ('experience', 22), ('favourite', 22), ('life', 22), ('enjoy', 21), ('love', 21)]\n"
     ]
    }
   ],
   "source": [
    "TF_cal(posi_list,10)"
   ]
  },
  {
   "cell_type": "code",
   "execution_count": 371,
   "metadata": {},
   "outputs": [
    {
     "name": "stdout",
     "output_type": "stream",
     "text": [
      "[('student', 220), ('singapore', 220), ('day', 219), ('catch', 194), ('year', 179), ('live', 164), ('school', 161), ('child', 158), ('win', 148), ('show', 130)]\n"
     ]
    }
   ],
   "source": [
    "TF_cal(nega_list,10)"
   ]
  },
  {
   "cell_type": "markdown",
   "metadata": {},
   "source": [
    "## organize the training dataset"
   ]
  },
  {
   "cell_type": "code",
   "execution_count": 372,
   "metadata": {
    "collapsed": true
   },
   "outputs": [],
   "source": [
    "# oversampling rate\n",
    "n = 1"
   ]
  },
  {
   "cell_type": "code",
   "execution_count": 373,
   "metadata": {},
   "outputs": [
    {
     "data": {
      "text/plain": [
       "5857"
      ]
     },
     "execution_count": 373,
     "metadata": {},
     "output_type": "execute_result"
    }
   ],
   "source": [
    "# oversampling the minority dataset\n",
    "str_posi_list=list_to_string(posi_list)\n",
    "new_posi_list=str_posi_list*n\n",
    "\n",
    "# get the majority data\n",
    "new_nega_list=list_to_string(nega_list)\n",
    "\n",
    "# combine the training dataset\n",
    "X_train=new_posi_list+new_nega_list\n",
    "\n",
    "# assign labels to them\n",
    "#---------------------------this part would be modified later--------------------------#\n",
    "#Y_train=['T']*len(posi_list)*n+['F']*len(nega_list)\n",
    "Y_train=[1]*len(posi_list)*n+[0]*len(nega_list)\n",
    "\n",
    "\n",
    "len(X_train)"
   ]
  },
  {
   "cell_type": "markdown",
   "metadata": {},
   "source": [
    "## Feature selection"
   ]
  },
  {
   "cell_type": "code",
   "execution_count": 374,
   "metadata": {
    "collapsed": true
   },
   "outputs": [],
   "source": [
    "# Extracting TF and TF-IDF features and building matrix\n",
    "from sklearn.feature_extraction.text import TfidfVectorizer\n",
    "tfidf_vectorizer = TfidfVectorizer()\n",
    "X_tfidf_matrix = tfidf_vectorizer.fit_transform(X_train)\n",
    "\n",
    "from sklearn.feature_extraction.text import CountVectorizer  \n",
    "count_vectorizer = CountVectorizer()\n",
    "X_count_matrix = count_vectorizer.fit_transform(X_train)\n",
    "\n",
    "# get useful variables\n",
    "feature_names = tfidf_vectorizer.get_feature_names()          # 特征名  \n",
    "freWordVector_df = pd.DataFrame(X_count_matrix.toarray()) # 全词库 词频 向量矩阵  \n",
    "tfidf_df = pd.DataFrame(X_tfidf_matrix.toarray())  "
   ]
  },
  {
   "cell_type": "markdown",
   "metadata": {},
   "source": [
    "## Resampling"
   ]
  },
  {
   "cell_type": "markdown",
   "metadata": {},
   "source": [
    "### Random oversampling"
   ]
  },
  {
   "cell_type": "code",
   "execution_count": 158,
   "metadata": {},
   "outputs": [
    {
     "name": "stdout",
     "output_type": "stream",
     "text": [
      "[(0, 5207), (1, 5207)]\n"
     ]
    }
   ],
   "source": [
    "from imblearn.over_sampling import RandomOverSampler\n",
    "\n",
    "ros = RandomOverSampler(random_state=1) ####change random_state to change to another sampling way\n",
    "#X_resampled, y_resampled = ros.fit_sample(X_tfidf_matrix, Y_train)\n",
    "X_resampled, y_resampled = ros.fit_sample(X_count_matrix, Y_train)\n",
    "\n",
    "from collections import Counter\n",
    "print(sorted(Counter(y_resampled).items()))"
   ]
  },
  {
   "cell_type": "code",
   "execution_count": 159,
   "metadata": {},
   "outputs": [
    {
     "data": {
      "text/plain": [
       "(10414, 5000)"
      ]
     },
     "execution_count": 159,
     "metadata": {},
     "output_type": "execute_result"
    }
   ],
   "source": [
    "#chi-square test\n",
    "from sklearn.feature_selection import chi2\n",
    "# http://www.learn4master.com/algorithms/chi-square-test-for-feature-selection understand chi square\n",
    "# https://de.dariah.eu/tatom/feature_selection.html original code for chi square test\n",
    "\n",
    "# compute chi2 for each feature\n",
    "chi2score = chi2(X_resampled, y_resampled)[0]\n",
    "from sklearn.feature_selection import SelectKBest, chi2  \n",
    "ch2 = SelectKBest(chi2, k=5000)  \n",
    "chi_filter_training = ch2.fit_transform(X_resampled, y_resampled)  \n",
    "chi_filter_training.shape"
   ]
  },
  {
   "cell_type": "markdown",
   "metadata": {},
   "source": [
    "### Smote"
   ]
  },
  {
   "cell_type": "code",
   "execution_count": 375,
   "metadata": {},
   "outputs": [
    {
     "name": "stdout",
     "output_type": "stream",
     "text": [
      "Resampled dataset shape Counter({1: 5307, 0: 5307})\n"
     ]
    }
   ],
   "source": [
    "from collections import Counter\n",
    "from imblearn.over_sampling import SMOTE \n",
    "\n",
    "sm = SMOTE(random_state=1)\n",
    "X_resampled, y_resampled = sm.fit_sample(X_tfidf_matrix, Y_train)\n",
    "#X_resampled, y_resampled = ros.fit_sample(X_count_matrix, Y_train)\n",
    "print('Resampled dataset shape {}'.format(Counter(y_resampled)))"
   ]
  },
  {
   "cell_type": "code",
   "execution_count": 376,
   "metadata": {},
   "outputs": [
    {
     "data": {
      "text/plain": [
       "(10614, 4000)"
      ]
     },
     "execution_count": 376,
     "metadata": {},
     "output_type": "execute_result"
    }
   ],
   "source": [
    "#chi-square test\n",
    "from sklearn.feature_selection import chi2\n",
    "# http://www.learn4master.com/algorithms/chi-square-test-for-feature-selection understand chi square\n",
    "# https://de.dariah.eu/tatom/feature_selection.html original code for chi square test\n",
    "\n",
    "# compute chi2 for each feature\n",
    "chi2score = chi2(X_resampled, y_resampled)[0]\n",
    "from sklearn.feature_selection import SelectKBest, chi2  \n",
    "ch2 = SelectKBest(chi2, k=4000)  \n",
    "chi_filter_training = ch2.fit_transform(X_resampled, y_resampled)  \n",
    "chi_filter_training.shape"
   ]
  },
  {
   "cell_type": "markdown",
   "metadata": {},
   "source": [
    "### ADASYN"
   ]
  },
  {
   "cell_type": "code",
   "execution_count": 247,
   "metadata": {},
   "outputs": [
    {
     "name": "stdout",
     "output_type": "stream",
     "text": [
      "[(0, 5307), (1, 5199)]\n"
     ]
    }
   ],
   "source": [
    "from collections import Counter\n",
    "from imblearn.over_sampling import ADASYN\n",
    "\n",
    "X_resampled, y_resampled = ADASYN().fit_sample(X_tfidf_matrix, Y_train)\n",
    "print(sorted(Counter(y_resampled).items()))"
   ]
  },
  {
   "cell_type": "code",
   "execution_count": 248,
   "metadata": {},
   "outputs": [
    {
     "data": {
      "text/plain": [
       "(10506, 4000)"
      ]
     },
     "execution_count": 248,
     "metadata": {},
     "output_type": "execute_result"
    }
   ],
   "source": [
    "#chi-square test\n",
    "from sklearn.feature_selection import chi2\n",
    "# http://www.learn4master.com/algorithms/chi-square-test-for-feature-selection understand chi square\n",
    "# https://de.dariah.eu/tatom/feature_selection.html original code for chi square test\n",
    "\n",
    "# compute chi2 for each feature\n",
    "chi2score = chi2(X_resampled, y_resampled)[0]\n",
    "from sklearn.feature_selection import SelectKBest, chi2  \n",
    "ch2 = SelectKBest(chi2, k=4000)  \n",
    "chi_filter_training = ch2.fit_transform(X_resampled, y_resampled)  \n",
    "chi_filter_training.shape"
   ]
  },
  {
   "cell_type": "markdown",
   "metadata": {},
   "source": [
    "### Random under sampling "
   ]
  },
  {
   "cell_type": "code",
   "execution_count": 443,
   "metadata": {},
   "outputs": [
    {
     "name": "stdout",
     "output_type": "stream",
     "text": [
      "[(0, 550), (1, 550)]\n"
     ]
    }
   ],
   "source": [
    "from imblearn.under_sampling import RandomUnderSampler\n",
    "rus = RandomUnderSampler(random_state=2)\n",
    "X_resampled, y_resampled = rus.fit_sample(X_tfidf_matrix, Y_train)\n",
    "print(sorted(Counter(y_resampled).items()))"
   ]
  },
  {
   "cell_type": "code",
   "execution_count": 444,
   "metadata": {},
   "outputs": [
    {
     "data": {
      "text/plain": [
       "(1100, 2000)"
      ]
     },
     "execution_count": 444,
     "metadata": {},
     "output_type": "execute_result"
    }
   ],
   "source": [
    "#chi-square test\n",
    "from sklearn.feature_selection import chi2\n",
    "# http://www.learn4master.com/algorithms/chi-square-test-for-feature-selection understand chi square\n",
    "# https://de.dariah.eu/tatom/feature_selection.html original code for chi square test\n",
    "\n",
    "# compute chi2 for each feature\n",
    "chi2score = chi2(X_resampled, y_resampled)[0]\n",
    "from sklearn.feature_selection import SelectKBest, chi2  \n",
    "ch2 = SelectKBest(chi2, k=2000)  \n",
    "chi_filter_training = ch2.fit_transform(X_resampled, y_resampled)  \n",
    "chi_filter_training.shape"
   ]
  },
  {
   "cell_type": "markdown",
   "metadata": {},
   "source": [
    "### Under sampling ClusterCentroids"
   ]
  },
  {
   "cell_type": "code",
   "execution_count": 145,
   "metadata": {},
   "outputs": [
    {
     "name": "stdout",
     "output_type": "stream",
     "text": [
      "[(0, 543), (1, 543)]\n"
     ]
    }
   ],
   "source": [
    "from imblearn.under_sampling import ClusterCentroids\n",
    "cc = ClusterCentroids(random_state=0)\n",
    "X_resampled, y_resampled = cc.fit_sample(X_tfidf_matrix, Y_train)\n",
    "print(sorted(Counter(y_resampled).items()))"
   ]
  },
  {
   "cell_type": "code",
   "execution_count": 146,
   "metadata": {},
   "outputs": [
    {
     "data": {
      "text/plain": [
       "(1086, 5000)"
      ]
     },
     "execution_count": 146,
     "metadata": {},
     "output_type": "execute_result"
    }
   ],
   "source": [
    "#chi-square test\n",
    "from sklearn.feature_selection import chi2\n",
    "# http://www.learn4master.com/algorithms/chi-square-test-for-feature-selection understand chi square\n",
    "# https://de.dariah.eu/tatom/feature_selection.html original code for chi square test\n",
    "\n",
    "# compute chi2 for each feature\n",
    "chi2score = chi2(X_resampled, y_resampled)[0]\n",
    "from sklearn.feature_selection import SelectKBest, chi2  \n",
    "ch2 = SelectKBest(chi2, k=5000)  \n",
    "chi_filter_training = ch2.fit_transform(X_resampled, y_resampled)  \n",
    "chi_filter_training.shape"
   ]
  },
  {
   "cell_type": "code",
   "execution_count": null,
   "metadata": {
    "collapsed": true
   },
   "outputs": [],
   "source": []
  },
  {
   "cell_type": "code",
   "execution_count": null,
   "metadata": {
    "collapsed": true
   },
   "outputs": [],
   "source": [
    "import pandas as pd\n",
    "import numpy as np\n",
    "all_list=[]\n",
    "for i in range(3,30,2):\n",
    "    temp_list=[]\n",
    "    for j in range(1,11):\n",
    "        seed = j\n",
    "        cart = LogisticRegression()\n",
    "        num_trees = i\n",
    "        model = BaggingClassifier(base_estimator=cart, n_estimators=num_trees, random_state=seed)\n",
    "        model.fit(chi_filter_training, y_resampled)\n",
    "\n",
    "        predicted_Bagging =model.predict(X_test)\n",
    "        temp_list.append(np.mean(predicted_Bagging == X_test_target_num))\n",
    "    new_column = np.array(temp_list)\n",
    "    all_list.append(new_column)\n",
    "    print('finish the '+str(i)+' classifier’)\n",
    "\n"
   ]
  },
  {
   "cell_type": "code",
   "execution_count": null,
   "metadata": {
    "collapsed": true
   },
   "outputs": [],
   "source": [
    "import matplotlib.pyplot as plt\n",
    "\n",
    "fig = plt.figure(1, figsize=(9, 6))\n",
    "plt.title('My first plot')\n",
    "plt.ylabel('Accuracy')\n",
    "plt.xlabel('Number of classifiers')\n",
    "#index = [0,1,2,3,4]\n",
    "plt.boxplot(dataT)\n",
    "plt.show()"
   ]
  },
  {
   "cell_type": "markdown",
   "metadata": {},
   "source": [
    "## ML algorithms¶"
   ]
  },
  {
   "cell_type": "code",
   "execution_count": 377,
   "metadata": {},
   "outputs": [],
   "source": [
    "# Train the algorithm\n",
    "\n",
    "from sklearn.naive_bayes import MultinomialNB\n",
    "from sklearn.linear_model import LogisticRegression\n",
    "from sklearn import svm\n",
    "from sklearn import metrics\n",
    "\n",
    "#NB\n",
    "NB_clf = MultinomialNB().fit(chi_filter_training, y_resampled) \n",
    "#NB_clf = MultinomialNB().fit(X_resampled, y_resampled)  \n",
    "\n",
    "#LR\n",
    "logreg = LogisticRegression().fit(chi_filter_training, y_resampled)\n",
    "#logreg = LogisticRegression().fit(X_resampled, y_resampled)\n",
    "\n",
    "#SVM\n",
    "SVM_clf = svm.SVC().fit(chi_filter_training, y_resampled)  \n",
    "#SVM_clf = svm.LinearSVC().fit(X_resampled, y_resampled)   \n",
    "\n",
    "#neural network\n",
    "from sklearn.neural_network import MLPClassifier\n",
    "NN_clf = MLPClassifier(solver='lbfgs', alpha=1e-5,hidden_layer_sizes=(15, ), random_state=1).fit(chi_filter_training, y_resampled)  "
   ]
  },
  {
   "cell_type": "markdown",
   "metadata": {},
   "source": [
    "## Test dataset \n"
   ]
  },
  {
   "cell_type": "code",
   "execution_count": 448,
   "metadata": {
    "collapsed": true
   },
   "outputs": [],
   "source": [
    "from os import listdir\n",
    "from os.path import isfile, join\n",
    "#posi_test_path = '/Users/yyb/Documents/5920_Projects/followers_tweets_filter/positive_labeled_users'\n",
    "#posi_test_files = [f for f in listdir(posi_test_path) if isfile(join(posi_test_path,f))]\n",
    "posi_test_list=read_as_list('/Users/yyb/Documents/5920_Projects/followers_tweets_filter/positive_labeled_users/inc_asean.txt')\n",
    "posi_test_list=strip_drop_duplicated(posi_test_list)\n",
    "posi_test_list=remove_symbols(posi_test_list)\n",
    "posi_test_list=standardize(posi_test_list)\n",
    "posi_test_list=stop_word_removal(posi_test_list)\n",
    "posi_test_list=lematization(posi_test_list)\n",
    "\n",
    "posi_test_list=list_to_string(posi_test_list)\n",
    "\n",
    "filepath='/Users/yyb/Documents/5920_Projects/followers_tweets_filter/positive_labeled_users/test_data_label.txt'\n",
    "labeled_df = pd.read_csv(filepath, delimiter=\"^\", header=None,error_bad_lines=False,engine='python')\n",
    "labeled_df.columns = ['labels',\"tweets\", \"time\", \"date\"]\n",
    "\n",
    "labeled_test=read_as_list('/Users/yyb/Documents/5920_Projects/followers_tweets_filter/positive_labeled_users/test_data_only_tweets.txt')\n",
    "labeled_test=remove_symbols(labeled_test)\n",
    "labeled_test=standardize(labeled_test)\n",
    "labeled_test=stop_word_removal(labeled_test)\n",
    "labeled_test=lematization(labeled_test)\n",
    "\n",
    "# get the labels of the targets\n",
    "X_test_target=np.array(labeled_df['labels'])\n",
    "\n",
    "# define the test data\n",
    "labeled_test=list_to_string(labeled_test)"
   ]
  },
  {
   "cell_type": "code",
   "execution_count": 449,
   "metadata": {},
   "outputs": [
    {
     "data": {
      "text/plain": [
       "(100, 2000)"
      ]
     },
     "execution_count": 449,
     "metadata": {},
     "output_type": "execute_result"
    }
   ],
   "source": [
    "X_test = ch2.transform(tfidf_vectorizer.transform(labeled_test))\n",
    "#X_test = tfidf_vectorizer.transform(labeled_test)\n",
    "X_test.shape"
   ]
  },
  {
   "cell_type": "code",
   "execution_count": 450,
   "metadata": {
    "collapsed": true
   },
   "outputs": [],
   "source": [
    "X_test_target_list=list(X_test_target)\n",
    "X_test_target_num=[]\n",
    "for i in X_test_target_list:\n",
    "    if i =='T':\n",
    "        X_test_target_num.append(1)\n",
    "    else:\n",
    "        X_test_target_num.append(0)\n",
    "len(X_test_target_num)\n",
    "X_test_target_num=np.array(X_test_target_num)"
   ]
  },
  {
   "cell_type": "markdown",
   "metadata": {},
   "source": [
    "## Result"
   ]
  },
  {
   "cell_type": "markdown",
   "metadata": {},
   "source": [
    "## NB"
   ]
  },
  {
   "cell_type": "code",
   "execution_count": 390,
   "metadata": {},
   "outputs": [],
   "source": [
    "predicted_NB =NB_clf.predict(X_test)"
   ]
  },
  {
   "cell_type": "code",
   "execution_count": 391,
   "metadata": {},
   "outputs": [
    {
     "name": "stdout",
     "output_type": "stream",
     "text": [
      "0.72\n"
     ]
    }
   ],
   "source": [
    "#np.mean(predicted_NB == X_test_target)\n",
    "from sklearn.metrics import accuracy_score\n",
    "print(accuracy_score(X_test_target_num, predicted_NB))"
   ]
  },
  {
   "cell_type": "code",
   "execution_count": 392,
   "metadata": {},
   "outputs": [
    {
     "name": "stdout",
     "output_type": "stream",
     "text": [
      "             precision    recall  f1-score   support\n",
      "\n",
      "          F       0.68      0.84      0.75        50\n",
      "          T       0.79      0.60      0.68        50\n",
      "\n",
      "avg / total       0.73      0.72      0.72       100\n",
      "\n"
     ]
    }
   ],
   "source": [
    "from sklearn.metrics import classification_report\n",
    "target_names = ['F','T']\n",
    "print(classification_report(X_test_target_num, predicted_NB, target_names=target_names))"
   ]
  },
  {
   "cell_type": "code",
   "execution_count": 395,
   "metadata": {},
   "outputs": [
    {
     "data": {
      "text/plain": [
       "array([0, 0])"
      ]
     },
     "execution_count": 395,
     "metadata": {},
     "output_type": "execute_result"
    }
   ],
   "source": []
  },
  {
   "cell_type": "markdown",
   "metadata": {},
   "source": [
    "## LR"
   ]
  },
  {
   "cell_type": "code",
   "execution_count": 335,
   "metadata": {},
   "outputs": [
    {
     "data": {
      "text/plain": [
       "0.75"
      ]
     },
     "execution_count": 335,
     "metadata": {},
     "output_type": "execute_result"
    }
   ],
   "source": [
    "#https://towardsdatascience.com/building-a-logistic-regression-in-python-step-by-step-becd4d56c9c8\n",
    "predicted_LR =logreg.predict(X_test)\n",
    "np.mean(predicted_LR == X_test_target_num)"
   ]
  },
  {
   "cell_type": "code",
   "execution_count": 336,
   "metadata": {
    "scrolled": false
   },
   "outputs": [
    {
     "name": "stdout",
     "output_type": "stream",
     "text": [
      "             precision    recall  f1-score   support\n",
      "\n",
      "          F       0.70      0.86      0.77        50\n",
      "          T       0.82      0.64      0.72        50\n",
      "\n",
      "avg / total       0.76      0.75      0.75       100\n",
      "\n"
     ]
    }
   ],
   "source": [
    "target_names = ['F','T']\n",
    "print(classification_report(X_test_target_num, predicted_LR, target_names=target_names))"
   ]
  },
  {
   "cell_type": "code",
   "execution_count": 136,
   "metadata": {},
   "outputs": [
    {
     "data": {
      "image/png": "[encoded data removed]",
      "text/plain": [
       "<matplotlib.figure.Figure at 0x1437b29b0>"
      ]
     },
     "metadata": {},
     "output_type": "display_data"
    }
   ],
   "source": [
    "#ROC curve\n",
    "from sklearn.metrics import roc_auc_score\n",
    "from sklearn.metrics import roc_curve\n",
    "import matplotlib.pyplot as plt \n",
    "logit_roc_auc = roc_auc_score(X_test_target_num, logreg.predict(X_test))\n",
    "fpr, tpr, thresholds = roc_curve(X_test_target_num, logreg.predict_proba(X_test)[:,1])\n",
    "plt.figure()\n",
    "plt.plot(fpr, tpr, label='Logistic Regression (area = %0.2f)' % logit_roc_auc)\n",
    "plt.plot([0, 1], [0, 1],'r--')\n",
    "plt.xlim([0.0, 1.0])\n",
    "plt.ylim([0.0, 1.05])\n",
    "plt.xlabel('False Positive Rate')\n",
    "plt.ylabel('True Positive Rate')\n",
    "plt.title('Receiver operating characteristic')\n",
    "plt.legend(loc=\"lower right\")\n",
    "plt.savefig('Log_ROC')\n",
    "plt.show()"
   ]
  },
  {
   "cell_type": "markdown",
   "metadata": {},
   "source": [
    "## SVM"
   ]
  },
  {
   "cell_type": "code",
   "execution_count": 337,
   "metadata": {},
   "outputs": [
    {
     "data": {
      "text/plain": [
       "0.73999999999999999"
      ]
     },
     "execution_count": 337,
     "metadata": {},
     "output_type": "execute_result"
    }
   ],
   "source": [
    "predicted_SVM =SVM_clf.predict(X_test)\n",
    "np.mean(predicted_SVM == X_test_target_num)"
   ]
  },
  {
   "cell_type": "code",
   "execution_count": 338,
   "metadata": {
    "scrolled": false
   },
   "outputs": [
    {
     "name": "stdout",
     "output_type": "stream",
     "text": [
      "             precision    recall  f1-score   support\n",
      "\n",
      "          F       0.71      0.80      0.75        50\n",
      "          T       0.77      0.68      0.72        50\n",
      "\n",
      "avg / total       0.74      0.74      0.74       100\n",
      "\n"
     ]
    }
   ],
   "source": [
    "target_names = ['F','T']\n",
    "print(classification_report(X_test_target_num, predicted_SVM, target_names=target_names))"
   ]
  },
  {
   "cell_type": "markdown",
   "metadata": {},
   "source": [
    "## Neural Network"
   ]
  },
  {
   "cell_type": "code",
   "execution_count": 139,
   "metadata": {},
   "outputs": [
    {
     "data": {
      "text/plain": [
       "0.76000000000000001"
      ]
     },
     "execution_count": 139,
     "metadata": {},
     "output_type": "execute_result"
    }
   ],
   "source": [
    "predicted_NN =NN_clf.predict(X_test)\n",
    "np.mean(predicted_NN == X_test_target_num)"
   ]
  },
  {
   "cell_type": "code",
   "execution_count": 140,
   "metadata": {},
   "outputs": [
    {
     "name": "stdout",
     "output_type": "stream",
     "text": [
      "             precision    recall  f1-score   support\n",
      "\n",
      "          F       0.84      0.64      0.73        50\n",
      "          T       0.71      0.88      0.79        50\n",
      "\n",
      "avg / total       0.78      0.76      0.76       100\n",
      "\n"
     ]
    }
   ],
   "source": [
    "target_names = ['F','T']\n",
    "print(classification_report(X_test_target_num, predicted_NN, target_names=target_names))"
   ]
  },
  {
   "cell_type": "markdown",
   "metadata": {},
   "source": [
    "## Bagging"
   ]
  },
  {
   "cell_type": "code",
   "execution_count": 340,
   "metadata": {},
   "outputs": [
    {
     "data": {
      "text/plain": [
       "BaggingClassifier(base_estimator=LogisticRegression(C=1.0, class_weight=None, dual=False, fit_intercept=True,\n",
       "          intercept_scaling=1, max_iter=100, multi_class='ovr', n_jobs=1,\n",
       "          penalty='l2', random_state=None, solver='liblinear', tol=0.0001,\n",
       "          verbose=0, warm_start=False),\n",
       "         bootstrap=True, bootstrap_features=False, max_features=1.0,\n",
       "         max_samples=1.0, n_estimators=7, n_jobs=1, oob_score=False,\n",
       "         random_state=7, verbose=0, warm_start=False)"
      ]
     },
     "execution_count": 340,
     "metadata": {},
     "output_type": "execute_result"
    }
   ],
   "source": [
    "import pandas\n",
    "from sklearn import model_selection\n",
    "from sklearn.ensemble import BaggingClassifier\n",
    "\n",
    "seed = 7\n",
    "cart = LogisticRegression()\n",
    "#cart = DecisionTreeClassifier()\n",
    "#cart = svm.LinearSVC()\n",
    "#cart = MultinomialNB()\n",
    "num_trees = 7\n",
    "# 7:79% LR\n",
    "model = BaggingClassifier(base_estimator=cart, n_estimators=num_trees, random_state=seed)\n",
    "#model.fit(chi_filter_training, y_resampled)\n",
    "#model.fit(X_tfidf_matrix, Y_train)\n",
    "model.fit(X_resampled, y_resampled)"
   ]
  },
  {
   "cell_type": "code",
   "execution_count": 341,
   "metadata": {},
   "outputs": [
    {
     "name": "stdout",
     "output_type": "stream",
     "text": [
      "             precision    recall  f1-score   support\n",
      "\n",
      "          F       0.72      0.92      0.81        50\n",
      "          T       0.89      0.64      0.74        50\n",
      "\n",
      "avg / total       0.80      0.78      0.78       100\n",
      "\n"
     ]
    }
   ],
   "source": [
    "import sklearn\n",
    "predicted_Bagging =model.predict(X_test)\n",
    "sklearn.metrics.accuracy_score(X_test_target_num,predicted_Bagging) \n",
    "#sklearn.metrics.precision_score(X_test_target_num,predicted_Bagging) \n",
    "#sklearn.metrics.recall_score(X_test_target_num,predicted_Bagging) \n",
    "#sklearn.metrics.f1_score(X_test_target_num,predicted_Bagging) \n",
    "\n",
    "target_names = ['F','T']\n",
    "print(classification_report(X_test_target_num, predicted_Bagging, target_names=target_names))"
   ]
  },
  {
   "cell_type": "markdown",
   "metadata": {},
   "source": [
    "## Boosting"
   ]
  },
  {
   "cell_type": "code",
   "execution_count": 451,
   "metadata": {},
   "outputs": [
    {
     "data": {
      "text/plain": [
       "0.78000000000000003"
      ]
     },
     "execution_count": 451,
     "metadata": {},
     "output_type": "execute_result"
    }
   ],
   "source": [
    "from sklearn.ensemble import AdaBoostClassifier\n",
    "seed = 2\n",
    "cart = LogisticRegression()\n",
    "#cart = DecisionTreeClassifier()\n",
    "#cart = svm.LinearSVC()\n",
    "#cart = MLPClassifier(solver='lbfgs', alpha=1e-5,hidden_layer_sizes=(15, ), random_state=1)\n",
    "num_trees = 7\n",
    "model = AdaBoostClassifier(base_estimator=cart, random_state=seed)\n",
    "Adaboost_clf = model.fit(chi_filter_training, y_resampled)\n",
    "#Adaboost_clf = model.fit(X_tfidf_matrix, Y_train)\n",
    "#model.fit(X_resampled, y_resampled)\n",
    "\n",
    "predicted_Adaboosting =model.predict(X_test)\n",
    "np.mean(predicted_Adaboosting == X_test_target_num)"
   ]
  },
  {
   "cell_type": "code",
   "execution_count": 452,
   "metadata": {},
   "outputs": [
    {
     "name": "stdout",
     "output_type": "stream",
     "text": [
      "             precision    recall  f1-score   support\n",
      "\n",
      "          F       0.73      0.90      0.80        50\n",
      "          T       0.87      0.66      0.75        50\n",
      "\n",
      "avg / total       0.80      0.78      0.78       100\n",
      "\n"
     ]
    }
   ],
   "source": [
    "target_names = ['F','T']\n",
    "print(classification_report(X_test_target_num, predicted_Adaboosting, target_names=target_names))"
   ]
  },
  {
   "cell_type": "markdown",
   "metadata": {},
   "source": [
    "## Ensemble Learning"
   ]
  },
  {
   "cell_type": "code",
   "execution_count": 492,
   "metadata": {},
   "outputs": [
    {
     "name": "stdout",
     "output_type": "stream",
     "text": [
      "[ 0.86372361  0.743762    0.77735125  0.74856046  0.73487032  0.87512008\n",
      "  0.97598463  0.98270893  0.97886647  0.9807877 ]\n"
     ]
    }
   ],
   "source": [
    "#https://machinelearningmastery.com/ensemble-machine-learning-algorithms-python-scikit-learn/\n",
    "#http://scikit-learn.org/stable/modules/classes.html#module-sklearn.metrics        A variety of measurement approaches\n",
    "#http://scikit-learn.org/stable/modules/model_evaluation.html#scoring-parameter    10-cross validation\n",
    "#https://machinelearningmastery.com/metrics-evaluate-machine-learning-algorithms-python/\n",
    "\n",
    "import pandas\n",
    "from sklearn import model_selection\n",
    "from sklearn.ensemble import BaggingClassifier\n",
    "from sklearn.tree import DecisionTreeClassifier\n",
    "\n",
    "seed = 7\n",
    "kfold = model_selection.KFold(n_splits=10, random_state=seed)\n",
    "cart = DecisionTreeClassifier()\n",
    "#cart = svm.LinearSVC()\n",
    "#cart = LogisticRegression()\n",
    "num_trees = 27\n",
    "model = BaggingClassifier(base_estimator=cart, n_estimators=num_trees, random_state=seed)\n",
    "accuracy = model_selection.cross_val_score(model, chi_filter_training, y_resampled, cv=kfold)\n",
    "print(accuracy)"
   ]
  },
  {
   "cell_type": "code",
   "execution_count": 493,
   "metadata": {},
   "outputs": [
    {
     "name": "stdout",
     "output_type": "stream",
     "text": [
      "[ 0.8177496   0.          0.          0.          0.          0.79935275\n",
      "  1.          1.          1.          1.        ]\n"
     ]
    }
   ],
   "source": [
    "precision = model_selection.cross_val_score(model, chi_filter_training, y_resampled, cv=kfold, scoring='precision')\n",
    "print(precision)"
   ]
  },
  {
   "cell_type": "code",
   "execution_count": 459,
   "metadata": {},
   "outputs": [
    {
     "name": "stderr",
     "output_type": "stream",
     "text": [
      "/Users/yyb/anaconda/lib/python3.6/site-packages/sklearn/metrics/classification.py:1137: UndefinedMetricWarning: Recall is ill-defined and being set to 0.0 due to no true samples.\n",
      "  'recall', 'true', average, warn_for)\n",
      "/Users/yyb/anaconda/lib/python3.6/site-packages/sklearn/metrics/classification.py:1137: UndefinedMetricWarning: Recall is ill-defined and being set to 0.0 due to no true samples.\n",
      "  'recall', 'true', average, warn_for)\n",
      "/Users/yyb/anaconda/lib/python3.6/site-packages/sklearn/metrics/classification.py:1137: UndefinedMetricWarning: Recall is ill-defined and being set to 0.0 due to no true samples.\n",
      "  'recall', 'true', average, warn_for)\n",
      "/Users/yyb/anaconda/lib/python3.6/site-packages/sklearn/metrics/classification.py:1137: UndefinedMetricWarning: Recall is ill-defined and being set to 0.0 due to no true samples.\n",
      "  'recall', 'true', average, warn_for)\n"
     ]
    },
    {
     "name": "stdout",
     "output_type": "stream",
     "text": [
      "0.526458613424\n"
     ]
    }
   ],
   "source": [
    "recall = model_selection.cross_val_score(model, chi_filter_training, y_resampled, cv=kfold, scoring='recall')\n",
    "print(recall.mean())"
   ]
  },
  {
   "cell_type": "code",
   "execution_count": 460,
   "metadata": {},
   "outputs": [
    {
     "name": "stderr",
     "output_type": "stream",
     "text": [
      "/Users/yyb/anaconda/lib/python3.6/site-packages/sklearn/metrics/classification.py:1137: UndefinedMetricWarning: F-score is ill-defined and being set to 0.0 due to no true samples.\n",
      "  'recall', 'true', average, warn_for)\n",
      "/Users/yyb/anaconda/lib/python3.6/site-packages/sklearn/metrics/classification.py:1137: UndefinedMetricWarning: F-score is ill-defined and being set to 0.0 due to no true samples.\n",
      "  'recall', 'true', average, warn_for)\n",
      "/Users/yyb/anaconda/lib/python3.6/site-packages/sklearn/metrics/classification.py:1137: UndefinedMetricWarning: F-score is ill-defined and being set to 0.0 due to no true samples.\n",
      "  'recall', 'true', average, warn_for)\n",
      "/Users/yyb/anaconda/lib/python3.6/site-packages/sklearn/metrics/classification.py:1137: UndefinedMetricWarning: F-score is ill-defined and being set to 0.0 due to no true samples.\n",
      "  'recall', 'true', average, warn_for)\n"
     ]
    },
    {
     "name": "stdout",
     "output_type": "stream",
     "text": [
      "0.554373237273\n"
     ]
    }
   ],
   "source": [
    "f1 = model_selection.cross_val_score(model, chi_filter_training, y_resampled, cv=kfold, scoring='f1')\n",
    "print(f1.mean())"
   ]
  },
  {
   "cell_type": "code",
   "execution_count": 41,
   "metadata": {},
   "outputs": [
    {
     "data": {
      "text/plain": [
       "BaggingClassifier(base_estimator=LogisticRegression(C=1.0, class_weight=None, dual=False, fit_intercept=True,\n",
       "          intercept_scaling=1, max_iter=100, multi_class='ovr', n_jobs=1,\n",
       "          penalty='l2', random_state=None, solver='liblinear', tol=0.0001,\n",
       "          verbose=0, warm_start=False),\n",
       "         bootstrap=True, bootstrap_features=False, max_features=1.0,\n",
       "         max_samples=1.0, n_estimators=7, n_jobs=1, oob_score=False,\n",
       "         random_state=7, verbose=0, warm_start=False)"
      ]
     },
     "execution_count": 41,
     "metadata": {},
     "output_type": "execute_result"
    }
   ],
   "source": [
    "import pandas\n",
    "from sklearn import model_selection\n",
    "from sklearn.ensemble import BaggingClassifier\n",
    "\n",
    "seed = 7\n",
    "cart = LogisticRegression()\n",
    "#cart = DecisionTreeClassifier()\n",
    "#cart = svm.LinearSVC()\n",
    "#cart = MultinomialNB()\n",
    "num_trees = 7\n",
    "# 7:79% LR\n",
    "model = BaggingClassifier(base_estimator=cart, n_estimators=num_trees, random_state=seed)\n",
    "model.fit(chi_filter_training, y_resampled)"
   ]
  },
  {
   "cell_type": "code",
   "execution_count": 42,
   "metadata": {},
   "outputs": [
    {
     "data": {
      "text/plain": [
       "0.75"
      ]
     },
     "execution_count": 42,
     "metadata": {},
     "output_type": "execute_result"
    }
   ],
   "source": [
    "import sklearn\n",
    "predicted_Bagging =model.predict(X_test)\n",
    "sklearn.metrics.accuracy_score(X_test_target_num,predicted_Bagging) \n",
    "#sklearn.metrics.precision_score(X_test_target_num,predicted_Bagging) \n",
    "#sklearn.metrics.recall_score(X_test_target_num,predicted_Bagging) \n",
    "#sklearn.metrics.f1_score(X_test_target_num,predicted_Bagging) \n"
   ]
  },
  {
   "cell_type": "code",
   "execution_count": 43,
   "metadata": {},
   "outputs": [
    {
     "name": "stdout",
     "output_type": "stream",
     "text": [
      "             precision    recall  f1-score   support\n",
      "\n",
      "          F       0.70      0.86      0.77        50\n",
      "          T       0.82      0.64      0.72        50\n",
      "\n",
      "avg / total       0.76      0.75      0.75       100\n",
      "\n"
     ]
    }
   ],
   "source": [
    "target_names = ['F','T']\n",
    "print(classification_report(X_test_target_num, predicted_Bagging, target_names=target_names))"
   ]
  },
  {
   "cell_type": "code",
   "execution_count": 44,
   "metadata": {},
   "outputs": [
    {
     "name": "stdout",
     "output_type": "stream",
     "text": [
      "finish the 3 classifier\n",
      "finish the 5 classifier\n",
      "finish the 7 classifier\n",
      "finish the 9 classifier\n",
      "finish the 11 classifier\n",
      "finish the 13 classifier\n",
      "finish the 15 classifier\n",
      "finish the 17 classifier\n",
      "finish the 19 classifier\n",
      "finish the 21 classifier\n",
      "finish the 23 classifier\n",
      "finish the 25 classifier\n"
     ]
    },
    {
     "ename": "KeyboardInterrupt",
     "evalue": "",
     "output_type": "error",
     "traceback": [
      "\u001b[0;31m---------------------------------------------------------------------------\u001b[0m",
      "\u001b[0;31mKeyboardInterrupt\u001b[0m                         Traceback (most recent call last)",
      "\u001b[0;32m<ipython-input-44-723da648db3f>\u001b[0m in \u001b[0;36m<module>\u001b[0;34m()\u001b[0m\n\u001b[1;32m     12\u001b[0m         \u001b[0mnum_trees\u001b[0m \u001b[0;34m=\u001b[0m \u001b[0mi\u001b[0m\u001b[0;34m\u001b[0m\u001b[0m\n\u001b[1;32m     13\u001b[0m         \u001b[0mmodel\u001b[0m \u001b[0;34m=\u001b[0m \u001b[0mBaggingClassifier\u001b[0m\u001b[0;34m(\u001b[0m\u001b[0mbase_estimator\u001b[0m\u001b[0;34m=\u001b[0m\u001b[0mcart\u001b[0m\u001b[0;34m,\u001b[0m \u001b[0mn_estimators\u001b[0m\u001b[0;34m=\u001b[0m\u001b[0mnum_trees\u001b[0m\u001b[0;34m,\u001b[0m \u001b[0mrandom_state\u001b[0m\u001b[0;34m=\u001b[0m\u001b[0mseed\u001b[0m\u001b[0;34m)\u001b[0m\u001b[0;34m\u001b[0m\u001b[0m\n\u001b[0;32m---> 14\u001b[0;31m         \u001b[0mmodel\u001b[0m\u001b[0;34m.\u001b[0m\u001b[0mfit\u001b[0m\u001b[0;34m(\u001b[0m\u001b[0mchi_filter_training\u001b[0m\u001b[0;34m,\u001b[0m \u001b[0my_resampled\u001b[0m\u001b[0;34m)\u001b[0m\u001b[0;34m\u001b[0m\u001b[0m\n\u001b[0m\u001b[1;32m     15\u001b[0m \u001b[0;34m\u001b[0m\u001b[0m\n\u001b[1;32m     16\u001b[0m         \u001b[0mpredicted_Bagging\u001b[0m \u001b[0;34m=\u001b[0m\u001b[0mmodel\u001b[0m\u001b[0;34m.\u001b[0m\u001b[0mpredict\u001b[0m\u001b[0;34m(\u001b[0m\u001b[0mX_test\u001b[0m\u001b[0;34m)\u001b[0m\u001b[0;34m\u001b[0m\u001b[0m\n",
      "\u001b[0;32m/Users/yyb/anaconda/lib/python3.6/site-packages/sklearn/ensemble/bagging.py\u001b[0m in \u001b[0;36mfit\u001b[0;34m(self, X, y, sample_weight)\u001b[0m\n\u001b[1;32m    245\u001b[0m             \u001b[0mReturns\u001b[0m \u001b[0mself\u001b[0m\u001b[0;34m.\u001b[0m\u001b[0;34m\u001b[0m\u001b[0m\n\u001b[1;32m    246\u001b[0m         \"\"\"\n\u001b[0;32m--> 247\u001b[0;31m         \u001b[0;32mreturn\u001b[0m \u001b[0mself\u001b[0m\u001b[0;34m.\u001b[0m\u001b[0m_fit\u001b[0m\u001b[0;34m(\u001b[0m\u001b[0mX\u001b[0m\u001b[0;34m,\u001b[0m \u001b[0my\u001b[0m\u001b[0;34m,\u001b[0m \u001b[0mself\u001b[0m\u001b[0;34m.\u001b[0m\u001b[0mmax_samples\u001b[0m\u001b[0;34m,\u001b[0m \u001b[0msample_weight\u001b[0m\u001b[0;34m=\u001b[0m\u001b[0msample_weight\u001b[0m\u001b[0;34m)\u001b[0m\u001b[0;34m\u001b[0m\u001b[0m\n\u001b[0m\u001b[1;32m    248\u001b[0m \u001b[0;34m\u001b[0m\u001b[0m\n\u001b[1;32m    249\u001b[0m     \u001b[0;32mdef\u001b[0m \u001b[0m_fit\u001b[0m\u001b[0;34m(\u001b[0m\u001b[0mself\u001b[0m\u001b[0;34m,\u001b[0m \u001b[0mX\u001b[0m\u001b[0;34m,\u001b[0m \u001b[0my\u001b[0m\u001b[0;34m,\u001b[0m \u001b[0mmax_samples\u001b[0m\u001b[0;34m=\u001b[0m\u001b[0;32mNone\u001b[0m\u001b[0;34m,\u001b[0m \u001b[0mmax_depth\u001b[0m\u001b[0;34m=\u001b[0m\u001b[0;32mNone\u001b[0m\u001b[0;34m,\u001b[0m \u001b[0msample_weight\u001b[0m\u001b[0;34m=\u001b[0m\u001b[0;32mNone\u001b[0m\u001b[0;34m)\u001b[0m\u001b[0;34m:\u001b[0m\u001b[0;34m\u001b[0m\u001b[0m\n",
      "\u001b[0;32m/Users/yyb/anaconda/lib/python3.6/site-packages/sklearn/ensemble/bagging.py\u001b[0m in \u001b[0;36m_fit\u001b[0;34m(self, X, y, max_samples, max_depth, sample_weight)\u001b[0m\n\u001b[1;32m    373\u001b[0m                 \u001b[0mtotal_n_estimators\u001b[0m\u001b[0;34m,\u001b[0m\u001b[0;34m\u001b[0m\u001b[0m\n\u001b[1;32m    374\u001b[0m                 verbose=self.verbose)\n\u001b[0;32m--> 375\u001b[0;31m             for i in range(n_jobs))\n\u001b[0m\u001b[1;32m    376\u001b[0m \u001b[0;34m\u001b[0m\u001b[0m\n\u001b[1;32m    377\u001b[0m         \u001b[0;31m# Reduce\u001b[0m\u001b[0;34m\u001b[0m\u001b[0;34m\u001b[0m\u001b[0m\n",
      "\u001b[0;32m/Users/yyb/anaconda/lib/python3.6/site-packages/sklearn/externals/joblib/parallel.py\u001b[0m in \u001b[0;36m__call__\u001b[0;34m(self, iterable)\u001b[0m\n\u001b[1;32m    777\u001b[0m             \u001b[0;31m# was dispatched. In particular this covers the edge\u001b[0m\u001b[0;34m\u001b[0m\u001b[0;34m\u001b[0m\u001b[0m\n\u001b[1;32m    778\u001b[0m             \u001b[0;31m# case of Parallel used with an exhausted iterator.\u001b[0m\u001b[0;34m\u001b[0m\u001b[0;34m\u001b[0m\u001b[0m\n\u001b[0;32m--> 779\u001b[0;31m             \u001b[0;32mwhile\u001b[0m \u001b[0mself\u001b[0m\u001b[0;34m.\u001b[0m\u001b[0mdispatch_one_batch\u001b[0m\u001b[0;34m(\u001b[0m\u001b[0miterator\u001b[0m\u001b[0;34m)\u001b[0m\u001b[0;34m:\u001b[0m\u001b[0;34m\u001b[0m\u001b[0m\n\u001b[0m\u001b[1;32m    780\u001b[0m                 \u001b[0mself\u001b[0m\u001b[0;34m.\u001b[0m\u001b[0m_iterating\u001b[0m \u001b[0;34m=\u001b[0m \u001b[0;32mTrue\u001b[0m\u001b[0;34m\u001b[0m\u001b[0m\n\u001b[1;32m    781\u001b[0m             \u001b[0;32melse\u001b[0m\u001b[0;34m:\u001b[0m\u001b[0;34m\u001b[0m\u001b[0m\n",
      "\u001b[0;32m/Users/yyb/anaconda/lib/python3.6/site-packages/sklearn/externals/joblib/parallel.py\u001b[0m in \u001b[0;36mdispatch_one_batch\u001b[0;34m(self, iterator)\u001b[0m\n\u001b[1;32m    623\u001b[0m                 \u001b[0;32mreturn\u001b[0m \u001b[0;32mFalse\u001b[0m\u001b[0;34m\u001b[0m\u001b[0m\n\u001b[1;32m    624\u001b[0m             \u001b[0;32melse\u001b[0m\u001b[0;34m:\u001b[0m\u001b[0;34m\u001b[0m\u001b[0m\n\u001b[0;32m--> 625\u001b[0;31m                 \u001b[0mself\u001b[0m\u001b[0;34m.\u001b[0m\u001b[0m_dispatch\u001b[0m\u001b[0;34m(\u001b[0m\u001b[0mtasks\u001b[0m\u001b[0;34m)\u001b[0m\u001b[0;34m\u001b[0m\u001b[0m\n\u001b[0m\u001b[1;32m    626\u001b[0m                 \u001b[0;32mreturn\u001b[0m \u001b[0;32mTrue\u001b[0m\u001b[0;34m\u001b[0m\u001b[0m\n\u001b[1;32m    627\u001b[0m \u001b[0;34m\u001b[0m\u001b[0m\n",
      "\u001b[0;32m/Users/yyb/anaconda/lib/python3.6/site-packages/sklearn/externals/joblib/parallel.py\u001b[0m in \u001b[0;36m_dispatch\u001b[0;34m(self, batch)\u001b[0m\n\u001b[1;32m    586\u001b[0m         \u001b[0mdispatch_timestamp\u001b[0m \u001b[0;34m=\u001b[0m \u001b[0mtime\u001b[0m\u001b[0;34m.\u001b[0m\u001b[0mtime\u001b[0m\u001b[0;34m(\u001b[0m\u001b[0;34m)\u001b[0m\u001b[0;34m\u001b[0m\u001b[0m\n\u001b[1;32m    587\u001b[0m         \u001b[0mcb\u001b[0m \u001b[0;34m=\u001b[0m \u001b[0mBatchCompletionCallBack\u001b[0m\u001b[0;34m(\u001b[0m\u001b[0mdispatch_timestamp\u001b[0m\u001b[0;34m,\u001b[0m \u001b[0mlen\u001b[0m\u001b[0;34m(\u001b[0m\u001b[0mbatch\u001b[0m\u001b[0;34m)\u001b[0m\u001b[0;34m,\u001b[0m \u001b[0mself\u001b[0m\u001b[0;34m)\u001b[0m\u001b[0;34m\u001b[0m\u001b[0m\n\u001b[0;32m--> 588\u001b[0;31m         \u001b[0mjob\u001b[0m \u001b[0;34m=\u001b[0m \u001b[0mself\u001b[0m\u001b[0;34m.\u001b[0m\u001b[0m_backend\u001b[0m\u001b[0;34m.\u001b[0m\u001b[0mapply_async\u001b[0m\u001b[0;34m(\u001b[0m\u001b[0mbatch\u001b[0m\u001b[0;34m,\u001b[0m \u001b[0mcallback\u001b[0m\u001b[0;34m=\u001b[0m\u001b[0mcb\u001b[0m\u001b[0;34m)\u001b[0m\u001b[0;34m\u001b[0m\u001b[0m\n\u001b[0m\u001b[1;32m    589\u001b[0m         \u001b[0mself\u001b[0m\u001b[0;34m.\u001b[0m\u001b[0m_jobs\u001b[0m\u001b[0;34m.\u001b[0m\u001b[0mappend\u001b[0m\u001b[0;34m(\u001b[0m\u001b[0mjob\u001b[0m\u001b[0;34m)\u001b[0m\u001b[0;34m\u001b[0m\u001b[0m\n\u001b[1;32m    590\u001b[0m \u001b[0;34m\u001b[0m\u001b[0m\n",
      "\u001b[0;32m/Users/yyb/anaconda/lib/python3.6/site-packages/sklearn/externals/joblib/_parallel_backends.py\u001b[0m in \u001b[0;36mapply_async\u001b[0;34m(self, func, callback)\u001b[0m\n\u001b[1;32m    109\u001b[0m     \u001b[0;32mdef\u001b[0m \u001b[0mapply_async\u001b[0m\u001b[0;34m(\u001b[0m\u001b[0mself\u001b[0m\u001b[0;34m,\u001b[0m \u001b[0mfunc\u001b[0m\u001b[0;34m,\u001b[0m \u001b[0mcallback\u001b[0m\u001b[0;34m=\u001b[0m\u001b[0;32mNone\u001b[0m\u001b[0;34m)\u001b[0m\u001b[0;34m:\u001b[0m\u001b[0;34m\u001b[0m\u001b[0m\n\u001b[1;32m    110\u001b[0m         \u001b[0;34m\"\"\"Schedule a func to be run\"\"\"\u001b[0m\u001b[0;34m\u001b[0m\u001b[0m\n\u001b[0;32m--> 111\u001b[0;31m         \u001b[0mresult\u001b[0m \u001b[0;34m=\u001b[0m \u001b[0mImmediateResult\u001b[0m\u001b[0;34m(\u001b[0m\u001b[0mfunc\u001b[0m\u001b[0;34m)\u001b[0m\u001b[0;34m\u001b[0m\u001b[0m\n\u001b[0m\u001b[1;32m    112\u001b[0m         \u001b[0;32mif\u001b[0m \u001b[0mcallback\u001b[0m\u001b[0;34m:\u001b[0m\u001b[0;34m\u001b[0m\u001b[0m\n\u001b[1;32m    113\u001b[0m             \u001b[0mcallback\u001b[0m\u001b[0;34m(\u001b[0m\u001b[0mresult\u001b[0m\u001b[0;34m)\u001b[0m\u001b[0;34m\u001b[0m\u001b[0m\n",
      "\u001b[0;32m/Users/yyb/anaconda/lib/python3.6/site-packages/sklearn/externals/joblib/_parallel_backends.py\u001b[0m in \u001b[0;36m__init__\u001b[0;34m(self, batch)\u001b[0m\n\u001b[1;32m    330\u001b[0m         \u001b[0;31m# Don't delay the application, to avoid keeping the input\u001b[0m\u001b[0;34m\u001b[0m\u001b[0;34m\u001b[0m\u001b[0m\n\u001b[1;32m    331\u001b[0m         \u001b[0;31m# arguments in memory\u001b[0m\u001b[0;34m\u001b[0m\u001b[0;34m\u001b[0m\u001b[0m\n\u001b[0;32m--> 332\u001b[0;31m         \u001b[0mself\u001b[0m\u001b[0;34m.\u001b[0m\u001b[0mresults\u001b[0m \u001b[0;34m=\u001b[0m \u001b[0mbatch\u001b[0m\u001b[0;34m(\u001b[0m\u001b[0;34m)\u001b[0m\u001b[0;34m\u001b[0m\u001b[0m\n\u001b[0m\u001b[1;32m    333\u001b[0m \u001b[0;34m\u001b[0m\u001b[0m\n\u001b[1;32m    334\u001b[0m     \u001b[0;32mdef\u001b[0m \u001b[0mget\u001b[0m\u001b[0;34m(\u001b[0m\u001b[0mself\u001b[0m\u001b[0;34m)\u001b[0m\u001b[0;34m:\u001b[0m\u001b[0;34m\u001b[0m\u001b[0m\n",
      "\u001b[0;32m/Users/yyb/anaconda/lib/python3.6/site-packages/sklearn/externals/joblib/parallel.py\u001b[0m in \u001b[0;36m__call__\u001b[0;34m(self)\u001b[0m\n\u001b[1;32m    129\u001b[0m \u001b[0;34m\u001b[0m\u001b[0m\n\u001b[1;32m    130\u001b[0m     \u001b[0;32mdef\u001b[0m \u001b[0m__call__\u001b[0m\u001b[0;34m(\u001b[0m\u001b[0mself\u001b[0m\u001b[0;34m)\u001b[0m\u001b[0;34m:\u001b[0m\u001b[0;34m\u001b[0m\u001b[0m\n\u001b[0;32m--> 131\u001b[0;31m         \u001b[0;32mreturn\u001b[0m \u001b[0;34m[\u001b[0m\u001b[0mfunc\u001b[0m\u001b[0;34m(\u001b[0m\u001b[0;34m*\u001b[0m\u001b[0margs\u001b[0m\u001b[0;34m,\u001b[0m \u001b[0;34m**\u001b[0m\u001b[0mkwargs\u001b[0m\u001b[0;34m)\u001b[0m \u001b[0;32mfor\u001b[0m \u001b[0mfunc\u001b[0m\u001b[0;34m,\u001b[0m \u001b[0margs\u001b[0m\u001b[0;34m,\u001b[0m \u001b[0mkwargs\u001b[0m \u001b[0;32min\u001b[0m \u001b[0mself\u001b[0m\u001b[0;34m.\u001b[0m\u001b[0mitems\u001b[0m\u001b[0;34m]\u001b[0m\u001b[0;34m\u001b[0m\u001b[0m\n\u001b[0m\u001b[1;32m    132\u001b[0m \u001b[0;34m\u001b[0m\u001b[0m\n\u001b[1;32m    133\u001b[0m     \u001b[0;32mdef\u001b[0m \u001b[0m__len__\u001b[0m\u001b[0;34m(\u001b[0m\u001b[0mself\u001b[0m\u001b[0;34m)\u001b[0m\u001b[0;34m:\u001b[0m\u001b[0;34m\u001b[0m\u001b[0m\n",
      "\u001b[0;32m/Users/yyb/anaconda/lib/python3.6/site-packages/sklearn/externals/joblib/parallel.py\u001b[0m in \u001b[0;36m<listcomp>\u001b[0;34m(.0)\u001b[0m\n\u001b[1;32m    129\u001b[0m \u001b[0;34m\u001b[0m\u001b[0m\n\u001b[1;32m    130\u001b[0m     \u001b[0;32mdef\u001b[0m \u001b[0m__call__\u001b[0m\u001b[0;34m(\u001b[0m\u001b[0mself\u001b[0m\u001b[0;34m)\u001b[0m\u001b[0;34m:\u001b[0m\u001b[0;34m\u001b[0m\u001b[0m\n\u001b[0;32m--> 131\u001b[0;31m         \u001b[0;32mreturn\u001b[0m \u001b[0;34m[\u001b[0m\u001b[0mfunc\u001b[0m\u001b[0;34m(\u001b[0m\u001b[0;34m*\u001b[0m\u001b[0margs\u001b[0m\u001b[0;34m,\u001b[0m \u001b[0;34m**\u001b[0m\u001b[0mkwargs\u001b[0m\u001b[0;34m)\u001b[0m \u001b[0;32mfor\u001b[0m \u001b[0mfunc\u001b[0m\u001b[0;34m,\u001b[0m \u001b[0margs\u001b[0m\u001b[0;34m,\u001b[0m \u001b[0mkwargs\u001b[0m \u001b[0;32min\u001b[0m \u001b[0mself\u001b[0m\u001b[0;34m.\u001b[0m\u001b[0mitems\u001b[0m\u001b[0;34m]\u001b[0m\u001b[0;34m\u001b[0m\u001b[0m\n\u001b[0m\u001b[1;32m    132\u001b[0m \u001b[0;34m\u001b[0m\u001b[0m\n\u001b[1;32m    133\u001b[0m     \u001b[0;32mdef\u001b[0m \u001b[0m__len__\u001b[0m\u001b[0;34m(\u001b[0m\u001b[0mself\u001b[0m\u001b[0;34m)\u001b[0m\u001b[0;34m:\u001b[0m\u001b[0;34m\u001b[0m\u001b[0m\n",
      "\u001b[0;32m/Users/yyb/anaconda/lib/python3.6/site-packages/sklearn/ensemble/bagging.py\u001b[0m in \u001b[0;36m_parallel_build_estimators\u001b[0;34m(n_estimators, ensemble, X, y, sample_weight, seeds, total_n_estimators, verbose)\u001b[0m\n\u001b[1;32m    110\u001b[0m                 \u001b[0mcurr_sample_weight\u001b[0m\u001b[0;34m[\u001b[0m\u001b[0mnot_indices_mask\u001b[0m\u001b[0;34m]\u001b[0m \u001b[0;34m=\u001b[0m \u001b[0;36m0\u001b[0m\u001b[0;34m\u001b[0m\u001b[0m\n\u001b[1;32m    111\u001b[0m \u001b[0;34m\u001b[0m\u001b[0m\n\u001b[0;32m--> 112\u001b[0;31m             \u001b[0mestimator\u001b[0m\u001b[0;34m.\u001b[0m\u001b[0mfit\u001b[0m\u001b[0;34m(\u001b[0m\u001b[0mX\u001b[0m\u001b[0;34m[\u001b[0m\u001b[0;34m:\u001b[0m\u001b[0;34m,\u001b[0m \u001b[0mfeatures\u001b[0m\u001b[0;34m]\u001b[0m\u001b[0;34m,\u001b[0m \u001b[0my\u001b[0m\u001b[0;34m,\u001b[0m \u001b[0msample_weight\u001b[0m\u001b[0;34m=\u001b[0m\u001b[0mcurr_sample_weight\u001b[0m\u001b[0;34m)\u001b[0m\u001b[0;34m\u001b[0m\u001b[0m\n\u001b[0m\u001b[1;32m    113\u001b[0m \u001b[0;34m\u001b[0m\u001b[0m\n\u001b[1;32m    114\u001b[0m         \u001b[0;31m# Draw samples, using a mask, and then fit\u001b[0m\u001b[0;34m\u001b[0m\u001b[0;34m\u001b[0m\u001b[0m\n",
      "\u001b[0;32m/Users/yyb/anaconda/lib/python3.6/site-packages/sklearn/linear_model/logistic.py\u001b[0m in \u001b[0;36mfit\u001b[0;34m(self, X, y, sample_weight)\u001b[0m\n\u001b[1;32m   1231\u001b[0m                 \u001b[0mself\u001b[0m\u001b[0;34m.\u001b[0m\u001b[0mclass_weight\u001b[0m\u001b[0;34m,\u001b[0m \u001b[0mself\u001b[0m\u001b[0;34m.\u001b[0m\u001b[0mpenalty\u001b[0m\u001b[0;34m,\u001b[0m \u001b[0mself\u001b[0m\u001b[0;34m.\u001b[0m\u001b[0mdual\u001b[0m\u001b[0;34m,\u001b[0m \u001b[0mself\u001b[0m\u001b[0;34m.\u001b[0m\u001b[0mverbose\u001b[0m\u001b[0;34m,\u001b[0m\u001b[0;34m\u001b[0m\u001b[0m\n\u001b[1;32m   1232\u001b[0m                 \u001b[0mself\u001b[0m\u001b[0;34m.\u001b[0m\u001b[0mmax_iter\u001b[0m\u001b[0;34m,\u001b[0m \u001b[0mself\u001b[0m\u001b[0;34m.\u001b[0m\u001b[0mtol\u001b[0m\u001b[0;34m,\u001b[0m \u001b[0mself\u001b[0m\u001b[0;34m.\u001b[0m\u001b[0mrandom_state\u001b[0m\u001b[0;34m,\u001b[0m\u001b[0;34m\u001b[0m\u001b[0m\n\u001b[0;32m-> 1233\u001b[0;31m                 sample_weight=sample_weight)\n\u001b[0m\u001b[1;32m   1234\u001b[0m             \u001b[0mself\u001b[0m\u001b[0;34m.\u001b[0m\u001b[0mn_iter_\u001b[0m \u001b[0;34m=\u001b[0m \u001b[0mnp\u001b[0m\u001b[0;34m.\u001b[0m\u001b[0marray\u001b[0m\u001b[0;34m(\u001b[0m\u001b[0;34m[\u001b[0m\u001b[0mn_iter_\u001b[0m\u001b[0;34m]\u001b[0m\u001b[0;34m)\u001b[0m\u001b[0;34m\u001b[0m\u001b[0m\n\u001b[1;32m   1235\u001b[0m             \u001b[0;32mreturn\u001b[0m \u001b[0mself\u001b[0m\u001b[0;34m\u001b[0m\u001b[0m\n",
      "\u001b[0;32m/Users/yyb/anaconda/lib/python3.6/site-packages/sklearn/svm/base.py\u001b[0m in \u001b[0;36m_fit_liblinear\u001b[0;34m(X, y, C, fit_intercept, intercept_scaling, class_weight, penalty, dual, verbose, max_iter, tol, random_state, multi_class, loss, epsilon, sample_weight)\u001b[0m\n\u001b[1;32m    888\u001b[0m         \u001b[0mX\u001b[0m\u001b[0;34m,\u001b[0m \u001b[0my_ind\u001b[0m\u001b[0;34m,\u001b[0m \u001b[0msp\u001b[0m\u001b[0;34m.\u001b[0m\u001b[0misspmatrix\u001b[0m\u001b[0;34m(\u001b[0m\u001b[0mX\u001b[0m\u001b[0;34m)\u001b[0m\u001b[0;34m,\u001b[0m \u001b[0msolver_type\u001b[0m\u001b[0;34m,\u001b[0m \u001b[0mtol\u001b[0m\u001b[0;34m,\u001b[0m \u001b[0mbias\u001b[0m\u001b[0;34m,\u001b[0m \u001b[0mC\u001b[0m\u001b[0;34m,\u001b[0m\u001b[0;34m\u001b[0m\u001b[0m\n\u001b[1;32m    889\u001b[0m         \u001b[0mclass_weight_\u001b[0m\u001b[0;34m,\u001b[0m \u001b[0mmax_iter\u001b[0m\u001b[0;34m,\u001b[0m \u001b[0mrnd\u001b[0m\u001b[0;34m.\u001b[0m\u001b[0mrandint\u001b[0m\u001b[0;34m(\u001b[0m\u001b[0mnp\u001b[0m\u001b[0;34m.\u001b[0m\u001b[0miinfo\u001b[0m\u001b[0;34m(\u001b[0m\u001b[0;34m'i'\u001b[0m\u001b[0;34m)\u001b[0m\u001b[0;34m.\u001b[0m\u001b[0mmax\u001b[0m\u001b[0;34m)\u001b[0m\u001b[0;34m,\u001b[0m\u001b[0;34m\u001b[0m\u001b[0m\n\u001b[0;32m--> 890\u001b[0;31m         epsilon, sample_weight)\n\u001b[0m\u001b[1;32m    891\u001b[0m     \u001b[0;31m# Regarding rnd.randint(..) in the above signature:\u001b[0m\u001b[0;34m\u001b[0m\u001b[0;34m\u001b[0m\u001b[0m\n\u001b[1;32m    892\u001b[0m     \u001b[0;31m# seed for srand in range [0..INT_MAX); due to limitations in Numpy\u001b[0m\u001b[0;34m\u001b[0m\u001b[0;34m\u001b[0m\u001b[0m\n",
      "\u001b[0;31mKeyboardInterrupt\u001b[0m: "
     ]
    }
   ],
   "source": [
    "####bagging\n",
    "import pandas as pd\n",
    "import numpy as np\n",
    "from sklearn import model_selection\n",
    "from sklearn.ensemble import BaggingClassifier\n",
    "all_list=[]\n",
    "for i in range(3,30,2):\n",
    "    temp_list=[]\n",
    "    for j in range(1,11):\n",
    "        seed = j\n",
    "        cart = LogisticRegression()\n",
    "        num_trees = i\n",
    "        model = BaggingClassifier(base_estimator=cart, n_estimators=num_trees, random_state=seed)\n",
    "        model.fit(chi_filter_training, y_resampled)\n",
    "\n",
    "        predicted_Bagging =model.predict(X_test)\n",
    "        temp_list.append(np.mean(predicted_Bagging == X_test_target_num))\n",
    "    new_column = np.array(temp_list)\n",
    "    all_list.append(new_column)\n",
    "    print('finish the '+str(i)+' classifier')"
   ]
  },
  {
   "cell_type": "code",
   "execution_count": 297,
   "metadata": {
    "collapsed": true
   },
   "outputs": [],
   "source": [
    "data=np.array(all_list)"
   ]
  },
  {
   "cell_type": "code",
   "execution_count": 582,
   "metadata": {},
   "outputs": [
    {
     "data": {
      "text/plain": [
       "0.76149999999999995"
      ]
     },
     "execution_count": 582,
     "metadata": {},
     "output_type": "execute_result"
    }
   ],
   "source": [
    "np.mean(np.mean(data,axis=1))"
   ]
  },
  {
   "cell_type": "code",
   "execution_count": 299,
   "metadata": {
    "collapsed": true
   },
   "outputs": [],
   "source": [
    "dataT=data.T"
   ]
  },
  {
   "cell_type": "code",
   "execution_count": 300,
   "metadata": {},
   "outputs": [
    {
     "data": {
      "text/plain": [
       "array([[ 0.78,  0.77,  0.76,  0.77,  0.77,  0.77,  0.77,  0.76,  0.77,\n",
       "         0.77,  0.76,  0.76,  0.76,  0.76],\n",
       "       [ 0.78,  0.79,  0.78,  0.79,  0.78,  0.75,  0.76,  0.76,  0.76,\n",
       "         0.76,  0.76,  0.76,  0.77,  0.77],\n",
       "       [ 0.75,  0.77,  0.76,  0.76,  0.77,  0.77,  0.77,  0.77,  0.77,\n",
       "         0.77,  0.77,  0.77,  0.77,  0.77],\n",
       "       [ 0.78,  0.78,  0.74,  0.76,  0.76,  0.76,  0.76,  0.76,  0.75,\n",
       "         0.75,  0.75,  0.76,  0.76,  0.76],\n",
       "       [ 0.75,  0.75,  0.75,  0.75,  0.75,  0.75,  0.75,  0.75,  0.75,\n",
       "         0.75,  0.75,  0.75,  0.75,  0.75],\n",
       "       [ 0.76,  0.78,  0.78,  0.78,  0.77,  0.77,  0.78,  0.77,  0.76,\n",
       "         0.78,  0.77,  0.76,  0.77,  0.76],\n",
       "       [ 0.75,  0.74,  0.75,  0.75,  0.76,  0.76,  0.76,  0.76,  0.76,\n",
       "         0.76,  0.76,  0.76,  0.76,  0.75],\n",
       "       [ 0.77,  0.76,  0.76,  0.76,  0.76,  0.76,  0.76,  0.76,  0.76,\n",
       "         0.76,  0.76,  0.76,  0.76,  0.76],\n",
       "       [ 0.74,  0.75,  0.76,  0.76,  0.76,  0.76,  0.76,  0.76,  0.77,\n",
       "         0.77,  0.77,  0.77,  0.77,  0.77],\n",
       "       [ 0.76,  0.76,  0.76,  0.76,  0.75,  0.75,  0.75,  0.75,  0.75,\n",
       "         0.75,  0.75,  0.75,  0.75,  0.76]])"
      ]
     },
     "execution_count": 300,
     "metadata": {},
     "output_type": "execute_result"
    }
   ],
   "source": [
    "dataT"
   ]
  },
  {
   "cell_type": "code",
   "execution_count": 301,
   "metadata": {},
   "outputs": [
    {
     "data": {
      "image/png": "[encoded data removed]",
      "text/plain": [
       "<matplotlib.figure.Figure at 0x13d63e438>"
      ]
     },
     "metadata": {},
     "output_type": "display_data"
    }
   ],
   "source": [
    "import matplotlib.pyplot as plt\n",
    "\n",
    "fig = plt.figure(1, figsize=(9, 6))\n",
    "plt.title('My first plot')\n",
    "plt.ylabel('Accuracy')\n",
    "plt.xlabel('Number of classifiers')\n",
    "#index = [0,1,2,3,4]\n",
    "plt.boxplot(dataT)\n",
    "plt.show()"
   ]
  },
  {
   "cell_type": "code",
   "execution_count": 285,
   "metadata": {},
   "outputs": [
    {
     "data": {
      "text/plain": [
       "array([[1, 1, 1],\n",
       "       [2, 2, 2],\n",
       "       [3, 3, 3]])"
      ]
     },
     "execution_count": 285,
     "metadata": {},
     "output_type": "execute_result"
    }
   ],
   "source": [
    "a=[[1,1,1],[2,2,2],[3,3,3]]\n",
    "b=np.array(a)\n",
    "b"
   ]
  },
  {
   "cell_type": "code",
   "execution_count": 284,
   "metadata": {},
   "outputs": [
    {
     "data": {
      "image/png": "[encoded data removed]",
      "text/plain": [
       "<matplotlib.figure.Figure at 0x13a761eb8>"
      ]
     },
     "metadata": {},
     "output_type": "display_data"
    }
   ],
   "source": [
    "fig = plt.figure(1, figsize=(9, 6))\n",
    "\n",
    "plt.boxplot(b)\n",
    "plt.show()"
   ]
  },
  {
   "cell_type": "code",
   "execution_count": null,
   "metadata": {
    "collapsed": true
   },
   "outputs": [],
   "source": []
  },
  {
   "cell_type": "code",
   "execution_count": null,
   "metadata": {
    "collapsed": true
   },
   "outputs": [],
   "source": []
  },
  {
   "cell_type": "code",
   "execution_count": 524,
   "metadata": {},
   "outputs": [
    {
     "name": "stderr",
     "output_type": "stream",
     "text": [
      "/Users/yyb/anaconda/lib/python3.6/site-packages/sklearn/naive_bayes.py:461: RuntimeWarning: divide by zero encountered in log\n",
      "  self.class_log_prior_ = (np.log(self.class_count_) -\n"
     ]
    },
    {
     "name": "stdout",
     "output_type": "stream",
     "text": [
      "0.905565217391\n"
     ]
    }
   ],
   "source": [
    "#boosting NB\n",
    "from sklearn.naive_bayes import MultinomialNB\n",
    "from sklearn import model_selection\n",
    "from sklearn.ensemble import AdaBoostClassifier\n",
    "\n",
    "seed = 9\n",
    "kfold = model_selection.KFold(n_splits=10, random_state=seed)\n",
    "cart = MultinomialNB()\n",
    "\n",
    "model = AdaBoostClassifier(base_estimator=cart, random_state=seed)\n",
    "accuracy = model_selection.cross_val_score(model, X_tfidf_matrix, Y_train, cv=kfold)\n",
    "print(accuracy.mean())"
   ]
  },
  {
   "cell_type": "code",
   "execution_count": 526,
   "metadata": {},
   "outputs": [
    {
     "name": "stdout",
     "output_type": "stream",
     "text": [
      "[ 0.92050209  0.          0.          0.          0.          0.81835938\n",
      "  1.          1.          1.          1.        ]\n"
     ]
    }
   ],
   "source": [
    "precision = model_selection.cross_val_score(model, chi_filter_training, y_resampled, cv=kfold, scoring='precision')\n",
    "print(precision)"
   ]
  },
  {
   "cell_type": "code",
   "execution_count": null,
   "metadata": {
    "collapsed": true
   },
   "outputs": [],
   "source": []
  },
  {
   "cell_type": "code",
   "execution_count": 45,
   "metadata": {
    "collapsed": true
   },
   "outputs": [],
   "source": [
    "from sklearn.ensemble import AdaBoostClassifier\n",
    "seed = 2\n",
    "cart = LogisticRegression()\n",
    "#cart = DecisionTreeClassifier()\n",
    "#cart = svm.LinearSVC()\n",
    "#cart = MLPClassifier(solver='lbfgs', alpha=1e-5,hidden_layer_sizes=(15, ), random_state=1)\n",
    "num_trees = 7\n",
    "model = AdaBoostClassifier(base_estimator=cart, random_state=seed)\n",
    "\n",
    "Adaboost_clf = model.fit(chi_filter_training, y_resampled)"
   ]
  },
  {
   "cell_type": "code",
   "execution_count": 46,
   "metadata": {},
   "outputs": [
    {
     "data": {
      "text/plain": [
       "0.78000000000000003"
      ]
     },
     "execution_count": 46,
     "metadata": {},
     "output_type": "execute_result"
    }
   ],
   "source": [
    "predicted_Adaboosting =model.predict(X_test)\n",
    "np.mean(predicted_Adaboosting == X_test_target_num)"
   ]
  },
  {
   "cell_type": "code",
   "execution_count": 47,
   "metadata": {},
   "outputs": [
    {
     "name": "stdout",
     "output_type": "stream",
     "text": [
      "             precision    recall  f1-score   support\n",
      "\n",
      "          F       0.71      0.94      0.81        50\n",
      "          T       0.91      0.62      0.74        50\n",
      "\n",
      "avg / total       0.81      0.78      0.77       100\n",
      "\n"
     ]
    }
   ],
   "source": [
    "target_names = ['F','T']\n",
    "print(classification_report(X_test_target_num, predicted_Adaboosting, target_names=target_names))"
   ]
  },
  {
   "cell_type": "code",
   "execution_count": null,
   "metadata": {
    "collapsed": true
   },
   "outputs": [],
   "source": []
  },
  {
   "cell_type": "code",
   "execution_count": 577,
   "metadata": {},
   "outputs": [
    {
     "data": {
      "text/plain": [
       "0.76000000000000001"
      ]
     },
     "execution_count": 577,
     "metadata": {},
     "output_type": "execute_result"
    }
   ],
   "source": [
    "#\n",
    "from sklearn.ensemble import VotingClassifier\n",
    "from sklearn.linear_model import LogisticRegression\n",
    "from sklearn.naive_bayes import GaussianNB\n",
    "from sklearn.ensemble import RandomForestClassifier\n",
    "from sklearn.model_selection import cross_val_score\n",
    "\n",
    "clf1 = LogisticRegression(random_state=1)\n",
    "#clf2 = RandomForestClassifier(random_state=1)\n",
    "#clf3 = svm.LinearSVC()\n",
    "clf2 = MultinomialNB()\n",
    "clf3 = MLPClassifier(solver='lbfgs', alpha=1e-5,hidden_layer_sizes=(15, ), random_state=1)\n",
    "\n",
    "#eclf = VotingClassifier(estimators=[('lr', clf1), ('rf', clf2), ('gnb', clf3)], voting='hard')\n",
    "eclf = VotingClassifier(estimators=[('lr', clf1), ('rf', clf2), ('gnb', clf3)], voting='soft',weights=[1,1,1]).fit(chi_filter_training, y_resampled)\n",
    "\n",
    "\n",
    "#for clf, label in zip([clf1, clf2, clf3, eclf], ['Logistic Regression','naive Bayes','Neural Network','Ensemble']):\n",
    "    #scores = cross_val_score(clf, chi_filter_training, y_resampled, cv=10, scoring='accuracy')\n",
    "    #print(\"Accuracy: %0.2f (+/- %0.2f) [%s]\" % (scores.mean(), scores.std(), label))\n",
    "\n",
    "predicted_clf =eclf.predict(X_test)\n",
    "np.mean(predicted_clf == X_test_target_num)"
   ]
  },
  {
   "cell_type": "code",
   "execution_count": null,
   "metadata": {
    "collapsed": true
   },
   "outputs": [],
   "source": []
  },
  {
   "cell_type": "code",
   "execution_count": null,
   "metadata": {
    "collapsed": true
   },
   "outputs": [],
   "source": []
  },
  {
   "cell_type": "code",
   "execution_count": null,
   "metadata": {
    "collapsed": true
   },
   "outputs": [],
   "source": []
  },
  {
   "cell_type": "code",
   "execution_count": 549,
   "metadata": {},
   "outputs": [
    {
     "name": "stdout",
     "output_type": "stream",
     "text": [
      "0.293932454583\n"
     ]
    }
   ],
   "source": [
    "#Stochastic Gradient Boosting\n",
    "from sklearn.naive_bayes import MultinomialNB\n",
    "from sklearn import model_selection\n",
    "from sklearn.ensemble import GradientBoostingClassifier\n",
    "\n",
    "seed = 7\n",
    "num_trees = 15\n",
    "kfold = model_selection.KFold(n_splits=10, random_state=seed)\n",
    "model = GradientBoostingClassifier(n_estimators=num_trees, random_state=seed)\n",
    "results = model_selection.cross_val_score(model,chi_filter_training, y_resampled, cv=kfold)\n",
    "print(results.mean())"
   ]
  },
  {
   "cell_type": "code",
   "execution_count": null,
   "metadata": {
    "collapsed": true
   },
   "outputs": [],
   "source": []
  },
  {
   "cell_type": "code",
   "execution_count": null,
   "metadata": {
    "collapsed": true
   },
   "outputs": [],
   "source": []
  },
  {
   "cell_type": "markdown",
   "metadata": {
    "collapsed": true
   },
   "source": [
    "## User Detecting"
   ]
  },
  {
   "cell_type": "code",
   "execution_count": null,
   "metadata": {
    "collapsed": true
   },
   "outputs": [],
   "source": [
    "#列表，get每个文件名\n",
    "#把每个文件读入数据框\n",
    "    #走preprocessing那一套\n",
    "    #获取tweets总数量\n",
    "    #丢进model,计算被判定为正的tweets数量\n",
    "    #得到一个比例，存到一个字典里，格式为{文件名:[tweet总数，识别相关数，比值]}"
   ]
  },
  {
   "cell_type": "code",
   "execution_count": 406,
   "metadata": {},
   "outputs": [],
   "source": [
    "follower_folder_path='/Users/yyb/Documents/5920_Projects/followers_tweets_original/'\n",
    "follower_filenames=[f for f in listdir(follower_folder_path) if isfile(join(follower_folder_path,f))]\n",
    "try:\n",
    "    follower_filenames.remove('.DS_Store')\n",
    "except:\n",
    "    pass"
   ]
  },
  {
   "cell_type": "code",
   "execution_count": 467,
   "metadata": {},
   "outputs": [
    {
     "name": "stdout",
     "output_type": "stream",
     "text": [
      "finish the 1 user!\n",
      "finish the 2 user!\n"
     ]
    },
    {
     "name": "stderr",
     "output_type": "stream",
     "text": [
      "Skipping line 115: '^' expected after '\"'\n",
      "Skipping line 474: '^' expected after '\"'\n"
     ]
    },
    {
     "name": "stdout",
     "output_type": "stream",
     "text": [
      "finish the 3 user!\n",
      "finish the 4 user!\n",
      "finish the 5 user!\n",
      "finish the 6 user!\n"
     ]
    },
    {
     "name": "stderr",
     "output_type": "stream",
     "text": [
      "Skipping line 23: '^' expected after '\"'\n",
      "Skipping line 55: '^' expected after '\"'\n",
      "Skipping line 59: '^' expected after '\"'\n",
      "Skipping line 61: '^' expected after '\"'\n",
      "Skipping line 92: '^' expected after '\"'\n",
      "Skipping line 107: '^' expected after '\"'\n",
      "Skipping line 121: '^' expected after '\"'\n",
      "Skipping line 125: '^' expected after '\"'\n",
      "Skipping line 129: '^' expected after '\"'\n"
     ]
    },
    {
     "name": "stdout",
     "output_type": "stream",
     "text": [
      "finish the 7 user!\n",
      "finish the 8 user!\n",
      "finish the 9 user!\n"
     ]
    },
    {
     "name": "stderr",
     "output_type": "stream",
     "text": [
      "Skipping line 2: '^' expected after '\"'\n"
     ]
    },
    {
     "name": "stdout",
     "output_type": "stream",
     "text": [
      "finish the 10 user!\n",
      "finish the 11 user!\n",
      "finish the 12 user!\n"
     ]
    },
    {
     "name": "stderr",
     "output_type": "stream",
     "text": [
      "Skipping line 121: '^' expected after '\"'\n"
     ]
    },
    {
     "name": "stdout",
     "output_type": "stream",
     "text": [
      "finish the 13 user!\n",
      "finish the 14 user!\n"
     ]
    },
    {
     "name": "stderr",
     "output_type": "stream",
     "text": [
      "Skipping line 303: '^' expected after '\"'\n"
     ]
    },
    {
     "name": "stdout",
     "output_type": "stream",
     "text": [
      "finish the 15 user!\n"
     ]
    },
    {
     "name": "stderr",
     "output_type": "stream",
     "text": [
      "Skipping line 48: '^' expected after '\"'\n",
      "Skipping line 116: unexpected end of data\n"
     ]
    },
    {
     "name": "stdout",
     "output_type": "stream",
     "text": [
      "finish the 16 user!\n",
      "finish the 17 user!\n",
      "finish the 18 user!\n",
      "finish the 19 user!\n",
      "finish the 20 user!\n",
      "finish the 21 user!\n",
      "finish the 22 user!\n"
     ]
    },
    {
     "name": "stderr",
     "output_type": "stream",
     "text": [
      "Skipping line 407: '^' expected after '\"'\n",
      "Skipping line 360: Expected 3 fields in line 360, saw 7\n"
     ]
    },
    {
     "name": "stdout",
     "output_type": "stream",
     "text": [
      "finish the 23 user!\n",
      "finish the 24 user!\n"
     ]
    },
    {
     "name": "stderr",
     "output_type": "stream",
     "text": [
      "Skipping line 90: '^' expected after '\"'\n",
      "Skipping line 676: '^' expected after '\"'\n",
      "Skipping line 725: '^' expected after '\"'\n",
      "Skipping line 737: '^' expected after '\"'\n"
     ]
    },
    {
     "name": "stdout",
     "output_type": "stream",
     "text": [
      "finish the 25 user!\n",
      "finish the 26 user!\n"
     ]
    },
    {
     "name": "stderr",
     "output_type": "stream",
     "text": [
      "Skipping line 10: '^' expected after '\"'\n",
      "Skipping line 72: '^' expected after '\"'\n",
      "Skipping line 210: '^' expected after '\"'\n",
      "Skipping line 318: '^' expected after '\"'\n"
     ]
    },
    {
     "name": "stdout",
     "output_type": "stream",
     "text": [
      "finish the 27 user!\n"
     ]
    },
    {
     "name": "stderr",
     "output_type": "stream",
     "text": [
      "Skipping line 202: '^' expected after '\"'\n",
      "Skipping line 808: unexpected end of data\n"
     ]
    },
    {
     "name": "stdout",
     "output_type": "stream",
     "text": [
      "finish the 28 user!\n",
      "finish the 29 user!\n"
     ]
    },
    {
     "name": "stderr",
     "output_type": "stream",
     "text": [
      "Skipping line 25: '^' expected after '\"'\n",
      "Skipping line 74: '^' expected after '\"'\n",
      "Skipping line 167: '^' expected after '\"'\n",
      "Skipping line 170: '^' expected after '\"'\n",
      "Skipping line 176: '^' expected after '\"'\n",
      "Skipping line 182: '^' expected after '\"'\n",
      "Skipping line 184: '^' expected after '\"'\n",
      "Skipping line 4: Expected 3 fields in line 4, saw 5\n",
      "Skipping line 6: Expected 3 fields in line 6, saw 5\n",
      "Skipping line 7: Expected 3 fields in line 7, saw 5\n",
      "Skipping line 8: Expected 3 fields in line 8, saw 5\n",
      "Skipping line 49: Expected 3 fields in line 49, saw 5\n",
      "Skipping line 51: Expected 3 fields in line 51, saw 5\n",
      "Skipping line 72: Expected 3 fields in line 72, saw 5\n",
      "Skipping line 87: Expected 3 fields in line 87, saw 5\n",
      "Skipping line 101: Expected 3 fields in line 101, saw 5\n",
      "Skipping line 127: Expected 3 fields in line 127, saw 5\n",
      "Skipping line 130: Expected 3 fields in line 130, saw 5\n"
     ]
    },
    {
     "name": "stdout",
     "output_type": "stream",
     "text": [
      "finish the 30 user!\n",
      "finish the 31 user!\n"
     ]
    },
    {
     "name": "stderr",
     "output_type": "stream",
     "text": [
      "Skipping line 68: '^' expected after '\"'\n",
      "Skipping line 264: '^' expected after '\"'\n",
      "Skipping line 286: '^' expected after '\"'\n",
      "Skipping line 393: '^' expected after '\"'\n",
      "Skipping line 395: '^' expected after '\"'\n",
      "Skipping line 511: '^' expected after '\"'\n",
      "Skipping line 512: '^' expected after '\"'\n",
      "Skipping line 540: '^' expected after '\"'\n",
      "Skipping line 544: '^' expected after '\"'\n",
      "Skipping line 610: '^' expected after '\"'\n",
      "Skipping line 762: '^' expected after '\"'\n",
      "Skipping line 812: '^' expected after '\"'\n"
     ]
    },
    {
     "name": "stdout",
     "output_type": "stream",
     "text": [
      "finish the 32 user!\n",
      "finish the 33 user!\n"
     ]
    },
    {
     "name": "stderr",
     "output_type": "stream",
     "text": [
      "Skipping line 11: '^' expected after '\"'\n",
      "Skipping line 320: '^' expected after '\"'\n",
      "Skipping line 507: '^' expected after '\"'\n",
      "Skipping line 508: '^' expected after '\"'\n",
      "Skipping line 653: '^' expected after '\"'\n",
      "Skipping line 690: '^' expected after '\"'\n",
      "Skipping line 691: '^' expected after '\"'\n",
      "Skipping line 733: '^' expected after '\"'\n"
     ]
    },
    {
     "name": "stdout",
     "output_type": "stream",
     "text": [
      "finish the 34 user!\n",
      "finish the 35 user!\n",
      "finish the 36 user!\n",
      "finish the 37 user!\n",
      "finish the 38 user!\n",
      "finish the 39 user!\n"
     ]
    },
    {
     "name": "stderr",
     "output_type": "stream",
     "text": [
      "Skipping line 166: '^' expected after '\"'\n"
     ]
    },
    {
     "name": "stdout",
     "output_type": "stream",
     "text": [
      "finish the 40 user!\n"
     ]
    },
    {
     "name": "stderr",
     "output_type": "stream",
     "text": [
      "Skipping line 76: '^' expected after '\"'\n",
      "Skipping line 157: '^' expected after '\"'\n",
      "Skipping line 162: '^' expected after '\"'\n"
     ]
    },
    {
     "name": "stdout",
     "output_type": "stream",
     "text": [
      "finish the 41 user!\n",
      "finish the 42 user!\n"
     ]
    },
    {
     "name": "stderr",
     "output_type": "stream",
     "text": [
      "Skipping line 11: '^' expected after '\"'\n"
     ]
    },
    {
     "name": "stdout",
     "output_type": "stream",
     "text": [
      "finish the 43 user!\n"
     ]
    },
    {
     "name": "stderr",
     "output_type": "stream",
     "text": [
      "Skipping line 7: '^' expected after '\"'\n",
      "Skipping line 53: '^' expected after '\"'\n",
      "Skipping line 70: '^' expected after '\"'\n",
      "Skipping line 80: '^' expected after '\"'\n",
      "Skipping line 215: '^' expected after '\"'\n",
      "Skipping line 249: '^' expected after '\"'\n",
      "Skipping line 284: '^' expected after '\"'\n",
      "Skipping line 309: '^' expected after '\"'\n",
      "Skipping line 389: '^' expected after '\"'\n",
      "Skipping line 390: '^' expected after '\"'\n",
      "Skipping line 391: '^' expected after '\"'\n",
      "Skipping line 392: '^' expected after '\"'\n",
      "Skipping line 394: '^' expected after '\"'\n"
     ]
    },
    {
     "name": "stdout",
     "output_type": "stream",
     "text": [
      "finish the 44 user!\n",
      "finish the 45 user!\n"
     ]
    },
    {
     "name": "stderr",
     "output_type": "stream",
     "text": [
      "Skipping line 111: '^' expected after '\"'\n",
      "Skipping line 115: '^' expected after '\"'\n",
      "Skipping line 283: '^' expected after '\"'\n",
      "Skipping line 284: '^' expected after '\"'\n",
      "Skipping line 418: '^' expected after '\"'\n",
      "Skipping line 476: '^' expected after '\"'\n",
      "Skipping line 529: '^' expected after '\"'\n",
      "Skipping line 539: '^' expected after '\"'\n",
      "Skipping line 542: '^' expected after '\"'\n",
      "Skipping line 543: '^' expected after '\"'\n",
      "Skipping line 676: '^' expected after '\"'\n"
     ]
    },
    {
     "name": "stdout",
     "output_type": "stream",
     "text": [
      "finish the 46 user!\n",
      "finish the 47 user!\n",
      "finish the 48 user!\n"
     ]
    },
    {
     "name": "stderr",
     "output_type": "stream",
     "text": [
      "Skipping line 1: '^' expected after '\"'\n",
      "Skipping line 135: '^' expected after '\"'\n",
      "Skipping line 33: '^' expected after '\"'\n"
     ]
    },
    {
     "name": "stdout",
     "output_type": "stream",
     "text": [
      "finish the 49 user!\n",
      "finish the 50 user!\n",
      "finish the 51 user!\n"
     ]
    },
    {
     "name": "stderr",
     "output_type": "stream",
     "text": [
      "Skipping line 473: '^' expected after '\"'\n"
     ]
    },
    {
     "name": "stdout",
     "output_type": "stream",
     "text": [
      "finish the 52 user!\n",
      "finish the 53 user!\n",
      "finish the 54 user!\n",
      "finish the 55 user!\n"
     ]
    },
    {
     "name": "stderr",
     "output_type": "stream",
     "text": [
      "Skipping line 94: '^' expected after '\"'\n"
     ]
    },
    {
     "name": "stdout",
     "output_type": "stream",
     "text": [
      "finish the 56 user!\n",
      "finish the 57 user!\n"
     ]
    },
    {
     "name": "stderr",
     "output_type": "stream",
     "text": [
      "Skipping line 33: '^' expected after '\"'\n"
     ]
    },
    {
     "name": "stdout",
     "output_type": "stream",
     "text": [
      "finish the 58 user!\n",
      "finish the 59 user!\n"
     ]
    },
    {
     "name": "stderr",
     "output_type": "stream",
     "text": [
      "Skipping line 22: '^' expected after '\"'\n",
      "Skipping line 109: Expected 3 fields in line 109, saw 4\n"
     ]
    },
    {
     "name": "stdout",
     "output_type": "stream",
     "text": [
      "finish the 60 user!\n",
      "finish the 61 user!\n",
      "finish the 62 user!\n",
      "finish the 63 user!\n",
      "finish the 64 user!"
     ]
    },
    {
     "name": "stderr",
     "output_type": "stream",
     "text": [
      "Skipping line 12: '^' expected after '\"'\n"
     ]
    },
    {
     "name": "stdout",
     "output_type": "stream",
     "text": [
      "\n",
      "finish the 65 user!\n",
      "finish the 66 user!\n"
     ]
    },
    {
     "name": "stderr",
     "output_type": "stream",
     "text": [
      "Skipping line 20: '^' expected after '\"'\n"
     ]
    },
    {
     "name": "stdout",
     "output_type": "stream",
     "text": [
      "finish the 67 user!\n",
      "finish the 68 user!\n"
     ]
    },
    {
     "name": "stderr",
     "output_type": "stream",
     "text": [
      "Skipping line 52: '^' expected after '\"'\n"
     ]
    },
    {
     "name": "stdout",
     "output_type": "stream",
     "text": [
      "finish the 69 user!\n",
      "finish the 70 user!\n"
     ]
    },
    {
     "name": "stderr",
     "output_type": "stream",
     "text": [
      "Skipping line 171: '^' expected after '\"'\n",
      "Skipping line 303: '^' expected after '\"'\n"
     ]
    },
    {
     "name": "stdout",
     "output_type": "stream",
     "text": [
      "finish the 71 user!\n",
      "finish the 72 user!\n",
      "finish the 73 user!\n",
      "finish the 74 user!\n"
     ]
    },
    {
     "name": "stderr",
     "output_type": "stream",
     "text": [
      "Skipping line 7: '^' expected after '\"'\n",
      "Skipping line 39: '^' expected after '\"'\n",
      "Skipping line 49: '^' expected after '\"'\n",
      "Skipping line 102: '^' expected after '\"'\n",
      "Skipping line 195: '^' expected after '\"'\n",
      "Skipping line 551: '^' expected after '\"'\n"
     ]
    },
    {
     "name": "stdout",
     "output_type": "stream",
     "text": [
      "finish the 75 user!\n"
     ]
    },
    {
     "name": "stderr",
     "output_type": "stream",
     "text": [
      "Skipping line 114: '^' expected after '\"'\n"
     ]
    },
    {
     "name": "stdout",
     "output_type": "stream",
     "text": [
      "finish the 76 user!\n",
      "finish the 77 user!\n"
     ]
    },
    {
     "name": "stderr",
     "output_type": "stream",
     "text": [
      "Skipping line 172: '^' expected after '\"'\n"
     ]
    },
    {
     "name": "stdout",
     "output_type": "stream",
     "text": [
      "finish the 78 user!\n",
      "finish the 79 user!\n",
      "finish the 80 user!\n"
     ]
    },
    {
     "name": "stderr",
     "output_type": "stream",
     "text": [
      "Skipping line 223: '^' expected after '\"'\n"
     ]
    },
    {
     "name": "stdout",
     "output_type": "stream",
     "text": [
      "finish the 81 user!\n",
      "finish the 82 user!\n"
     ]
    },
    {
     "name": "stderr",
     "output_type": "stream",
     "text": [
      "Skipping line 17: '^' expected after '\"'\n",
      "Skipping line 96: '^' expected after '\"'\n",
      "Skipping line 184: '^' expected after '\"'\n",
      "Skipping line 218: '^' expected after '\"'\n",
      "Skipping line 319: '^' expected after '\"'\n",
      "Skipping line 345: '^' expected after '\"'\n",
      "Skipping line 375: '^' expected after '\"'\n"
     ]
    },
    {
     "name": "stdout",
     "output_type": "stream",
     "text": [
      "finish the 83 user!\n",
      "finish the 84 user!\n",
      "finish the 85 user!\n",
      "finish the 86 user!\n",
      "finish the 87 user!\n"
     ]
    },
    {
     "name": "stderr",
     "output_type": "stream",
     "text": [
      "Skipping line 15: '^' expected after '\"'\n",
      "Skipping line 719: '^' expected after '\"'\n"
     ]
    },
    {
     "name": "stdout",
     "output_type": "stream",
     "text": [
      "finish the 88 user!\n",
      "finish the 89 user!\n",
      "finish the 90 user!\n",
      "finish the 91 user!\n"
     ]
    },
    {
     "name": "stderr",
     "output_type": "stream",
     "text": [
      "Skipping line 119: '^' expected after '\"'\n"
     ]
    },
    {
     "name": "stdout",
     "output_type": "stream",
     "text": [
      "finish the 92 user!\n",
      "finish the 93 user!\n"
     ]
    },
    {
     "name": "stderr",
     "output_type": "stream",
     "text": [
      "Skipping line 46: '^' expected after '\"'\n",
      "Skipping line 48: '^' expected after '\"'\n",
      "Skipping line 77: '^' expected after '\"'\n",
      "Skipping line 147: '^' expected after '\"'\n",
      "Skipping line 188: '^' expected after '\"'\n",
      "Skipping line 277: '^' expected after '\"'\n",
      "Skipping line 278: '^' expected after '\"'\n",
      "Skipping line 279: '^' expected after '\"'\n",
      "Skipping line 280: '^' expected after '\"'\n",
      "Skipping line 320: '^' expected after '\"'\n",
      "Skipping line 373: '^' expected after '\"'\n",
      "Skipping line 507: '^' expected after '\"'\n",
      "Skipping line 541: '^' expected after '\"'\n",
      "Skipping line 551: '^' expected after '\"'\n",
      "Skipping line 565: '^' expected after '\"'\n",
      "Skipping line 581: '^' expected after '\"'\n",
      "Skipping line 588: '^' expected after '\"'\n"
     ]
    },
    {
     "name": "stdout",
     "output_type": "stream",
     "text": [
      "finish the 94 user!\n",
      "finish the 95 user!\n"
     ]
    },
    {
     "name": "stderr",
     "output_type": "stream",
     "text": [
      "Skipping line 170: '^' expected after '\"'\n"
     ]
    },
    {
     "name": "stdout",
     "output_type": "stream",
     "text": [
      "finish the 96 user!\n"
     ]
    },
    {
     "name": "stderr",
     "output_type": "stream",
     "text": [
      "Skipping line 24: '^' expected after '\"'\n"
     ]
    },
    {
     "name": "stdout",
     "output_type": "stream",
     "text": [
      "finish the 97 user!\n"
     ]
    },
    {
     "name": "stderr",
     "output_type": "stream",
     "text": [
      "Skipping line 100: '^' expected after '\"'\n"
     ]
    },
    {
     "name": "stdout",
     "output_type": "stream",
     "text": [
      "finish the 98 user!\n",
      "finish the 99 user!\n",
      "finish the 100 user!\n",
      "finish the 101 user!\n",
      "finish the 102 user!\n",
      "finish the 103 user!\n",
      "finish the 104 user!\n"
     ]
    },
    {
     "name": "stderr",
     "output_type": "stream",
     "text": [
      "Skipping line 198: '^' expected after '\"'\n",
      "Skipping line 241: '^' expected after '\"'\n",
      "Skipping line 276: '^' expected after '\"'\n",
      "Skipping line 341: '^' expected after '\"'\n",
      "Skipping line 398: '^' expected after '\"'\n",
      "Skipping line 496: '^' expected after '\"'\n",
      "Skipping line 549: '^' expected after '\"'\n",
      "Skipping line 551: '^' expected after '\"'\n",
      "Skipping line 592: '^' expected after '\"'\n",
      "Skipping line 627: '^' expected after '\"'\n",
      "Skipping line 640: '^' expected after '\"'\n"
     ]
    },
    {
     "name": "stdout",
     "output_type": "stream",
     "text": [
      "finish the 105 user!\n",
      "finish the 106 user!\n"
     ]
    },
    {
     "name": "stderr",
     "output_type": "stream",
     "text": [
      "Skipping line 87: '^' expected after '\"'\n",
      "Skipping line 166: '^' expected after '\"'\n",
      "Skipping line 199: '^' expected after '\"'\n",
      "Skipping line 264: '^' expected after '\"'\n",
      "Skipping line 277: '^' expected after '\"'\n",
      "Skipping line 306: '^' expected after '\"'\n",
      "Skipping line 312: '^' expected after '\"'\n",
      "Skipping line 314: '^' expected after '\"'\n",
      "Skipping line 386: '^' expected after '\"'\n",
      "Skipping line 389: '^' expected after '\"'\n",
      "Skipping line 391: '^' expected after '\"'\n",
      "Skipping line 405: '^' expected after '\"'\n",
      "Skipping line 577: '^' expected after '\"'\n",
      "Skipping line 582: '^' expected after '\"'\n",
      "Skipping line 614: '^' expected after '\"'\n",
      "Skipping line 651: '^' expected after '\"'\n"
     ]
    },
    {
     "name": "stdout",
     "output_type": "stream",
     "text": [
      "finish the 107 user!\n"
     ]
    },
    {
     "name": "stderr",
     "output_type": "stream",
     "text": [
      "Skipping line 591: '^' expected after '\"'\n",
      "Skipping line 728: Expected 3 fields in line 728, saw 5\n"
     ]
    },
    {
     "name": "stdout",
     "output_type": "stream",
     "text": [
      "finish the 108 user!\n",
      "finish the 109 user!\n"
     ]
    },
    {
     "name": "stderr",
     "output_type": "stream",
     "text": [
      "Skipping line 32: '^' expected after '\"'\n"
     ]
    },
    {
     "name": "stdout",
     "output_type": "stream",
     "text": [
      "finish the 110 user!\n",
      "finish the 111 user!\n"
     ]
    },
    {
     "name": "stderr",
     "output_type": "stream",
     "text": [
      "Skipping line 28: '^' expected after '\"'\n"
     ]
    },
    {
     "name": "stdout",
     "output_type": "stream",
     "text": [
      "finish the 112 user!\n"
     ]
    },
    {
     "name": "stderr",
     "output_type": "stream",
     "text": [
      "Skipping line 253: '^' expected after '\"'\n",
      "Skipping line 256: '^' expected after '\"'\n",
      "Skipping line 257: '^' expected after '\"'\n",
      "Skipping line 258: '^' expected after '\"'\n",
      "Skipping line 259: '^' expected after '\"'\n",
      "Skipping line 262: '^' expected after '\"'\n",
      "Skipping line 263: '^' expected after '\"'\n"
     ]
    },
    {
     "name": "stdout",
     "output_type": "stream",
     "text": [
      "finish the 113 user!\n",
      "finish the 114 user!\n",
      "finish the 115 user!\n",
      "finish the 116 user!\n"
     ]
    },
    {
     "name": "stderr",
     "output_type": "stream",
     "text": [
      "Skipping line 32: '^' expected after '\"'\n"
     ]
    },
    {
     "name": "stdout",
     "output_type": "stream",
     "text": [
      "finish the 117 user!\n"
     ]
    },
    {
     "name": "stderr",
     "output_type": "stream",
     "text": [
      "Skipping line 10: '^' expected after '\"'\n",
      "Skipping line 11: '^' expected after '\"'\n",
      "Skipping line 82: '^' expected after '\"'\n",
      "Skipping line 358: '^' expected after '\"'\n",
      "Skipping line 383: '^' expected after '\"'\n",
      "Skipping line 400: '^' expected after '\"'\n"
     ]
    },
    {
     "name": "stdout",
     "output_type": "stream",
     "text": [
      "finish the 118 user!\n"
     ]
    },
    {
     "name": "stderr",
     "output_type": "stream",
     "text": [
      "Skipping line 74: '^' expected after '\"'\n",
      "Skipping line 116: '^' expected after '\"'\n",
      "Skipping line 152: '^' expected after '\"'\n",
      "Skipping line 236: '^' expected after '\"'\n"
     ]
    },
    {
     "name": "stdout",
     "output_type": "stream",
     "text": [
      "finish the 119 user!\n"
     ]
    },
    {
     "name": "stderr",
     "output_type": "stream",
     "text": [
      "Skipping line 25: '^' expected after '\"'\n",
      "Skipping line 26: '^' expected after '\"'\n",
      "Skipping line 27: '^' expected after '\"'\n",
      "Skipping line 28: '^' expected after '\"'\n",
      "Skipping line 196: '^' expected after '\"'\n",
      "Skipping line 333: '^' expected after '\"'\n"
     ]
    },
    {
     "name": "stdout",
     "output_type": "stream",
     "text": [
      "finish the 120 user!\n",
      "finish the 121 user!\n"
     ]
    },
    {
     "name": "stderr",
     "output_type": "stream",
     "text": [
      "Skipping line 413: '^' expected after '\"'\n",
      "Skipping line 428: '^' expected after '\"'\n",
      "Skipping line 181: Expected 3 fields in line 181, saw 5\n"
     ]
    },
    {
     "name": "stdout",
     "output_type": "stream",
     "text": [
      "finish the 122 user!\n",
      "finish the 123 user!\n",
      "finish the 124 user!\n"
     ]
    },
    {
     "name": "stderr",
     "output_type": "stream",
     "text": [
      "Skipping line 347: '^' expected after '\"'\n",
      "Skipping line 452: '^' expected after '\"'\n",
      "Skipping line 533: '^' expected after '\"'\n"
     ]
    },
    {
     "name": "stdout",
     "output_type": "stream",
     "text": [
      "finish the 125 user!\n",
      "finish the 126 user!\n",
      "finish the 127 user!\n",
      "finish the 128 user!\n"
     ]
    },
    {
     "name": "stderr",
     "output_type": "stream",
     "text": [
      "Skipping line 38: '^' expected after '\"'\n",
      "Skipping line 40: '^' expected after '\"'\n"
     ]
    },
    {
     "name": "stdout",
     "output_type": "stream",
     "text": [
      "finish the 129 user!\n",
      "finish the 130 user!\n"
     ]
    },
    {
     "name": "stderr",
     "output_type": "stream",
     "text": [
      "Skipping line 159: '^' expected after '\"'\n",
      "Skipping line 237: '^' expected after '\"'\n",
      "Skipping line 257: '^' expected after '\"'\n",
      "Skipping line 308: '^' expected after '\"'\n",
      "Skipping line 393: '^' expected after '\"'\n",
      "Skipping line 406: '^' expected after '\"'\n",
      "Skipping line 599: '^' expected after '\"'\n",
      "Skipping line 615: '^' expected after '\"'\n",
      "Skipping line 636: '^' expected after '\"'\n"
     ]
    },
    {
     "name": "stdout",
     "output_type": "stream",
     "text": [
      "finish the 131 user!\n"
     ]
    },
    {
     "name": "stderr",
     "output_type": "stream",
     "text": [
      "Skipping line 10: '^' expected after '\"'\n",
      "Skipping line 29: '^' expected after '\"'\n",
      "Skipping line 130: '^' expected after '\"'\n",
      "Skipping line 168: '^' expected after '\"'\n",
      "Skipping line 256: '^' expected after '\"'\n",
      "Skipping line 288: '^' expected after '\"'\n",
      "Skipping line 611: '^' expected after '\"'\n"
     ]
    },
    {
     "name": "stdout",
     "output_type": "stream",
     "text": [
      "finish the 132 user!\n"
     ]
    },
    {
     "name": "stderr",
     "output_type": "stream",
     "text": [
      "Skipping line 39: '^' expected after '\"'\n",
      "Skipping line 236: '^' expected after '\"'\n",
      "Skipping line 298: '^' expected after '\"'\n",
      "Skipping line 541: '^' expected after '\"'\n"
     ]
    },
    {
     "name": "stdout",
     "output_type": "stream",
     "text": [
      "finish the 133 user!\n",
      "finish the 134 user!\n"
     ]
    },
    {
     "name": "stderr",
     "output_type": "stream",
     "text": [
      "Skipping line 11: '^' expected after '\"'\n",
      "Skipping line 113: '^' expected after '\"'\n",
      "Skipping line 362: '^' expected after '\"'\n",
      "Skipping line 421: '^' expected after '\"'\n",
      "Skipping line 486: '^' expected after '\"'\n"
     ]
    },
    {
     "name": "stdout",
     "output_type": "stream",
     "text": [
      "finish the 135 user!\n",
      "finish the 136 user!\n"
     ]
    },
    {
     "name": "stderr",
     "output_type": "stream",
     "text": [
      "Skipping line 84: '^' expected after '\"'\n"
     ]
    },
    {
     "name": "stdout",
     "output_type": "stream",
     "text": [
      "finish the 137 user!\n",
      "finish the 138 user!\n"
     ]
    },
    {
     "name": "stderr",
     "output_type": "stream",
     "text": [
      "Skipping line 363: '^' expected after '\"'\n",
      "Skipping line 452: '^' expected after '\"'\n",
      "Skipping line 753: '^' expected after '\"'\n"
     ]
    },
    {
     "name": "stdout",
     "output_type": "stream",
     "text": [
      "finish the 139 user!\n"
     ]
    },
    {
     "name": "stderr",
     "output_type": "stream",
     "text": [
      "Skipping line 112: '^' expected after '\"'\n"
     ]
    },
    {
     "name": "stdout",
     "output_type": "stream",
     "text": [
      "finish the 140 user!\n",
      "finish the 141 user!\n",
      "finish the 142 user!\n",
      "finish the 143 user!\n",
      "finish the 144 user!\n",
      "finish the 145 user!\n"
     ]
    },
    {
     "name": "stderr",
     "output_type": "stream",
     "text": [
      "Skipping line 18: '^' expected after '\"'\n",
      "Skipping line 54: '^' expected after '\"'\n",
      "Skipping line 91: '^' expected after '\"'\n",
      "Skipping line 135: '^' expected after '\"'\n",
      "Skipping line 154: '^' expected after '\"'\n"
     ]
    },
    {
     "name": "stdout",
     "output_type": "stream",
     "text": [
      "finish the 146 user!\n"
     ]
    }
   ],
   "source": [
    "follower_target_list=[]\n",
    "count=0\n",
    "for name in follower_filenames:\n",
    "    name=name.split('.')[0]\n",
    "    N_df=read_as_df(follower_folder_path,name)\n",
    "    \n",
    "    if len(N_df)<10:\n",
    "        pass\n",
    "    else:\n",
    "        follower_tweets=list(N_df['tweets'])\n",
    "        follower_tweets=[str(tweet) for tweet in follower_tweets]\n",
    "        follower_tweets=strip_drop_duplicated(follower_tweets)\n",
    "        follower_tweets=remove_symbols(follower_tweets)\n",
    "        follower_tweets=standardize(follower_tweets)\n",
    "        follower_tweets=stop_word_removal(follower_tweets)\n",
    "        follower_tweets=lematization(follower_tweets)\n",
    "        total_tweets_num = len(follower_tweets)\n",
    "        if total_tweets_num<=10:\n",
    "            continue\n",
    "        else:\n",
    "            test_test=list_to_string(follower_tweets)\n",
    "            t_test = ch2.transform(tfidf_vectorizer.transform(test_test))\n",
    "            t_test.shape\n",
    "            target_num=list(Adaboost_clf.predict(t_test)).count(1)\n",
    "\n",
    "            ratio=float(target_num/total_tweets_num)\n",
    "\n",
    "            follower_target_list.append([name,total_tweets_num, target_num, ratio])\n",
    "            count+=1\n",
    "            print('finish the '+str(count)+' user!')"
   ]
  },
  {
   "cell_type": "code",
   "execution_count": 475,
   "metadata": {
    "scrolled": true
   },
   "outputs": [
    {
     "data": {
      "text/html": [
       "<div>\n",
       "<style>\n",
       "    .dataframe thead tr:only-child th {\n",
       "        text-align: right;\n",
       "    }\n",
       "\n",
       "    .dataframe thead th {\n",
       "        text-align: left;\n",
       "    }\n",
       "\n",
       "    .dataframe tbody tr th {\n",
       "        vertical-align: top;\n",
       "    }\n",
       "</style>\n",
       "<table border=\"1\" class=\"dataframe\">\n",
       "  <thead>\n",
       "    <tr style=\"text-align: right;\">\n",
       "      <th></th>\n",
       "      <th>name</th>\n",
       "      <th>total_tweets</th>\n",
       "      <th>target_tweets</th>\n",
       "      <th>ratio</th>\n",
       "    </tr>\n",
       "  </thead>\n",
       "  <tbody>\n",
       "    <tr>\n",
       "      <th>64</th>\n",
       "      <td>SamsungBilgim</td>\n",
       "      <td>38</td>\n",
       "      <td>26</td>\n",
       "      <td>0.684211</td>\n",
       "    </tr>\n",
       "    <tr>\n",
       "      <th>136</th>\n",
       "      <td>BrodaWatchFaces</td>\n",
       "      <td>45</td>\n",
       "      <td>29</td>\n",
       "      <td>0.644444</td>\n",
       "    </tr>\n",
       "    <tr>\n",
       "      <th>37</th>\n",
       "      <td>de09857681</td>\n",
       "      <td>32</td>\n",
       "      <td>19</td>\n",
       "      <td>0.593750</td>\n",
       "    </tr>\n",
       "    <tr>\n",
       "      <th>137</th>\n",
       "      <td>ccelikel</td>\n",
       "      <td>54</td>\n",
       "      <td>29</td>\n",
       "      <td>0.537037</td>\n",
       "    </tr>\n",
       "    <tr>\n",
       "      <th>105</th>\n",
       "      <td>SamsungGearWF</td>\n",
       "      <td>15</td>\n",
       "      <td>8</td>\n",
       "      <td>0.533333</td>\n",
       "    </tr>\n",
       "    <tr>\n",
       "      <th>63</th>\n",
       "      <td>GreatwallTEC</td>\n",
       "      <td>21</td>\n",
       "      <td>11</td>\n",
       "      <td>0.523810</td>\n",
       "    </tr>\n",
       "    <tr>\n",
       "      <th>139</th>\n",
       "      <td>PhoneGenesis</td>\n",
       "      <td>262</td>\n",
       "      <td>135</td>\n",
       "      <td>0.515267</td>\n",
       "    </tr>\n",
       "    <tr>\n",
       "      <th>20</th>\n",
       "      <td>Sksoans1</td>\n",
       "      <td>163</td>\n",
       "      <td>74</td>\n",
       "      <td>0.453988</td>\n",
       "    </tr>\n",
       "    <tr>\n",
       "      <th>65</th>\n",
       "      <td>BUnboxed</td>\n",
       "      <td>27</td>\n",
       "      <td>12</td>\n",
       "      <td>0.444444</td>\n",
       "    </tr>\n",
       "    <tr>\n",
       "      <th>44</th>\n",
       "      <td>geetsethi84</td>\n",
       "      <td>24</td>\n",
       "      <td>10</td>\n",
       "      <td>0.416667</td>\n",
       "    </tr>\n",
       "  </tbody>\n",
       "</table>\n",
       "</div>"
      ],
      "text/plain": [
       "                name  total_tweets  target_tweets     ratio\n",
       "64     SamsungBilgim            38             26  0.684211\n",
       "136  BrodaWatchFaces            45             29  0.644444\n",
       "37        de09857681            32             19  0.593750\n",
       "137         ccelikel            54             29  0.537037\n",
       "105    SamsungGearWF            15              8  0.533333\n",
       "63      GreatwallTEC            21             11  0.523810\n",
       "139     PhoneGenesis           262            135  0.515267\n",
       "20          Sksoans1           163             74  0.453988\n",
       "65          BUnboxed            27             12  0.444444\n",
       "44       geetsethi84            24             10  0.416667"
      ]
     },
     "execution_count": 475,
     "metadata": {},
     "output_type": "execute_result"
    }
   ],
   "source": [
    "df_follower=pd.DataFrame(follower_target_list,columns=['name','total_tweets','target_tweets','ratio'])\n",
    "df_follower.sort_values(by=['ratio'],ascending=False).head(10)\n",
    "#= df.sort(['A', 'B'], ascending=[1, 0])"
   ]
  },
  {
   "cell_type": "code",
   "execution_count": 476,
   "metadata": {
    "scrolled": true
   },
   "outputs": [
    {
     "data": {
      "text/html": [
       "<div>\n",
       "<style>\n",
       "    .dataframe thead tr:only-child th {\n",
       "        text-align: right;\n",
       "    }\n",
       "\n",
       "    .dataframe thead th {\n",
       "        text-align: left;\n",
       "    }\n",
       "\n",
       "    .dataframe tbody tr th {\n",
       "        vertical-align: top;\n",
       "    }\n",
       "</style>\n",
       "<table border=\"1\" class=\"dataframe\">\n",
       "  <thead>\n",
       "    <tr style=\"text-align: right;\">\n",
       "      <th></th>\n",
       "      <th>name</th>\n",
       "      <th>total_tweets</th>\n",
       "      <th>target_tweets</th>\n",
       "      <th>ratio</th>\n",
       "    </tr>\n",
       "  </thead>\n",
       "  <tbody>\n",
       "    <tr>\n",
       "      <th>52</th>\n",
       "      <td>openwavesg</td>\n",
       "      <td>260</td>\n",
       "      <td>78</td>\n",
       "      <td>0.300000</td>\n",
       "    </tr>\n",
       "    <tr>\n",
       "      <th>79</th>\n",
       "      <td>govindgoyal41</td>\n",
       "      <td>14</td>\n",
       "      <td>4</td>\n",
       "      <td>0.285714</td>\n",
       "    </tr>\n",
       "    <tr>\n",
       "      <th>126</th>\n",
       "      <td>vrzone</td>\n",
       "      <td>115</td>\n",
       "      <td>30</td>\n",
       "      <td>0.260870</td>\n",
       "    </tr>\n",
       "    <tr>\n",
       "      <th>69</th>\n",
       "      <td>Shafiudeen68</td>\n",
       "      <td>24</td>\n",
       "      <td>6</td>\n",
       "      <td>0.250000</td>\n",
       "    </tr>\n",
       "    <tr>\n",
       "      <th>71</th>\n",
       "      <td>ernest_febb</td>\n",
       "      <td>12</td>\n",
       "      <td>3</td>\n",
       "      <td>0.250000</td>\n",
       "    </tr>\n",
       "    <tr>\n",
       "      <th>122</th>\n",
       "      <td>Bala97591042</td>\n",
       "      <td>12</td>\n",
       "      <td>3</td>\n",
       "      <td>0.250000</td>\n",
       "    </tr>\n",
       "    <tr>\n",
       "      <th>88</th>\n",
       "      <td>atul_pratik</td>\n",
       "      <td>12</td>\n",
       "      <td>3</td>\n",
       "      <td>0.250000</td>\n",
       "    </tr>\n",
       "    <tr>\n",
       "      <th>96</th>\n",
       "      <td>wheninsingapura</td>\n",
       "      <td>85</td>\n",
       "      <td>21</td>\n",
       "      <td>0.247059</td>\n",
       "    </tr>\n",
       "    <tr>\n",
       "      <th>120</th>\n",
       "      <td>fieryfist88</td>\n",
       "      <td>25</td>\n",
       "      <td>6</td>\n",
       "      <td>0.240000</td>\n",
       "    </tr>\n",
       "    <tr>\n",
       "      <th>51</th>\n",
       "      <td>zgcnkygsz</td>\n",
       "      <td>249</td>\n",
       "      <td>59</td>\n",
       "      <td>0.236948</td>\n",
       "    </tr>\n",
       "    <tr>\n",
       "      <th>18</th>\n",
       "      <td>TarunSahis</td>\n",
       "      <td>17</td>\n",
       "      <td>4</td>\n",
       "      <td>0.235294</td>\n",
       "    </tr>\n",
       "    <tr>\n",
       "      <th>14</th>\n",
       "      <td>Mr_Kelvan23</td>\n",
       "      <td>26</td>\n",
       "      <td>6</td>\n",
       "      <td>0.230769</td>\n",
       "    </tr>\n",
       "    <tr>\n",
       "      <th>3</th>\n",
       "      <td>DarthSephiroth</td>\n",
       "      <td>14</td>\n",
       "      <td>3</td>\n",
       "      <td>0.214286</td>\n",
       "    </tr>\n",
       "    <tr>\n",
       "      <th>11</th>\n",
       "      <td>vrzone_ian</td>\n",
       "      <td>38</td>\n",
       "      <td>8</td>\n",
       "      <td>0.210526</td>\n",
       "    </tr>\n",
       "    <tr>\n",
       "      <th>113</th>\n",
       "      <td>ikyloren2910</td>\n",
       "      <td>19</td>\n",
       "      <td>4</td>\n",
       "      <td>0.210526</td>\n",
       "    </tr>\n",
       "    <tr>\n",
       "      <th>127</th>\n",
       "      <td>freedomneo</td>\n",
       "      <td>59</td>\n",
       "      <td>12</td>\n",
       "      <td>0.203390</td>\n",
       "    </tr>\n",
       "    <tr>\n",
       "      <th>133</th>\n",
       "      <td>ramkheelarimee1</td>\n",
       "      <td>158</td>\n",
       "      <td>32</td>\n",
       "      <td>0.202532</td>\n",
       "    </tr>\n",
       "    <tr>\n",
       "      <th>106</th>\n",
       "      <td>tellbhavik</td>\n",
       "      <td>613</td>\n",
       "      <td>124</td>\n",
       "      <td>0.202284</td>\n",
       "    </tr>\n",
       "    <tr>\n",
       "      <th>25</th>\n",
       "      <td>fayazalijan9952</td>\n",
       "      <td>198</td>\n",
       "      <td>40</td>\n",
       "      <td>0.202020</td>\n",
       "    </tr>\n",
       "    <tr>\n",
       "      <th>144</th>\n",
       "      <td>Benjami99239520</td>\n",
       "      <td>40</td>\n",
       "      <td>8</td>\n",
       "      <td>0.200000</td>\n",
       "    </tr>\n",
       "    <tr>\n",
       "      <th>13</th>\n",
       "      <td>puteraetong11</td>\n",
       "      <td>20</td>\n",
       "      <td>4</td>\n",
       "      <td>0.200000</td>\n",
       "    </tr>\n",
       "    <tr>\n",
       "      <th>114</th>\n",
       "      <td>PramavC</td>\n",
       "      <td>36</td>\n",
       "      <td>7</td>\n",
       "      <td>0.194444</td>\n",
       "    </tr>\n",
       "    <tr>\n",
       "      <th>107</th>\n",
       "      <td>PrinceSnivy24</td>\n",
       "      <td>690</td>\n",
       "      <td>133</td>\n",
       "      <td>0.192754</td>\n",
       "    </tr>\n",
       "    <tr>\n",
       "      <th>6</th>\n",
       "      <td>lazygenius420</td>\n",
       "      <td>101</td>\n",
       "      <td>19</td>\n",
       "      <td>0.188119</td>\n",
       "    </tr>\n",
       "    <tr>\n",
       "      <th>119</th>\n",
       "      <td>CULgjrvg8hlPbWb</td>\n",
       "      <td>320</td>\n",
       "      <td>58</td>\n",
       "      <td>0.181250</td>\n",
       "    </tr>\n",
       "    <tr>\n",
       "      <th>95</th>\n",
       "      <td>pankajjangra96</td>\n",
       "      <td>95</td>\n",
       "      <td>17</td>\n",
       "      <td>0.178947</td>\n",
       "    </tr>\n",
       "    <tr>\n",
       "      <th>134</th>\n",
       "      <td>anitpang</td>\n",
       "      <td>515</td>\n",
       "      <td>88</td>\n",
       "      <td>0.170874</td>\n",
       "    </tr>\n",
       "    <tr>\n",
       "      <th>90</th>\n",
       "      <td>shanchuanhuhai</td>\n",
       "      <td>12</td>\n",
       "      <td>2</td>\n",
       "      <td>0.166667</td>\n",
       "    </tr>\n",
       "    <tr>\n",
       "      <th>30</th>\n",
       "      <td>HiranmoyBiswas7</td>\n",
       "      <td>12</td>\n",
       "      <td>2</td>\n",
       "      <td>0.166667</td>\n",
       "    </tr>\n",
       "    <tr>\n",
       "      <th>62</th>\n",
       "      <td>apollodestiny</td>\n",
       "      <td>12</td>\n",
       "      <td>2</td>\n",
       "      <td>0.166667</td>\n",
       "    </tr>\n",
       "    <tr>\n",
       "      <th>...</th>\n",
       "      <td>...</td>\n",
       "      <td>...</td>\n",
       "      <td>...</td>\n",
       "      <td>...</td>\n",
       "    </tr>\n",
       "    <tr>\n",
       "      <th>80</th>\n",
       "      <td>saptasadi</td>\n",
       "      <td>210</td>\n",
       "      <td>20</td>\n",
       "      <td>0.095238</td>\n",
       "    </tr>\n",
       "    <tr>\n",
       "      <th>10</th>\n",
       "      <td>NotniceClifford</td>\n",
       "      <td>21</td>\n",
       "      <td>2</td>\n",
       "      <td>0.095238</td>\n",
       "    </tr>\n",
       "    <tr>\n",
       "      <th>142</th>\n",
       "      <td>CouponKozSG</td>\n",
       "      <td>21</td>\n",
       "      <td>2</td>\n",
       "      <td>0.095238</td>\n",
       "    </tr>\n",
       "    <tr>\n",
       "      <th>138</th>\n",
       "      <td>vvkxnanaloh</td>\n",
       "      <td>428</td>\n",
       "      <td>40</td>\n",
       "      <td>0.093458</td>\n",
       "    </tr>\n",
       "    <tr>\n",
       "      <th>110</th>\n",
       "      <td>hmdimranbiswas</td>\n",
       "      <td>43</td>\n",
       "      <td>4</td>\n",
       "      <td>0.093023</td>\n",
       "    </tr>\n",
       "    <tr>\n",
       "      <th>27</th>\n",
       "      <td>JohnErwinRodri1</td>\n",
       "      <td>393</td>\n",
       "      <td>36</td>\n",
       "      <td>0.091603</td>\n",
       "    </tr>\n",
       "    <tr>\n",
       "      <th>115</th>\n",
       "      <td>VGMW888</td>\n",
       "      <td>11</td>\n",
       "      <td>1</td>\n",
       "      <td>0.090909</td>\n",
       "    </tr>\n",
       "    <tr>\n",
       "      <th>82</th>\n",
       "      <td>Jaspi18</td>\n",
       "      <td>254</td>\n",
       "      <td>23</td>\n",
       "      <td>0.090551</td>\n",
       "    </tr>\n",
       "    <tr>\n",
       "      <th>15</th>\n",
       "      <td>BritishClubsg</td>\n",
       "      <td>89</td>\n",
       "      <td>8</td>\n",
       "      <td>0.089888</td>\n",
       "    </tr>\n",
       "    <tr>\n",
       "      <th>86</th>\n",
       "      <td>why_tien</td>\n",
       "      <td>134</td>\n",
       "      <td>12</td>\n",
       "      <td>0.089552</td>\n",
       "    </tr>\n",
       "    <tr>\n",
       "      <th>28</th>\n",
       "      <td>TerryPMcNamee</td>\n",
       "      <td>80</td>\n",
       "      <td>7</td>\n",
       "      <td>0.087500</td>\n",
       "    </tr>\n",
       "    <tr>\n",
       "      <th>131</th>\n",
       "      <td>sir_tayna</td>\n",
       "      <td>207</td>\n",
       "      <td>18</td>\n",
       "      <td>0.086957</td>\n",
       "    </tr>\n",
       "    <tr>\n",
       "      <th>118</th>\n",
       "      <td>iamSalmanSami</td>\n",
       "      <td>199</td>\n",
       "      <td>17</td>\n",
       "      <td>0.085427</td>\n",
       "    </tr>\n",
       "    <tr>\n",
       "      <th>61</th>\n",
       "      <td>uniformonline1</td>\n",
       "      <td>37</td>\n",
       "      <td>3</td>\n",
       "      <td>0.081081</td>\n",
       "    </tr>\n",
       "    <tr>\n",
       "      <th>70</th>\n",
       "      <td>RRealiene</td>\n",
       "      <td>252</td>\n",
       "      <td>20</td>\n",
       "      <td>0.079365</td>\n",
       "    </tr>\n",
       "    <tr>\n",
       "      <th>60</th>\n",
       "      <td>babysw86</td>\n",
       "      <td>13</td>\n",
       "      <td>1</td>\n",
       "      <td>0.076923</td>\n",
       "    </tr>\n",
       "    <tr>\n",
       "      <th>38</th>\n",
       "      <td>jayRtheyoungest</td>\n",
       "      <td>278</td>\n",
       "      <td>21</td>\n",
       "      <td>0.075540</td>\n",
       "    </tr>\n",
       "    <tr>\n",
       "      <th>77</th>\n",
       "      <td>vvanzero</td>\n",
       "      <td>134</td>\n",
       "      <td>10</td>\n",
       "      <td>0.074627</td>\n",
       "    </tr>\n",
       "    <tr>\n",
       "      <th>124</th>\n",
       "      <td>Na3hed_Potato</td>\n",
       "      <td>377</td>\n",
       "      <td>28</td>\n",
       "      <td>0.074271</td>\n",
       "    </tr>\n",
       "    <tr>\n",
       "      <th>135</th>\n",
       "      <td>vko_www</td>\n",
       "      <td>27</td>\n",
       "      <td>2</td>\n",
       "      <td>0.074074</td>\n",
       "    </tr>\n",
       "    <tr>\n",
       "      <th>121</th>\n",
       "      <td>WithHorlicks</td>\n",
       "      <td>573</td>\n",
       "      <td>41</td>\n",
       "      <td>0.071553</td>\n",
       "    </tr>\n",
       "    <tr>\n",
       "      <th>76</th>\n",
       "      <td>TonyLin90488203</td>\n",
       "      <td>14</td>\n",
       "      <td>1</td>\n",
       "      <td>0.071429</td>\n",
       "    </tr>\n",
       "    <tr>\n",
       "      <th>125</th>\n",
       "      <td>BibiEyads</td>\n",
       "      <td>154</td>\n",
       "      <td>11</td>\n",
       "      <td>0.071429</td>\n",
       "    </tr>\n",
       "    <tr>\n",
       "      <th>129</th>\n",
       "      <td>Hanlaa</td>\n",
       "      <td>29</td>\n",
       "      <td>2</td>\n",
       "      <td>0.068966</td>\n",
       "    </tr>\n",
       "    <tr>\n",
       "      <th>130</th>\n",
       "      <td>ccyee888</td>\n",
       "      <td>430</td>\n",
       "      <td>28</td>\n",
       "      <td>0.065116</td>\n",
       "    </tr>\n",
       "    <tr>\n",
       "      <th>94</th>\n",
       "      <td>MonotoshPal3</td>\n",
       "      <td>31</td>\n",
       "      <td>2</td>\n",
       "      <td>0.064516</td>\n",
       "    </tr>\n",
       "    <tr>\n",
       "      <th>53</th>\n",
       "      <td>Aaronaccessorie</td>\n",
       "      <td>32</td>\n",
       "      <td>2</td>\n",
       "      <td>0.062500</td>\n",
       "    </tr>\n",
       "    <tr>\n",
       "      <th>67</th>\n",
       "      <td>OngYewKhoon3</td>\n",
       "      <td>34</td>\n",
       "      <td>2</td>\n",
       "      <td>0.058824</td>\n",
       "    </tr>\n",
       "    <tr>\n",
       "      <th>99</th>\n",
       "      <td>Kumaran_J</td>\n",
       "      <td>17</td>\n",
       "      <td>1</td>\n",
       "      <td>0.058824</td>\n",
       "    </tr>\n",
       "    <tr>\n",
       "      <th>84</th>\n",
       "      <td>leowyapyong</td>\n",
       "      <td>17</td>\n",
       "      <td>1</td>\n",
       "      <td>0.058824</td>\n",
       "    </tr>\n",
       "  </tbody>\n",
       "</table>\n",
       "<p>114 rows × 4 columns</p>\n",
       "</div>"
      ],
      "text/plain": [
       "                name  total_tweets  target_tweets     ratio\n",
       "52        openwavesg           260             78  0.300000\n",
       "79     govindgoyal41            14              4  0.285714\n",
       "126           vrzone           115             30  0.260870\n",
       "69      Shafiudeen68            24              6  0.250000\n",
       "71       ernest_febb            12              3  0.250000\n",
       "122     Bala97591042            12              3  0.250000\n",
       "88       atul_pratik            12              3  0.250000\n",
       "96   wheninsingapura            85             21  0.247059\n",
       "120      fieryfist88            25              6  0.240000\n",
       "51         zgcnkygsz           249             59  0.236948\n",
       "18        TarunSahis            17              4  0.235294\n",
       "14       Mr_Kelvan23            26              6  0.230769\n",
       "3     DarthSephiroth            14              3  0.214286\n",
       "11        vrzone_ian            38              8  0.210526\n",
       "113     ikyloren2910            19              4  0.210526\n",
       "127       freedomneo            59             12  0.203390\n",
       "133  ramkheelarimee1           158             32  0.202532\n",
       "106       tellbhavik           613            124  0.202284\n",
       "25   fayazalijan9952           198             40  0.202020\n",
       "144  Benjami99239520            40              8  0.200000\n",
       "13     puteraetong11            20              4  0.200000\n",
       "114          PramavC            36              7  0.194444\n",
       "107    PrinceSnivy24           690            133  0.192754\n",
       "6      lazygenius420           101             19  0.188119\n",
       "119  CULgjrvg8hlPbWb           320             58  0.181250\n",
       "95    pankajjangra96            95             17  0.178947\n",
       "134         anitpang           515             88  0.170874\n",
       "90    shanchuanhuhai            12              2  0.166667\n",
       "30   HiranmoyBiswas7            12              2  0.166667\n",
       "62     apollodestiny            12              2  0.166667\n",
       "..               ...           ...            ...       ...\n",
       "80         saptasadi           210             20  0.095238\n",
       "10   NotniceClifford            21              2  0.095238\n",
       "142      CouponKozSG            21              2  0.095238\n",
       "138      vvkxnanaloh           428             40  0.093458\n",
       "110   hmdimranbiswas            43              4  0.093023\n",
       "27   JohnErwinRodri1           393             36  0.091603\n",
       "115          VGMW888            11              1  0.090909\n",
       "82           Jaspi18           254             23  0.090551\n",
       "15     BritishClubsg            89              8  0.089888\n",
       "86          why_tien           134             12  0.089552\n",
       "28     TerryPMcNamee            80              7  0.087500\n",
       "131        sir_tayna           207             18  0.086957\n",
       "118    iamSalmanSami           199             17  0.085427\n",
       "61    uniformonline1            37              3  0.081081\n",
       "70         RRealiene           252             20  0.079365\n",
       "60          babysw86            13              1  0.076923\n",
       "38   jayRtheyoungest           278             21  0.075540\n",
       "77          vvanzero           134             10  0.074627\n",
       "124    Na3hed_Potato           377             28  0.074271\n",
       "135          vko_www            27              2  0.074074\n",
       "121     WithHorlicks           573             41  0.071553\n",
       "76   TonyLin90488203            14              1  0.071429\n",
       "125        BibiEyads           154             11  0.071429\n",
       "129           Hanlaa            29              2  0.068966\n",
       "130         ccyee888           430             28  0.065116\n",
       "94      MonotoshPal3            31              2  0.064516\n",
       "53   Aaronaccessorie            32              2  0.062500\n",
       "67      OngYewKhoon3            34              2  0.058824\n",
       "99         Kumaran_J            17              1  0.058824\n",
       "84       leowyapyong            17              1  0.058824\n",
       "\n",
       "[114 rows x 4 columns]"
      ]
     },
     "execution_count": 476,
     "metadata": {},
     "output_type": "execute_result"
    }
   ],
   "source": [
    "#df_follower[df_follower <= 0.7]\n",
    "new_follower=df_follower[(df_follower[\"ratio\"] > 0.05) & (df_follower[\"ratio\"] <= 0.3)]\n",
    "new_follower.sort_values(by=['ratio'],ascending=False)"
   ]
  },
  {
   "cell_type": "code",
   "execution_count": 464,
   "metadata": {},
   "outputs": [],
   "source": [
    "N_df=read_as_df(follower_folder_path,'ramkheelarimee1')\n",
    "follower_tweets=list(N_df['tweets'])\n",
    "follower_tweets=[str(tweet) for tweet in follower_tweets]\n",
    "follower_tweets=strip_drop_duplicated(follower_tweets)\n",
    "follower_tweets=remove_symbols(follower_tweets)\n",
    "follower_tweets=standardize(follower_tweets)\n",
    "follower_tweets=stop_word_removal(follower_tweets)\n",
    "follower_tweets=lematization(follower_tweets)\n",
    "total_tweets_num = len(follower_tweets)\n",
    "\n",
    "test_test=list_to_string(follower_tweets)\n",
    "t_test = ch2.transform(tfidf_vectorizer.transform(test_test))\n",
    "predict_array=Adaboost_clf.predict(t_test)\n"
   ]
  },
  {
   "cell_type": "code",
   "execution_count": 465,
   "metadata": {},
   "outputs": [],
   "source": [
    "user_df=pd.DataFrame(test_test,columns=['tweets'])\n",
    "user_df['predict']=predict_array\n",
    "user_df.to_csv('/Users/yyb/Documents/5920_Projects/one_user_result.csv')"
   ]
  },
  {
   "cell_type": "code",
   "execution_count": null,
   "metadata": {
    "collapsed": true
   },
   "outputs": [],
   "source": []
  }
 ],
 "metadata": {
  "kernelspec": {
   "display_name": "Python 3",
   "language": "python",
   "name": "python3"
  },
  "language_info": {
   "codemirror_mode": {
    "name": "ipython",
    "version": 3
   },
   "file_extension": ".py",
   "mimetype": "text/x-python",
   "name": "python",
   "nbconvert_exporter": "python",
   "pygments_lexer": "ipython3",
   "version": "3.6.1"
  }
 },
 "nbformat": 4,
 "nbformat_minor": 2
}
