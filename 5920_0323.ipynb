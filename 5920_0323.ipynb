{
 "cells": [
  {
   "cell_type": "code",
   "execution_count": 2,
   "metadata": {
    "collapsed": true
   },
   "outputs": [],
   "source": [
    "import re\n",
    "import string\n",
    "import itertools\n",
    "from nltk import bigrams #pay attention to the 's' of bigrams\n",
    "from nltk.tokenize import RegexpTokenizer\n",
    "from nltk.corpus import stopwords\n",
    "from nltk.stem.wordnet import WordNetLemmatizer\n",
    "import pandas as pd\n",
    "import numpy as np\n",
    "import csv\n",
    "import json\n",
    "import nltk\n",
    "import operator\n",
    "from collections import Counter\n",
    "import gensim\n",
    "from gensim import corpora\n",
    "from os import listdir\n",
    "from os.path import isfile,join\n",
    "import nltk\n",
    "\n",
    "\n",
    "# read from files as dataframe\n",
    "def read_as_df(folder,filename):\n",
    "    filename=filename.split('.')[0]\n",
    "    filepath=folder+filename+'.txt'\n",
    "    df = pd.read_csv(filepath, delimiter=\"^\", header=None,error_bad_lines=False,engine='python')\n",
    "    df.columns = [\"tweets\", \"time\", \"date\"]\n",
    "    df['account']=filename \n",
    "    return df\n",
    "\n",
    "\n",
    "# read from files as list \n",
    "def read_as_list(filepath):\n",
    "    with open(filepath) as txt_file:\n",
    "        lines = txt_file.readlines()\n",
    "        e_list = []\n",
    "        for line in lines:\n",
    "            e_list.append(line)  # store the text into a list # 27608\n",
    "        return e_list\n",
    "\n",
    "# drop repetitive words\n",
    "def strip_drop_duplicated(input_list):\n",
    "    tem_list=[tweet.strip() for tweet in input_list] #drop the space at the beginning and in the end\n",
    "    tem_list=list(set(tem_list)) # drop the duplicated # 25600\n",
    "    return tem_list\n",
    "\n",
    "# remove all the symbols and non-english words\n",
    "def remove_symbols(input_list):\n",
    "    #format:[[],[],[]]\n",
    "    regex_str = [\n",
    "        #emoticons_str,\n",
    "        #r'<[^>]+>',  # HTML tags\n",
    "        #r'(?:@[\\w_]+)',  # @-mentions\n",
    "        #r\"(?:\\#+[\\w_]+[\\w\\'_\\-]*[\\w_]+)\",  # hash-tags\n",
    "        #r'http[s]?://(?:[a-z]|[0-9]|[$-_@.&amp;+]|[!*\\(\\),]|(?:%[0-9a-f][0-9a-f]))+',  # URLs\n",
    "        #r'(?:(?:\\d+,?)+(?:\\.?\\d+)?)',  # numbers\n",
    "        #r\"(?:[a-z][a-z'\\-_]+[a-z])\",  # words with - and '\n",
    "        #r'(?:[\\w_]+)',  # other words\n",
    "        #r'(?:\\S)'  # anything else\n",
    "    ]\n",
    "\n",
    "    punctuation=set(string.punctuation)\n",
    "\n",
    "\n",
    "    POS_f_list=[]\n",
    "\n",
    "    for tweet in input_list:\n",
    "        #print(tweet)\n",
    "        tokens=tweet.split(' ')\n",
    "        #tokens=tokens_re.findall(tweet)  # tokens is a list   # token is word\n",
    "        tokens = [ token.lower() for token in tokens]\n",
    "        tokens = [ re.sub(r'<[^>]+>','',token) for token in tokens]\n",
    "        tokens = [ re.sub(r'(?:@[\\w_]+)','',token) for token in tokens]\n",
    "        #tokens = [ re.sub(r\"(?:\\#+[\\w_]+[\\w\\'_\\-]*[\\w_]+)\",'',token) for token in tokens]\n",
    "        tokens = [ re.sub(r'http[s]?://(?:[a-z]|[0-9]|[$-_@.&amp;+]|[!*\\(\\),]|(?:%[0-9a-f][0-9a-f]))+','',token) for token in tokens]\n",
    "        tokens = [ re.sub(r'(?:(?:\\d+,?)+(?:\\.?\\d+)?)','',token) for token in tokens]\n",
    "        tokens = [ re.sub(r'[!?+]','',token) for token in tokens]\n",
    "        tokens = [ re.sub(r'\\&[\\w]+[;]?','',token) for token in tokens]\n",
    "        tokens = [ re.sub(r'[\\w]+[.]+[\\w]+','',token) for token in tokens]\n",
    "        tokens = ['' if token in punctuation else token for token in tokens]\n",
    "        tokens = ['' if len(token)==1 else token for token in tokens]\n",
    "\n",
    "\n",
    "        result=[]\n",
    "        for text in tokens:\n",
    "            try:\n",
    "                word=re.search(r\"(?:^[a-z]+[a-z'\\-_]?[a-z]+)\",text).group(0)\n",
    "                result.append(word)\n",
    "            except:\n",
    "                pass\n",
    "\n",
    "        tokens = nltk.pos_tag(result)\n",
    "        tokens= [words[0] for words in tokens if words[1] in ['NN','NNS','NNP','NNPS']]\n",
    "        POS_f_list.append(tokens)\n",
    "        #remove the '' after the replace of symbols in words\n",
    "        #for i in range(tokens.count('')):\n",
    "            #tokens.remove('')\n",
    "        #token_list.append(result)\n",
    "\n",
    "    #get rid of all the [] in tweets\n",
    "    new_tweets_list=[]\n",
    "    for i in POS_f_list:\n",
    "        if i==[]:\n",
    "            pass\n",
    "        else:\n",
    "            new_tweets_list.append(i)\n",
    "            #print(i)\n",
    "    return new_tweets_list\n",
    "\n",
    "\n",
    "# make some words like 'gooood' to 'good'\n",
    "def standardize(input_list):\n",
    "    standardize_tweet_list=[]\n",
    "    for tweet in input_list:\n",
    "        standardize_tweet=[''.join(''.join(s)[:2] for _, s in itertools.groupby(word)) for word in tweet]\n",
    "        standardize_tweet_list.append(standardize_tweet)\n",
    "    return standardize_tweet_list\n",
    "\n",
    "# list from: Twitter-LDA/data/stoplist.txt & Twitter-LDA/src/Common/Stopwords.java\n",
    "# remove stop words\n",
    "def stop_word_removal(input_list):\n",
    "    nonstopwd_tweets_list=[]\n",
    "    swords_mlist=['ah',\n",
    "'da',\n",
    "'de',\n",
    "'di',\n",
    "'eh',\n",
    "'ga',\n",
    "'ha',\n",
    "'je',\n",
    "'ke',\n",
    "'la',\n",
    "'le',\n",
    "'lo',\n",
    "'lu',\n",
    "'ma',\n",
    "'ni',\n",
    "'tu',\n",
    "'uh',\n",
    "'wa',\n",
    "'xx',\n",
    "'ya',\n",
    "'dah',\n",
    "'hah',\n",
    "'heh',\n",
    "'lah',\n",
    "'leh',\n",
    "'wah',\n",
    "'wat',\n",
    "'wow',\n",
    "'yay',\n",
    "'zzz',\n",
    "\"a\",\n",
    "\"able\",\n",
    "\"about\",\n",
    "\"above\",\n",
    "\"according\",\n",
    "\"accordingly\",\n",
    "\"across\",\n",
    "\"actually\",\n",
    "\"after\",\n",
    "\"afterwards\",\n",
    "\"again\",\n",
    "\"against\",\n",
    "\"all\",\n",
    "\"allow\",\n",
    "\"allows\",\n",
    "\"almost\",\n",
    "\"alone\",\n",
    "\"along\",\n",
    "\"already\",\n",
    "\"also\",\n",
    "\"although\",\n",
    "\"always\",\n",
    "\"am\",\n",
    "\"among\",\n",
    "\"amongst\",\n",
    "\"amp\",\n",
    "\"an\",\n",
    "\"and\",\n",
    "\"another\",\n",
    "\"any\",\n",
    "\"anybody\",\n",
    "\"anyhow\",\n",
    "\"anyone\",\n",
    "\"anything\",\n",
    "\"anyway\",\n",
    "\"anyways\",\n",
    "\"anywhere\",\n",
    "\"apart\",\n",
    "\"appear\",\n",
    "\"appreciate\",\n",
    "\"appropriate\",\n",
    "\"are\",\n",
    "\"around\",\n",
    "\"as\",\n",
    "\"aside\",\n",
    "\"ask\",\n",
    "\"asking\",\n",
    "\"associated\",\n",
    "\"at\",\n",
    "\"available\",\n",
    "\"away\",\n",
    "\"awfully\",\n",
    "\"b\",\n",
    "\"be\",\n",
    "\"became\",\n",
    "\"because\",\n",
    "\"become\",\n",
    "\"becomes\",\n",
    "\"becoming\",\n",
    "\"been\",\n",
    "\"before\",\n",
    "\"beforehand\",\n",
    "\"behind\",\n",
    "\"being\",\n",
    "\"believe\",\n",
    "\"below\",\n",
    "\"beside\",\n",
    "\"besides\",\n",
    "\"best\",\n",
    "\"better\",\n",
    "\"between\",\n",
    "\"beyond\",\n",
    "\"both\",\n",
    "\"brief\",\n",
    "\"but\",\n",
    "\"by\",\n",
    "\"c\",\n",
    "\"came\",\n",
    "\"can\",\n",
    "\"cannot\",\n",
    "\"cant\",\n",
    "\"cause\",\n",
    "\"causes\",\n",
    "\"certain\",\n",
    "\"certainly\",\n",
    "\"changes\",\n",
    "\"clearly\",\n",
    "\"co\",\n",
    "\"com\",\n",
    "\"come\",\n",
    "\"comes\",\n",
    "\"concerning\",\n",
    "\"consequently\",\n",
    "\"consider\",\n",
    "\"considering\",\n",
    "\"contain\",\n",
    "\"containing\",\n",
    "\"contains\",\n",
    "\"corresponding\",\n",
    "\"could\",\n",
    "\"course\",\n",
    "\"currently\",\n",
    "\"d\",\n",
    "\"definitely\",\n",
    "\"described\",\n",
    "\"despite\",\n",
    "\"did\",\n",
    "\"different\",\n",
    "\"do\",\n",
    "\"does\",\n",
    "\"doing\",\n",
    "\"done\",\n",
    "\"down\",\n",
    "\"downwards\",\n",
    "\"during\",\n",
    "\"e\",\n",
    "\"each\",\n",
    "\"edu\",\n",
    "\"eg\",\n",
    "\"eight\",\n",
    "\"either\",\n",
    "\"else\",\n",
    "\"elsewhere\",\n",
    "\"enough\",\n",
    "\"entirely\",\n",
    "\"especially\",\n",
    "\"et\",\n",
    "\"etc\",\n",
    "\"even\",\n",
    "\"ever\",\n",
    "\"every\",\n",
    "\"everybody\",\n",
    "\"everyone\",\n",
    "\"everything\",\n",
    "\"everywhere\",\n",
    "\"ex\",\n",
    "\"exactly\",\n",
    "\"example\",\n",
    "\"except\",\n",
    "\"f\",\n",
    "\"far\",\n",
    "\"few\",\n",
    "\"fifth\",\n",
    "\"first\",\n",
    "\"five\",\n",
    "\"followed\",\n",
    "\"following\",\n",
    "\"follows\",\n",
    "\"for\",\n",
    "\"former\",\n",
    "\"formerly\",\n",
    "\"forth\",\n",
    "\"four\",\n",
    "\"from\",\n",
    "\"further\",\n",
    "\"furthermore\",\n",
    "\"g\",\n",
    "\"get\",\n",
    "\"gets\",\n",
    "\"getting\",\n",
    "\"given\",\n",
    "\"gives\",\n",
    "\"go\",\n",
    "\"goes\",\n",
    "\"going\",\n",
    "\"gone\",\n",
    "\"got\",\n",
    "\"gotten\",\n",
    "\"greetings\",\n",
    "\"h\",\n",
    "\"had\",\n",
    "\"happens\",\n",
    "\"hardly\",\n",
    "\"has\",\n",
    "\"have\",\n",
    "\"having\",\n",
    "\"he\",\n",
    "\"hello\",\n",
    "\"help\",\n",
    "\"hence\",\n",
    "\"her\",\n",
    "\"here\",\n",
    "\"hereafter\",\n",
    "\"hereby\",\n",
    "\"herein\",\n",
    "\"hereupon\",\n",
    "\"hers\",\n",
    "\"herself\",\n",
    "\"hi\",\n",
    "\"him\",\n",
    "\"himself\",\n",
    "\"his\",\n",
    "\"hither\",\n",
    "\"hopefully\",\n",
    "\"how\",\n",
    "\"howbeit\",\n",
    "\"however\",\n",
    "\"i\",\n",
    "\"ie\",\n",
    "\"if\",\n",
    "\"ignored\",\n",
    "\"immediate\",\n",
    "\"in\",\n",
    "\"inasmuch\",\n",
    "\"inc\",\n",
    "\"indeed\",\n",
    "\"indicate\",\n",
    "\"indicated\",\n",
    "\"indicates\",\n",
    "\"inner\",\n",
    "\"insofar\",\n",
    "\"instead\",\n",
    "\"into\",\n",
    "\"inward\",\n",
    "\"is\",\n",
    "\"it\",\n",
    "\"its\",\n",
    "\"itself\",\n",
    "\"j\",\n",
    "\"just\",\n",
    "\"k\",\n",
    "\"keep\",\n",
    "\"keeps\",\n",
    "\"kept\",\n",
    "\"know\",\n",
    "\"knows\",\n",
    "\"known\",\n",
    "\"l\",\n",
    "\"last\",\n",
    "\"lately\",\n",
    "\"later\",\n",
    "\"latter\",\n",
    "\"latterly\",\n",
    "\"least\",\n",
    "\"less\",\n",
    "\"lest\",\n",
    "\"let\",\n",
    "\"like\",\n",
    "\"liked\",\n",
    "\"likely\",\n",
    "\"little\",\n",
    "\"ll\",\n",
    "\"look\",\n",
    "\"looking\",\n",
    "\"looks\",\n",
    "\"ltd\",\n",
    "\"m\",\n",
    "\"mainly\",\n",
    "\"many\",\n",
    "\"may\",\n",
    "\"maybe\",\n",
    "\"me\",\n",
    "\"mean\",\n",
    "\"meanwhile\",\n",
    "\"merely\",\n",
    "\"might\",\n",
    "\"more\",\n",
    "\"moreover\",\n",
    "\"most\",\n",
    "\"mostly\",\n",
    "\"much\",\n",
    "\"must\",\n",
    "\"my\",\n",
    "\"myself\",\n",
    "\"n\",\n",
    "\"name\",\n",
    "\"namely\",\n",
    "\"nd\",\n",
    "\"near\",\n",
    "\"nearly\",\n",
    "\"necessary\",\n",
    "\"need\",\n",
    "\"needs\",\n",
    "\"neither\",\n",
    "\"never\",\n",
    "\"nevertheless\",\n",
    "\"new\",\n",
    "\"next\",\n",
    "\"nine\",\n",
    "\"no\",\n",
    "\"nobody\",\n",
    "\"non\",\n",
    "\"none\",\n",
    "\"noone\",\n",
    "\"nor\",\n",
    "\"normally\",\n",
    "\"not\",\n",
    "\"nothing\",\n",
    "\"novel\",\n",
    "\"now\",\n",
    "\"nowhere\",\n",
    "\"o\",\n",
    "\"obviously\",\n",
    "\"of\",\n",
    "\"off\",\n",
    "\"often\",\n",
    "\"oh\",\n",
    "\"ok\",\n",
    "\"okay\",\n",
    "\"old\",\n",
    "\"on\",\n",
    "\"once\",\n",
    "\"one\",\n",
    "\"ones\",\n",
    "\"only\",\n",
    "\"onto\",\n",
    "\"or\",\n",
    "\"other\",\n",
    "\"others\",\n",
    "\"otherwise\",\n",
    "\"ought\",\n",
    "\"our\",\n",
    "\"ours\",\n",
    "\"ourselves\",\n",
    "\"out\",\n",
    "\"outside\",\n",
    "\"over\",\n",
    "\"overall\",\n",
    "\"own\",\n",
    "\"p\",\n",
    "\"particular\",\n",
    "\"particularly\",\n",
    "\"per\",\n",
    "\"perhaps\",\n",
    "\"placed\",\n",
    "\"please\",\n",
    "\"plus\",\n",
    "\"possible\",\n",
    "\"presumably\",\n",
    "\"probably\",\n",
    "\"provides\",\n",
    "\"q\",\n",
    "\"que\",\n",
    "\"quite\",\n",
    "\"qv\",\n",
    "\"r\",\n",
    "\"rather\",\n",
    "\"rd\",\n",
    "\"re\",\n",
    "\"really\",\n",
    "\"reasonably\",\n",
    "\"regarding\",\n",
    "\"regardless\",\n",
    "\"regards\",\n",
    "\"relatively\",\n",
    "\"respectively\",\n",
    "\"right\",\n",
    "\"s\",\n",
    "\"said\",\n",
    "\"same\",\n",
    "\"saw\",\n",
    "\"say\",\n",
    "\"saying\",\n",
    "\"says\",\n",
    "\"second\",\n",
    "\"secondly\",\n",
    "\"see\",\n",
    "\"seeing\",\n",
    "\"seem\",\n",
    "\"seemed\",\n",
    "\"seeming\",\n",
    "\"seems\",\n",
    "\"seen\",\n",
    "\"self\",\n",
    "\"selves\",\n",
    "\"sensible\",\n",
    "\"sent\",\n",
    "\"serious\",\n",
    "\"seriously\",\n",
    "\"seven\",\n",
    "\"several\",\n",
    "\"shall\",\n",
    "\"she\",\n",
    "\"should\",\n",
    "\"since\",\n",
    "\"six\",\n",
    "\"so\",\n",
    "\"some\",\n",
    "\"somebody\",\n",
    "\"somehow\",\n",
    "\"someone\",\n",
    "\"something\",\n",
    "\"sometime\",\n",
    "\"sometimes\",\n",
    "\"somewhat\",\n",
    "\"somewhere\",\n",
    "\"soon\",\n",
    "\"sorry\",\n",
    "\"specified\",\n",
    "\"specify\",\n",
    "\"specifying\",\n",
    "\"still\",\n",
    "\"sub\",\n",
    "\"such\",\n",
    "\"sup\",\n",
    "\"sure\",\n",
    "\"t\",\n",
    "\"take\",\n",
    "\"taken\",\n",
    "\"tell\",\n",
    "\"tends\",\n",
    "\"th\",\n",
    "\"than\",\n",
    "\"thank\",\n",
    "\"thanks\",\n",
    "\"thanx\",\n",
    "\"that\",\n",
    "\"thats\",\n",
    "\"the\",\n",
    "\"their\",\n",
    "\"theirs\",\n",
    "\"them\",\n",
    "\"themselves\",\n",
    "\"then\",\n",
    "\"thence\",\n",
    "\"there\",\n",
    "\"thereafter\",\n",
    "\"thereby\",\n",
    "\"therefore\",\n",
    "\"therein\",\n",
    "\"theres\",\n",
    "\"thereupon\",\n",
    "\"these\",\n",
    "\"they\",\n",
    "\"think\",\n",
    "\"third\",\n",
    "\"this\",\n",
    "\"thorough\",\n",
    "\"thoroughly\",\n",
    "\"those\",\n",
    "\"though\",\n",
    "\"three\",\n",
    "\"through\",\n",
    "\"throughout\",\n",
    "\"thru\",\n",
    "\"thus\",\n",
    "\"to\",\n",
    "\"together\",\n",
    "\"too\",\n",
    "\"took\",\n",
    "\"toward\",\n",
    "\"towards\",\n",
    "\"tried\",\n",
    "\"tries\",\n",
    "\"truly\",\n",
    "\"try\",\n",
    "\"trying\",\n",
    "\"twice\",\n",
    "\"two\",\n",
    "\"u\",\n",
    "\"un\",\n",
    "\"under\",\n",
    "\"unfortunately\",\n",
    "\"unless\",\n",
    "\"unlikely\",\n",
    "\"until\",\n",
    "\"unto\",\n",
    "\"up\",\n",
    "\"upon\",\n",
    "\"us\",\n",
    "\"use\",\n",
    "\"used\",\n",
    "\"useful\",\n",
    "\"uses\",\n",
    "\"using\",\n",
    "\"usually\",\n",
    "\"uucp\",\n",
    "\"v\",\n",
    "\"value\",\n",
    "\"various\",\n",
    "\"ve\",\n",
    "\"very\",\n",
    "\"via\",\n",
    "\"viz\",\n",
    "\"vs\",\n",
    "\"w\",\n",
    "\"want\",\n",
    "\"wants\",\n",
    "\"was\",\n",
    "\"way\",\n",
    "\"we\",\n",
    "\"welcome\",\n",
    "\"well\",\n",
    "\"went\",\n",
    "\"were\",\n",
    "\"what\",\n",
    "\"whatever\",\n",
    "\"when\",\n",
    "\"whence\",\n",
    "\"whenever\",\n",
    "\"where\",\n",
    "\"whereafter\",\n",
    "\"whereas\",\n",
    "\"whereby\",\n",
    "\"wherein\",\n",
    "\"whereupon\",\n",
    "\"wherever\",\n",
    "\"whether\",\n",
    "\"which\",\n",
    "\"while\",\n",
    "\"whither\",\n",
    "\"who\",\n",
    "\"whoever\",\n",
    "\"whole\",\n",
    "\"whom\",\n",
    "\"whose\",\n",
    "\"why\",\n",
    "\"will\",\n",
    "\"willing\",\n",
    "\"wish\",\n",
    "\"with\",\n",
    "\"within\",\n",
    "\"without\",\n",
    "\"wonder\",\n",
    "\"would\",\n",
    "\"would\",\n",
    "\"x\",\n",
    "\"y\",\n",
    "\"yes\",\n",
    "\"yet\",\n",
    "\"you\",\n",
    "\"your\",\n",
    "\"yours\",\n",
    "\"yourself\",\n",
    "\"yourselves\",\n",
    "\"z\",\n",
    "\"zero\",\n",
    "\"i'm\",\n",
    "\"he's\",\n",
    "\"she's\",\n",
    "\"you're\",\n",
    "\"i'll\",\n",
    "\"you'll\",\n",
    "\"she'll\",\n",
    "\"he'll\",\n",
    "\"it's\",\n",
    "\"don't\",\n",
    "\"can't\",\n",
    "\"didn't\",\n",
    "\"i've\",\n",
    "\"that's\",\n",
    "\"there's\",\n",
    "\"isn't\",\n",
    "\"what's\",\n",
    "\"rt\",\n",
    "\"doesn't\",\n",
    "\"w/\",\n",
    "\"w/o\",\n",
    "\"#pb#po\",\n",
    "\"#pb#re\",\n",
    "\"#pb#rt\",\n",
    "\"#pb#me\"                     \n",
    "]\n",
    "    for tweet in input_list:\n",
    "        nonstopwd_tweets=[word for word in tweet if word not in (stopwords.words('english'))]\n",
    "        nonstopwd_tweets=[word for word in tweet if word not in swords_mlist]\n",
    "        nonstopwd_tweets_list.append(nonstopwd_tweets)\n",
    "    return nonstopwd_tweets_list\n",
    "\n",
    "# lematize the word from worked to work\n",
    "def lematization(input_list):\n",
    "    lemma_tweets_list=[]\n",
    "    lemma = WordNetLemmatizer()\n",
    "    for tweet in input_list:\n",
    "        lemma_tweet=[lemma.lemmatize(word) for word in tweet]\n",
    "        lemma_tweets_list.append(lemma_tweet)\n",
    "    return lemma_tweets_list\n",
    "\n",
    "# count the word frequency\n",
    "def term_frequency(text):\n",
    "    count_all = Counter()\n",
    "    final_list = []\n",
    "    for tweet in text:\n",
    "        for word in tweet:\n",
    "            final_list.append(word)\n",
    "    count_all.update(final_list)\n",
    "    return count_all\n",
    "        \n",
    "def list_to_string(input_list):\n",
    "    result_list=[]\n",
    "    for tweet in input_list:\n",
    "        line=' '.join(tweet)\n",
    "        result_list.append(line)\n",
    "    return result_list"
   ]
  },
  {
   "cell_type": "code",
   "execution_count": 3,
   "metadata": {},
   "outputs": [
    {
     "name": "stderr",
     "output_type": "stream",
     "text": [
      "Skipping line 5: '^' expected after '\"'\n",
      "Skipping line 23: '^' expected after '\"'\n",
      "Skipping line 24: '^' expected after '\"'\n",
      "Skipping line 26: '^' expected after '\"'\n",
      "Skipping line 367: '^' expected after '\"'\n",
      "Skipping line 489: '^' expected after '\"'\n",
      "Skipping line 469: '^' expected after '\"'\n",
      "Skipping line 353: '^' expected after '\"'\n",
      "Skipping line 467: '^' expected after '\"'\n",
      "Skipping line 197: '^' expected after '\"'\n",
      "Skipping line 247: '^' expected after '\"'\n",
      "Skipping line 248: '^' expected after '\"'\n",
      "Skipping line 249: '^' expected after '\"'\n",
      "Skipping line 253: '^' expected after '\"'\n",
      "Skipping line 255: '^' expected after '\"'\n",
      "Skipping line 258: '^' expected after '\"'\n",
      "Skipping line 259: '^' expected after '\"'\n",
      "Skipping line 263: '^' expected after '\"'\n",
      "Skipping line 266: '^' expected after '\"'\n",
      "Skipping line 267: '^' expected after '\"'\n",
      "Skipping line 268: '^' expected after '\"'\n",
      "Skipping line 272: '^' expected after '\"'\n",
      "Skipping line 276: '^' expected after '\"'\n",
      "Skipping line 287: '^' expected after '\"'\n",
      "Skipping line 324: '^' expected after '\"'\n",
      "Skipping line 400: '^' expected after '\"'\n",
      "Skipping line 583: '^' expected after '\"'\n",
      "Skipping line 144: '^' expected after '\"'\n",
      "Skipping line 161: '^' expected after '\"'\n",
      "Skipping line 174: '^' expected after '\"'\n",
      "Skipping line 191: '^' expected after '\"'\n",
      "Skipping line 311: '^' expected after '\"'\n",
      "Skipping line 318: '^' expected after '\"'\n",
      "Skipping line 399: '^' expected after '\"'\n",
      "Skipping line 491: '^' expected after '\"'\n",
      "Skipping line 544: '^' expected after '\"'\n",
      "Skipping line 547: '^' expected after '\"'\n",
      "Skipping line 738: '^' expected after '\"'\n",
      "Skipping line 742: '^' expected after '\"'\n",
      "Skipping line 768: '^' expected after '\"'\n",
      "Skipping line 791: '^' expected after '\"'\n",
      "Skipping line 365: '^' expected after '\"'\n",
      "Skipping line 394: '^' expected after '\"'\n",
      "Skipping line 186: '^' expected after '\"'\n",
      "Skipping line 336: '^' expected after '\"'\n",
      "Skipping line 603: '^' expected after '\"'\n",
      "Skipping line 78: Expected 3 fields in line 78, saw 5\n",
      "Skipping line 153: '^' expected after '\"'\n",
      "Skipping line 196: '^' expected after '\"'\n",
      "Skipping line 288: '^' expected after '\"'\n",
      "Skipping line 510: '^' expected after '\"'\n",
      "Skipping line 526: '^' expected after '\"'\n",
      "Skipping line 745: '^' expected after '\"'\n",
      "Skipping line 237: '^' expected after '\"'\n",
      "Skipping line 197: '^' expected after '\"'\n",
      "Skipping line 247: '^' expected after '\"'\n",
      "Skipping line 248: '^' expected after '\"'\n",
      "Skipping line 249: '^' expected after '\"'\n",
      "Skipping line 253: '^' expected after '\"'\n",
      "Skipping line 255: '^' expected after '\"'\n",
      "Skipping line 258: '^' expected after '\"'\n",
      "Skipping line 259: '^' expected after '\"'\n",
      "Skipping line 263: '^' expected after '\"'\n",
      "Skipping line 266: '^' expected after '\"'\n",
      "Skipping line 267: '^' expected after '\"'\n",
      "Skipping line 268: '^' expected after '\"'\n",
      "Skipping line 272: '^' expected after '\"'\n",
      "Skipping line 276: '^' expected after '\"'\n",
      "Skipping line 287: '^' expected after '\"'\n",
      "Skipping line 324: '^' expected after '\"'\n",
      "Skipping line 400: '^' expected after '\"'\n",
      "Skipping line 583: '^' expected after '\"'\n",
      "Skipping line 365: '^' expected after '\"'\n",
      "Skipping line 394: '^' expected after '\"'\n",
      "Skipping line 78: Expected 3 fields in line 78, saw 5\n",
      "Skipping line 469: '^' expected after '\"'\n",
      "Skipping line 186: '^' expected after '\"'\n",
      "Skipping line 336: '^' expected after '\"'\n",
      "Skipping line 603: '^' expected after '\"'\n",
      "Skipping line 237: '^' expected after '\"'\n",
      "Skipping line 353: '^' expected after '\"'\n",
      "Skipping line 467: '^' expected after '\"'\n",
      "Skipping line 144: '^' expected after '\"'\n",
      "Skipping line 161: '^' expected after '\"'\n",
      "Skipping line 174: '^' expected after '\"'\n",
      "Skipping line 191: '^' expected after '\"'\n",
      "Skipping line 311: '^' expected after '\"'\n",
      "Skipping line 318: '^' expected after '\"'\n",
      "Skipping line 399: '^' expected after '\"'\n",
      "Skipping line 491: '^' expected after '\"'\n",
      "Skipping line 544: '^' expected after '\"'\n",
      "Skipping line 547: '^' expected after '\"'\n",
      "Skipping line 738: '^' expected after '\"'\n",
      "Skipping line 742: '^' expected after '\"'\n",
      "Skipping line 768: '^' expected after '\"'\n",
      "Skipping line 791: '^' expected after '\"'\n",
      "Skipping line 153: '^' expected after '\"'\n",
      "Skipping line 196: '^' expected after '\"'\n",
      "Skipping line 288: '^' expected after '\"'\n",
      "Skipping line 510: '^' expected after '\"'\n",
      "Skipping line 526: '^' expected after '\"'\n",
      "Skipping line 745: '^' expected after '\"'\n"
     ]
    }
   ],
   "source": [
    "#positive dataframe\n",
    "samsungsg_df=read_as_df('/Users/yyb/Documents/5920_Projects/New_data_collection_0312/Positive/','SamsungSG')\n",
    "samsungsg_df=samsungsg_df.dropna().reset_index(drop=True)\n",
    "\n",
    "#negative dataframe\n",
    "negative_folder_path='/Users/yyb/Documents/5920_Projects/New_data_collection_0312/Negative/'\n",
    "negative_filenames=[f for f in listdir(negative_folder_path) if isfile(join(negative_folder_path,f))]\n",
    "try:\n",
    "    negative_filenames.remove('.DS_Store')\n",
    "    negative_filenames.remove('negative_v1.txt') # the final combine file, have only one column\n",
    "except:\n",
    "    pass\n",
    "\n",
    "for name in negative_filenames:\n",
    "    name=name.split('.')[0]\n",
    "    N_df=read_as_df(negative_folder_path,name)\n",
    "    #if len(N_df.index)>500:\n",
    "        #print(name+': '+str(len(N_df.index)))\n",
    "    #print(name+': '+str(len(N_df.index)))\n",
    "    \n",
    "#dataset dataframe extraction\n",
    "MOEsg_df       =read_as_df(negative_folder_path,'MOEsg')\n",
    "kiasuparents_df=read_as_df(negative_folder_path,'kiasuparents')\n",
    "ilovedealssg_df=read_as_df(negative_folder_path,'ilovedealssg')\n",
    "JoannePeh_df   =read_as_df(negative_folder_path,'JoannePeh')\n",
    "Camemberu_df   =read_as_df(negative_folder_path,'Camemberu')\n",
    "premierleague_df=read_as_df(negative_folder_path,'premierleague')\n",
    "sgbroadcast_df =read_as_df(negative_folder_path,'sgbroadcast')\n",
    "mtvasia_df     =read_as_df(negative_folder_path,'mtvasia')\n",
    "SGAG_SG_df     =read_as_df(negative_folder_path,'SGAG_SG')\n",
    "\n",
    "#dataframe combine\n",
    "new_df=pd.concat([samsungsg_df,MOEsg_df,kiasuparents_df,ilovedealssg_df,JoannePeh_df,\n",
    "                 Camemberu_df, premierleague_df, sgbroadcast_df, mtvasia_df, SGAG_SG_df ], axis=0)\n",
    "new_df=new_df.dropna().reset_index(drop=True)\n",
    "new_df=new_df.drop_duplicates()\n",
    "\n",
    "#save to file\n",
    "samsungsg_list=list(new_df.loc[new_df['account']=='SamsungSG']['tweets'])\n",
    "for i in samsungsg_list:\n",
    "    with open('/Users/yyb/Documents/5920_Projects/PositiveDataset/samsungsg_v2.txt','a') as txtfile:\n",
    "        txtfile.write(i+'\\n')\n",
    "\n",
    "negative_list=list(new_df.loc[new_df['account']!='SamsungSG']['tweets'])\n",
    "for i in negative_list:\n",
    "    with open('/Users/yyb/Documents/5920_Projects/NegativeDataset/negative_v2.txt','a') as txtfile:\n",
    "        txtfile.write(i+'\\n')\n",
    "        \n",
    "#get positive training data      \n",
    "posi_list=read_as_list('/Users/yyb/Documents/5920_Projects/PositiveDataset/samsungsg_v2.txt')\n",
    "posi_list=strip_drop_duplicated(posi_list)\n",
    "posi_list=remove_symbols(posi_list)\n",
    "posi_list=standardize(posi_list)\n",
    "posi_list=stop_word_removal(posi_list)\n",
    "posi_list=lematization(posi_list)\n",
    "\n",
    "#get negative training data      \n",
    "nega_list=read_as_list('/Users/yyb/Documents/5920_Projects/NegativeDataset/negative_v2.txt')\n",
    "nega_list=strip_drop_duplicated(nega_list)\n",
    "nega_list=remove_symbols(nega_list)\n",
    "nega_list=standardize(nega_list)\n",
    "nega_list=stop_word_removal(nega_list)\n",
    "nega_list=lematization(nega_list)    "
   ]
  },
  {
   "cell_type": "code",
   "execution_count": 4,
   "metadata": {},
   "outputs": [
    {
     "data": {
      "text/plain": [
       "RangeIndex(start=0, stop=550, step=1)"
      ]
     },
     "execution_count": 4,
     "metadata": {},
     "output_type": "execute_result"
    }
   ],
   "source": [
    "samsungsg_df.index"
   ]
  },
  {
   "cell_type": "code",
   "execution_count": 5,
   "metadata": {},
   "outputs": [
    {
     "name": "stdout",
     "output_type": "stream",
     "text": [
      "[819, 534, 611, 811, 811, 825, 801, 780, 823]\n"
     ]
    }
   ],
   "source": [
    "df_list=[MOEsg_df,kiasuparents_df,ilovedealssg_df,JoannePeh_df,Camemberu_df,premierleague_df,sgbroadcast_df,mtvasia_df, SGAG_SG_df]\n",
    "print([len(i) for i in df_list])"
   ]
  },
  {
   "cell_type": "code",
   "execution_count": 6,
   "metadata": {},
   "outputs": [
    {
     "name": "stdout",
     "output_type": "stream",
     "text": [
      "543 5762\n"
     ]
    }
   ],
   "source": [
    "print(len(posi_list),len(nega_list))"
   ]
  },
  {
   "cell_type": "markdown",
   "metadata": {},
   "source": [
    "## Exploring the structure of training data"
   ]
  },
  {
   "cell_type": "code",
   "execution_count": 7,
   "metadata": {
    "collapsed": true
   },
   "outputs": [],
   "source": [
    "import operator \n",
    "import json\n",
    "from collections import Counter\n",
    "\n",
    "def TF_cal(input_list,most_common_num):\n",
    " \n",
    "    result_list=[]\n",
    "    count_all = Counter()\n",
    "    for line in input_list:\n",
    "        for word in line:\n",
    "            result_list.append(word)\n",
    "\n",
    "    count_all = Counter()\n",
    "    count_all.update(result_list)\n",
    "    print(count_all.most_common(most_common_num))"
   ]
  },
  {
   "cell_type": "code",
   "execution_count": 8,
   "metadata": {},
   "outputs": [
    {
     "name": "stdout",
     "output_type": "stream",
     "text": [
      "[('share', 47), ('galaxy', 39), ('samsung', 38), ('life', 22), ('feature', 21), ('time', 21), ('experience', 19), ('today', 19), ('chance', 18), ('tip', 16), ('plaza', 16), ('camera', 15), ('edge', 15), ('weekend', 14), ('app', 13), ('device', 13), ('city', 12), ('note', 12), ('tc', 12), ('idea', 12), ('phone', 12), ('day', 12), ('design', 12), ('friend', 11), ('gear', 10), ('monday', 10), ('tv', 10), ('game', 10), ('movie', 9), (\"we're\", 9)]\n"
     ]
    }
   ],
   "source": [
    "TF_cal(posi_list,30)"
   ]
  },
  {
   "cell_type": "code",
   "execution_count": 9,
   "metadata": {},
   "outputs": [
    {
     "name": "stdout",
     "output_type": "stream",
     "text": [
      "[('pm', 258), ('day', 231), ('student', 220), ('year', 187), ('time', 167), ('school', 161), ('child', 149), ('singapore', 143), ('week', 121), ('share', 120), ('today', 117), ('life', 97), ('friend', 91), ('weekend', 90), ('nov', 83), ('show', 82), ('game', 79), ('world', 79), ('home', 76), ('dn', 73), ('fan', 71), ('kid', 68), ('stay', 65), ('thing', 65), ('parent', 64), ('food', 64), ('chance', 63), ('hotel', 63), ('people', 63), ('family', 61)]\n"
     ]
    }
   ],
   "source": [
    "TF_cal(nega_list,30)"
   ]
  },
  {
   "cell_type": "markdown",
   "metadata": {},
   "source": [
    "## organize the training dataset"
   ]
  },
  {
   "cell_type": "code",
   "execution_count": 80,
   "metadata": {
    "collapsed": true
   },
   "outputs": [],
   "source": [
    "# oversampling rate\n",
    "n = 1"
   ]
  },
  {
   "cell_type": "code",
   "execution_count": 81,
   "metadata": {
    "collapsed": true
   },
   "outputs": [],
   "source": [
    "# oversampling the minority dataset\n",
    "str_posi_list=list_to_string(posi_list)\n",
    "new_posi_list=str_posi_list*n\n",
    "\n",
    "# get the majority data\n",
    "new_nega_list=list_to_string(nega_list)\n",
    "\n",
    "# combine the training dataset\n",
    "X_train=new_posi_list+new_nega_list\n",
    "\n",
    "# assign labels to them\n",
    "#---------------------------this part would be modified later--------------------------#\n",
    "Y_train=['T']*len(posi_list)*n+['F']*len(nega_list)"
   ]
  },
  {
   "cell_type": "code",
   "execution_count": 82,
   "metadata": {},
   "outputs": [
    {
     "data": {
      "text/plain": [
       "6305"
      ]
     },
     "execution_count": 82,
     "metadata": {},
     "output_type": "execute_result"
    }
   ],
   "source": [
    "len(X_train)"
   ]
  },
  {
   "cell_type": "markdown",
   "metadata": {},
   "source": [
    "## Feature selection"
   ]
  },
  {
   "cell_type": "code",
   "execution_count": 83,
   "metadata": {
    "collapsed": true
   },
   "outputs": [],
   "source": [
    "# Extracting TF and TF-IDF features and building matrix\n",
    "from sklearn.feature_extraction.text import TfidfVectorizer\n",
    "tfidf_vectorizer = TfidfVectorizer()\n",
    "X_tfidf_matrix = tfidf_vectorizer.fit_transform(X_train)\n",
    "\n",
    "from sklearn.feature_extraction.text import CountVectorizer  \n",
    "count_vectorizer = CountVectorizer()\n",
    "X_count_matrix = count_vectorizer.fit_transform(X_train)\n",
    "\n",
    "# get useful variables\n",
    "feature_names = tfidf_vectorizer.get_feature_names()          # 特征名  \n",
    "freWordVector_df = pd.DataFrame(X_count_matrix.toarray()) # 全词库 词频 向量矩阵  \n",
    "tfidf_df = pd.DataFrame(X_tfidf_matrix.toarray())  "
   ]
  },
  {
   "cell_type": "code",
   "execution_count": 84,
   "metadata": {},
   "outputs": [
    {
     "data": {
      "text/plain": [
       "<6305x6324 sparse matrix of type '<class 'numpy.float64'>'\n",
       "\twith 25577 stored elements in Compressed Sparse Row format>"
      ]
     },
     "execution_count": 84,
     "metadata": {},
     "output_type": "execute_result"
    }
   ],
   "source": [
    "X_tfidf_matrix"
   ]
  },
  {
   "cell_type": "markdown",
   "metadata": {},
   "source": [
    "# Resampling"
   ]
  },
  {
   "cell_type": "markdown",
   "metadata": {},
   "source": [
    "### Random oversampling"
   ]
  },
  {
   "cell_type": "markdown",
   "metadata": {},
   "source": [
    "http://contrib.scikit-learn.org/imbalanced-learn/stable/over_sampling.html"
   ]
  },
  {
   "cell_type": "code",
   "execution_count": 85,
   "metadata": {},
   "outputs": [
    {
     "name": "stdout",
     "output_type": "stream",
     "text": [
      "[('F', 5762), ('T', 5762)]\n"
     ]
    }
   ],
   "source": [
    "from imblearn.over_sampling import RandomOverSampler\n",
    "\n",
    "ros = RandomOverSampler(random_state=0)\n",
    "X_resampled, y_resampled = ros.fit_sample(X_tfidf_matrix, Y_train)\n",
    "from collections import Counter\n",
    "print(sorted(Counter(y_resampled).items()))"
   ]
  },
  {
   "cell_type": "markdown",
   "metadata": {},
   "source": [
    "### Smote"
   ]
  },
  {
   "cell_type": "code",
   "execution_count": 86,
   "metadata": {},
   "outputs": [
    {
     "name": "stdout",
     "output_type": "stream",
     "text": [
      "Original dataset shape Counter({'F': 5762, 'T': 543})\n"
     ]
    }
   ],
   "source": [
    "from collections import Counter\n",
    "from imblearn.over_sampling import SMOTE \n",
    "\n",
    "print('Original dataset shape {}'.format(Counter(Y_train)))\n",
    "#Original dataset shape Counter({1: 900, 0: 100})"
   ]
  },
  {
   "cell_type": "code",
   "execution_count": 87,
   "metadata": {},
   "outputs": [
    {
     "name": "stdout",
     "output_type": "stream",
     "text": [
      "Resampled dataset shape Counter({'T': 5762, 'F': 5762})\n"
     ]
    }
   ],
   "source": [
    "sm = SMOTE(random_state=42)\n",
    "X_resampled, y_resampled = sm.fit_sample(X_tfidf_matrix, Y_train)\n",
    "print('Resampled dataset shape {}'.format(Counter(y_res)))\n",
    "#Resampled dataset shape Counter({0: 900, 1: 900})"
   ]
  },
  {
   "cell_type": "markdown",
   "metadata": {},
   "source": [
    "### ADASYN"
   ]
  },
  {
   "cell_type": "code",
   "execution_count": 88,
   "metadata": {},
   "outputs": [
    {
     "name": "stdout",
     "output_type": "stream",
     "text": [
      "[('F', 5762), ('T', 5680)]\n"
     ]
    }
   ],
   "source": [
    "from collections import Counter\n",
    "from imblearn.over_sampling import ADASYN\n",
    "\n",
    "X_resampled, y_resampled = ADASYN().fit_sample(X_tfidf_matrix, Y_train)\n",
    "print(sorted(Counter(y_resampled).items()))"
   ]
  },
  {
   "cell_type": "markdown",
   "metadata": {},
   "source": [
    "### Random under sampling "
   ]
  },
  {
   "cell_type": "markdown",
   "metadata": {},
   "source": [
    "http://contrib.scikit-learn.org/imbalanced-learn/stable/auto_examples/under-sampling/plot_comparison_under_sampling.html#sphx-glr-auto-examples-under-sampling-plot-comparison-under-sampling-py"
   ]
  },
  {
   "cell_type": "code",
   "execution_count": 90,
   "metadata": {},
   "outputs": [
    {
     "name": "stdout",
     "output_type": "stream",
     "text": [
      "[('F', 543), ('T', 543)]\n"
     ]
    }
   ],
   "source": [
    "from imblearn.under_sampling import RandomUnderSampler\n",
    "rus = RandomUnderSampler(random_state=0)\n",
    "X_resampled, y_resampled = rus.fit_sample(X_tfidf_matrix, Y_train)\n",
    "print(sorted(Counter(y_resampled).items()))"
   ]
  },
  {
   "cell_type": "markdown",
   "metadata": {},
   "source": [
    "### Under sampling ClusterCentroids"
   ]
  },
  {
   "cell_type": "code",
   "execution_count": 89,
   "metadata": {},
   "outputs": [
    {
     "name": "stdout",
     "output_type": "stream",
     "text": [
      "[('F', 543), ('T', 543)]\n"
     ]
    }
   ],
   "source": [
    "from imblearn.under_sampling import ClusterCentroids\n",
    "cc = ClusterCentroids(random_state=0)\n",
    "X_resampled, y_resampled = cc.fit_sample(X_tfidf_matrix, Y_train)\n",
    "print(sorted(Counter(y_resampled).items()))"
   ]
  },
  {
   "cell_type": "markdown",
   "metadata": {},
   "source": [
    "### TF-IDF Filter"
   ]
  },
  {
   "cell_type": "code",
   "execution_count": 18,
   "metadata": {},
   "outputs": [
    {
     "name": "stderr",
     "output_type": "stream",
     "text": [
      "/Users/yyb/anaconda/lib/python3.6/site-packages/ipykernel_launcher.py:25: SettingWithCopyWarning: \n",
      "A value is trying to be set on a copy of a slice from a DataFrame.\n",
      "Try using .loc[row_indexer,col_indexer] = value instead\n",
      "\n",
      "See the caveats in the documentation: http://pandas.pydata.org/pandas-docs/stable/indexing.html#indexing-view-versus-copy\n"
     ]
    }
   ],
   "source": [
    "###not used now###\n",
    "\n",
    "# choose the number of the top n tf word we want to use\n",
    "tfidf_sx_featuresindex = tfidf_df.sum(axis=0).sort_values(ascending=False)[:5000].index  \n",
    "\n",
    "# tfidf法筛选后的词向量矩阵  \n",
    "freWord_tfsx_df = freWordVector_df.iloc[:,tfidf_sx_featuresindex] \n",
    "\n",
    "# get the features' name from the filtered names\n",
    "df_columns = pd.Series(feature_names)[tfidf_sx_featuresindex] \n",
    "'''\n",
    "def guiyi(x):  \n",
    "    x[x>1]=1  \n",
    "    return x\n",
    "\n",
    "tfidf_df_1 = freWord_tfsx_df.apply(guiyi)\n",
    "'''\n",
    "\n",
    "tfidf_df_1=freWord_tfsx_df\n",
    "\n",
    "tfidf_df_1.columns = df_columns  \n",
    "\n",
    "# add the labels into the matrix\n",
    "\n",
    "tfidf_df_1['label'] = Y_train"
   ]
  },
  {
   "cell_type": "code",
   "execution_count": null,
   "metadata": {
    "collapsed": true
   },
   "outputs": [],
   "source": [
    "tfidf_df_1.sum(axis=0)"
   ]
  },
  {
   "cell_type": "code",
   "execution_count": null,
   "metadata": {
    "collapsed": true
   },
   "outputs": [],
   "source": [
    "tfidf_df_1"
   ]
  },
  {
   "cell_type": "markdown",
   "metadata": {},
   "source": [
    "### Chi-Square Test "
   ]
  },
  {
   "cell_type": "code",
   "execution_count": 66,
   "metadata": {
    "collapsed": true
   },
   "outputs": [],
   "source": [
    "from sklearn.feature_selection import chi2\n",
    "# http://www.learn4master.com/algorithms/chi-square-test-for-feature-selection understand chi square\n",
    "# https://de.dariah.eu/tatom/feature_selection.html original code for chi square test\n",
    "\n",
    "# compute chi2 for each feature\n",
    "chi2score = chi2(X_tfidf_matrix,Y_train)[1]\n",
    "\n",
    "#nolabel_feature = [x for x in tfidf_df_1.columns if x not in ['label']]  \n",
    "#chi2score = chi2(tfidf_df_1[nolabel_feature],Y_train)[0]"
   ]
  },
  {
   "cell_type": "code",
   "execution_count": 67,
   "metadata": {},
   "outputs": [
    {
     "data": {
      "text/plain": [
       "6324"
      ]
     },
     "execution_count": 67,
     "metadata": {},
     "output_type": "execute_result"
    }
   ],
   "source": [
    "len(chi2score)"
   ]
  },
  {
   "cell_type": "code",
   "execution_count": 68,
   "metadata": {},
   "outputs": [
    {
     "data": {
      "image/png": "[encoded data removed]",
      "text/plain": [
       "<matplotlib.figure.Figure at 0x1217c53c8>"
      ]
     },
     "metadata": {},
     "output_type": "display_data"
    }
   ],
   "source": [
    "import matplotlib.pyplot as plt\n",
    "\n",
    "plt.figure(figsize=(16,30))\n",
    "wscores = list(zip(tfidf_vectorizer.get_feature_names(), chi2score))\n",
    "wchi2 = sorted(wscores, key=lambda x:x[1])\n",
    "topchi2 = list(zip(*wchi2[-100:]))\n",
    "x = range(len(topchi2[1]))\n",
    "labels = topchi2[0]\n",
    "\n",
    "plt.barh(x,topchi2[1], align='center', alpha=0.2, color='g')\n",
    "plt.plot(topchi2[1], x, '-o', markersize=5, alpha=0.8, color='g')\n",
    "plt.yticks(x, labels)\n",
    "plt.xlabel('$\\chi^2$')\n",
    "plt.show()"
   ]
  },
  {
   "cell_type": "code",
   "execution_count": 69,
   "metadata": {},
   "outputs": [
    {
     "data": {
      "text/plain": [
       "(11524, 5000)"
      ]
     },
     "execution_count": 69,
     "metadata": {},
     "output_type": "execute_result"
    }
   ],
   "source": [
    "from sklearn.feature_selection import SelectKBest, chi2  \n",
    "ch2 = SelectKBest(chi2, k=5000)  \n",
    "chi_filter_training = ch2.fit_transform(X_tfidf_matrix,Y_train)  \n",
    "chi_filter_training.shape"
   ]
  },
  {
   "cell_type": "markdown",
   "metadata": {},
   "source": [
    "## ML algorithms¶"
   ]
  },
  {
   "cell_type": "code",
   "execution_count": 70,
   "metadata": {},
   "outputs": [],
   "source": [
    "# Train the algorithm\n",
    "from sklearn.naive_bayes import MultinomialNB\n",
    "NB_clf = MultinomialNB().fit(chi_filter_training, Y_train)\n",
    "\n",
    "from sklearn import svm\n",
    "#SVM_clf = svm.SVC().fit(X_train, Y_train)  \n",
    "\n",
    "from sklearn.linear_model import LogisticRegression\n",
    "#\n",
    "\n",
    "from sklearn.linear_model import SGDClassifier\n",
    "#SGD_clf = SGDClassifier(loss='hinge', penalty='l2',alpha=1e-3, n_iter=5, random_state=42).fit(X_train, Y_train)  "
   ]
  },
  {
   "cell_type": "markdown",
   "metadata": {},
   "source": [
    "## Test dataset "
   ]
  },
  {
   "cell_type": "code",
   "execution_count": 71,
   "metadata": {},
   "outputs": [
    {
     "data": {
      "text/html": [
       "<div>\n",
       "<style>\n",
       "    .dataframe thead tr:only-child th {\n",
       "        text-align: right;\n",
       "    }\n",
       "\n",
       "    .dataframe thead th {\n",
       "        text-align: left;\n",
       "    }\n",
       "\n",
       "    .dataframe tbody tr th {\n",
       "        vertical-align: top;\n",
       "    }\n",
       "</style>\n",
       "<table border=\"1\" class=\"dataframe\">\n",
       "  <thead>\n",
       "    <tr style=\"text-align: right;\">\n",
       "      <th></th>\n",
       "      <th>labels</th>\n",
       "      <th>tweets</th>\n",
       "      <th>time</th>\n",
       "      <th>date</th>\n",
       "    </tr>\n",
       "  </thead>\n",
       "  <tbody>\n",
       "    <tr>\n",
       "      <th>0</th>\n",
       "      <td>T</td>\n",
       "      <td>Samsung Galaxy S6 line to receive Android 8.0 ...</td>\n",
       "      <td>2:35 PM</td>\n",
       "      <td>27 Nov 2017</td>\n",
       "    </tr>\n",
       "    <tr>\n",
       "      <th>1</th>\n",
       "      <td>T</td>\n",
       "      <td>Say hello to the future. iPhone X.</td>\n",
       "      <td>1:22 PM</td>\n",
       "      <td>12 Sep 2017</td>\n",
       "    </tr>\n",
       "    <tr>\n",
       "      <th>2</th>\n",
       "      <td>T</td>\n",
       "      <td>Download #mAadhaar from  … on any android phon...</td>\n",
       "      <td>11:54 PM</td>\n",
       "      <td>18 Jul 2017</td>\n",
       "    </tr>\n",
       "    <tr>\n",
       "      <th>3</th>\n",
       "      <td>T</td>\n",
       "      <td>Jeff talking about the Semantic Boosting Algor...</td>\n",
       "      <td>9:08 PM</td>\n",
       "      <td>18 Jun 2014</td>\n",
       "    </tr>\n",
       "    <tr>\n",
       "      <th>4</th>\n",
       "      <td>T</td>\n",
       "      <td>#shameful #explainsalot Apple reduces speed of...</td>\n",
       "      <td>2:19 AM</td>\n",
       "      <td>20 Dec 2017</td>\n",
       "    </tr>\n",
       "  </tbody>\n",
       "</table>\n",
       "</div>"
      ],
      "text/plain": [
       "  labels                                             tweets      time  \\\n",
       "0      T  Samsung Galaxy S6 line to receive Android 8.0 ...   2:35 PM   \n",
       "1      T                 Say hello to the future. iPhone X.   1:22 PM   \n",
       "2      T  Download #mAadhaar from  … on any android phon...  11:54 PM   \n",
       "3      T  Jeff talking about the Semantic Boosting Algor...   9:08 PM   \n",
       "4      T  #shameful #explainsalot Apple reduces speed of...   2:19 AM   \n",
       "\n",
       "          date  \n",
       "0  27 Nov 2017  \n",
       "1  12 Sep 2017  \n",
       "2  18 Jul 2017  \n",
       "3  18 Jun 2014  \n",
       "4  20 Dec 2017  "
      ]
     },
     "execution_count": 71,
     "metadata": {},
     "output_type": "execute_result"
    }
   ],
   "source": [
    "from os import listdir\n",
    "from os.path import isfile, join\n",
    "#posi_test_path = '/Users/yyb/Documents/5920_Projects/followers_tweets_filter/positive_labeled_users'\n",
    "#posi_test_files = [f for f in listdir(posi_test_path) if isfile(join(posi_test_path,f))]\n",
    "posi_test_list=read_as_list('/Users/yyb/Documents/5920_Projects/followers_tweets_filter/positive_labeled_users/inc_asean.txt')\n",
    "posi_test_list=strip_drop_duplicated(posi_test_list)\n",
    "posi_test_list=remove_symbols(posi_test_list)\n",
    "posi_test_list=standardize(posi_test_list)\n",
    "posi_test_list=stop_word_removal(posi_test_list)\n",
    "posi_test_list=lematization(posi_test_list)\n",
    "\n",
    "posi_test_list=list_to_string(posi_test_list)\n",
    "\n",
    "filepath='/Users/yyb/Documents/5920_Projects/followers_tweets_filter/positive_labeled_users/test_data_label.txt'\n",
    "labeled_df = pd.read_csv(filepath, delimiter=\"^\", header=None,error_bad_lines=False,engine='python')\n",
    "labeled_df.columns = ['labels',\"tweets\", \"time\", \"date\"]\n",
    "labeled_df.head()"
   ]
  },
  {
   "cell_type": "code",
   "execution_count": 72,
   "metadata": {},
   "outputs": [
    {
     "data": {
      "text/plain": [
       "\"\\n#implement only when you change test dataset\\nlabeled_tweets=list(labeled_df['tweets'])\\nfor i in labeled_tweets:\\n    with open('/Users/yyb/Documents/5920_Projects/followers_tweets_filter/positive_labeled_users/test_data_only_tweets.txt','a') as txtfile:\\n        txtfile.write(i+'\\n')\\n\""
      ]
     },
     "execution_count": 72,
     "metadata": {},
     "output_type": "execute_result"
    }
   ],
   "source": [
    "'''\n",
    "#implement only when you change test dataset\n",
    "labeled_tweets=list(labeled_df['tweets'])\n",
    "for i in labeled_tweets:\n",
    "    with open('/Users/yyb/Documents/5920_Projects/followers_tweets_filter/positive_labeled_users/test_data_only_tweets.txt','a') as txtfile:\n",
    "        txtfile.write(i+'\\n')\n",
    "'''"
   ]
  },
  {
   "cell_type": "code",
   "execution_count": 73,
   "metadata": {
    "collapsed": true
   },
   "outputs": [],
   "source": [
    "\n",
    "labeled_test=read_as_list('/Users/yyb/Documents/5920_Projects/followers_tweets_filter/positive_labeled_users/test_data_only_tweets.txt')\n",
    "labeled_test=remove_symbols(labeled_test)\n",
    "labeled_test=standardize(labeled_test)\n",
    "labeled_test=stop_word_removal(labeled_test)\n",
    "labeled_test=lematization(labeled_test)\n",
    "\n",
    "# get the labels of the targets\n",
    "X_test_target=np.array(labeled_df['labels'])\n",
    "\n",
    "# define the test data\n",
    "labeled_test=list_to_string(labeled_test)\n"
   ]
  },
  {
   "cell_type": "markdown",
   "metadata": {},
   "source": [
    "## Evaluation"
   ]
  },
  {
   "cell_type": "code",
   "execution_count": 74,
   "metadata": {
    "collapsed": true
   },
   "outputs": [],
   "source": [
    "#X_test = tfidf_vectorizer.transform(X_test)\n",
    "X_test = ch2.transform(tfidf_vectorizer.transform(labeled_test))"
   ]
  },
  {
   "cell_type": "markdown",
   "metadata": {},
   "source": [
    "### Naive Bayes"
   ]
  },
  {
   "cell_type": "code",
   "execution_count": 75,
   "metadata": {},
   "outputs": [
    {
     "data": {
      "text/plain": [
       "array(['T', 'F', 'T', 'T', 'F', 'F', 'F', 'T', 'T', 'T', 'T', 'T', 'T',\n",
       "       'F', 'T', 'F', 'F', 'T', 'T', 'F', 'T', 'T', 'T', 'T', 'F', 'T',\n",
       "       'T', 'F', 'T', 'F', 'T', 'T', 'T', 'F', 'F', 'T', 'T', 'F', 'T',\n",
       "       'T', 'F', 'T', 'F', 'F', 'T', 'F', 'F', 'T', 'T', 'T', 'T', 'T',\n",
       "       'F', 'F', 'F', 'T', 'F', 'F', 'T', 'F', 'F', 'F', 'F', 'F', 'F',\n",
       "       'F', 'F', 'F', 'F', 'F', 'F', 'F', 'F', 'F', 'T', 'F', 'T', 'F',\n",
       "       'F', 'F', 'F', 'F', 'F', 'F', 'F', 'F', 'T', 'F', 'F', 'F', 'F',\n",
       "       'F', 'F', 'T', 'F', 'F', 'F', 'F', 'F', 'F'], \n",
       "      dtype='<U1')"
      ]
     },
     "execution_count": 75,
     "metadata": {},
     "output_type": "execute_result"
    }
   ],
   "source": [
    "predicted_NB =NB_clf.predict(X_test)\n",
    "predicted_NB"
   ]
  },
  {
   "cell_type": "code",
   "execution_count": 76,
   "metadata": {},
   "outputs": [
    {
     "data": {
      "text/plain": [
       "0.72999999999999998"
      ]
     },
     "execution_count": 76,
     "metadata": {},
     "output_type": "execute_result"
    }
   ],
   "source": [
    "np.mean(predicted_NB == X_test_target)"
   ]
  },
  {
   "cell_type": "code",
   "execution_count": 77,
   "metadata": {},
   "outputs": [
    {
     "data": {
      "text/plain": [
       "array([[42,  8],\n",
       "       [19, 31]])"
      ]
     },
     "execution_count": 77,
     "metadata": {},
     "output_type": "execute_result"
    }
   ],
   "source": [
    "from sklearn.metrics import confusion_matrix\n",
    "confusion_matrix(X_test_target, predicted_NB)"
   ]
  },
  {
   "cell_type": "code",
   "execution_count": 78,
   "metadata": {},
   "outputs": [
    {
     "name": "stdout",
     "output_type": "stream",
     "text": [
      "             precision    recall  f1-score   support\n",
      "\n",
      "          F       0.69      0.84      0.76        50\n",
      "          T       0.79      0.62      0.70        50\n",
      "\n",
      "avg / total       0.74      0.73      0.73       100\n",
      "\n"
     ]
    }
   ],
   "source": [
    "from sklearn.metrics import classification_report\n",
    "\n",
    "target_names = ['F','T']\n",
    "print(classification_report(X_test_target, predicted_NB, target_names=target_names))"
   ]
  },
  {
   "cell_type": "markdown",
   "metadata": {},
   "source": [
    "### SVM"
   ]
  },
  {
   "cell_type": "code",
   "execution_count": 38,
   "metadata": {},
   "outputs": [
    {
     "data": {
      "text/plain": [
       "array(['F', 'F', 'F', 'F', 'F', 'F', 'F', 'F', 'F', 'F', 'F', 'F', 'F',\n",
       "       'F', 'F', 'F', 'F', 'F', 'F', 'F', 'F', 'F', 'F', 'F', 'F', 'F',\n",
       "       'F', 'F', 'F', 'F', 'F', 'F', 'F', 'F', 'F', 'F', 'F', 'F', 'F',\n",
       "       'F', 'F', 'F', 'F', 'F', 'F'], \n",
       "      dtype='<U1')"
      ]
     },
     "execution_count": 38,
     "metadata": {},
     "output_type": "execute_result"
    }
   ],
   "source": [
    "predicted_SVM =SVM_clf.predict(X_test)\n",
    "predicted_SVM"
   ]
  },
  {
   "cell_type": "code",
   "execution_count": 46,
   "metadata": {},
   "outputs": [
    {
     "data": {
      "text/plain": [
       "0.44444444444444442"
      ]
     },
     "execution_count": 46,
     "metadata": {},
     "output_type": "execute_result"
    }
   ],
   "source": [
    "np.mean(predicted_SVM == X_test_target)"
   ]
  },
  {
   "cell_type": "code",
   "execution_count": 47,
   "metadata": {},
   "outputs": [
    {
     "data": {
      "text/plain": [
       "array([[20,  0],\n",
       "       [25,  0]])"
      ]
     },
     "execution_count": 47,
     "metadata": {},
     "output_type": "execute_result"
    }
   ],
   "source": [
    "from sklearn.metrics import confusion_matrix\n",
    "confusion_matrix(X_test_target, predicted_SVM)"
   ]
  },
  {
   "cell_type": "code",
   "execution_count": 48,
   "metadata": {},
   "outputs": [
    {
     "name": "stdout",
     "output_type": "stream",
     "text": [
      "             precision    recall  f1-score   support\n",
      "\n",
      "          F       0.44      1.00      0.62        20\n",
      "          T       0.00      0.00      0.00        25\n",
      "\n",
      "avg / total       0.20      0.44      0.27        45\n",
      "\n"
     ]
    },
    {
     "name": "stderr",
     "output_type": "stream",
     "text": [
      "/Users/yyb/anaconda/lib/python3.6/site-packages/sklearn/metrics/classification.py:1113: UndefinedMetricWarning: Precision and F-score are ill-defined and being set to 0.0 in labels with no predicted samples.\n",
      "  'precision', 'predicted', average, warn_for)\n"
     ]
    }
   ],
   "source": [
    "from sklearn.metrics import classification_report\n",
    "\n",
    "target_names = ['F','T']\n",
    "print(classification_report(X_test_target, predicted_SVM, target_names=target_names))"
   ]
  },
  {
   "cell_type": "markdown",
   "metadata": {},
   "source": [
    "### SGD"
   ]
  },
  {
   "cell_type": "code",
   "execution_count": 49,
   "metadata": {},
   "outputs": [
    {
     "data": {
      "text/plain": [
       "array(['T', 'F', 'F', 'T', 'F', 'F', 'F', 'T', 'T', 'T', 'F', 'F', 'T',\n",
       "       'F', 'F', 'F', 'F', 'F', 'T', 'T', 'T', 'T', 'T', 'F', 'T', 'F',\n",
       "       'F', 'F', 'F', 'F', 'F', 'T', 'F', 'F', 'F', 'F', 'F', 'F', 'F',\n",
       "       'F', 'F', 'F', 'F', 'F', 'T'], \n",
       "      dtype='<U1')"
      ]
     },
     "execution_count": 49,
     "metadata": {},
     "output_type": "execute_result"
    }
   ],
   "source": [
    "predicted_SGD =SGD_clf.predict(X_test)\n",
    "predicted_SGD"
   ]
  },
  {
   "cell_type": "code",
   "execution_count": 50,
   "metadata": {},
   "outputs": [
    {
     "data": {
      "text/plain": [
       "0.66666666666666663"
      ]
     },
     "execution_count": 50,
     "metadata": {},
     "output_type": "execute_result"
    }
   ],
   "source": [
    "np.mean(predicted_SGD == X_test_target)"
   ]
  },
  {
   "cell_type": "code",
   "execution_count": 52,
   "metadata": {},
   "outputs": [
    {
     "data": {
      "text/plain": [
       "array([[18,  2],\n",
       "       [13, 12]])"
      ]
     },
     "execution_count": 52,
     "metadata": {},
     "output_type": "execute_result"
    }
   ],
   "source": [
    "from sklearn.metrics import confusion_matrix\n",
    "confusion_matrix(X_test_target, predicted_SGD)"
   ]
  },
  {
   "cell_type": "code",
   "execution_count": 53,
   "metadata": {},
   "outputs": [
    {
     "name": "stdout",
     "output_type": "stream",
     "text": [
      "             precision    recall  f1-score   support\n",
      "\n",
      "          F       0.58      0.90      0.71        20\n",
      "          T       0.86      0.48      0.62        25\n",
      "\n",
      "avg / total       0.73      0.67      0.66        45\n",
      "\n"
     ]
    }
   ],
   "source": [
    "from sklearn.metrics import classification_report\n",
    "\n",
    "target_names = ['F','T']\n",
    "print(classification_report(X_test_target, predicted_SGD, target_names=target_names))"
   ]
  },
  {
   "cell_type": "code",
   "execution_count": null,
   "metadata": {
    "collapsed": true
   },
   "outputs": [],
   "source": []
  },
  {
   "cell_type": "code",
   "execution_count": 171,
   "metadata": {},
   "outputs": [
    {
     "name": "stderr",
     "output_type": "stream",
     "text": [
      "/Users/yyb/anaconda/lib/python3.6/site-packages/sklearn/utils/validation.py:395: DeprecationWarning: Passing 1d arrays as data is deprecated in 0.17 and will raise ValueError in 0.19. Reshape your data either using X.reshape(-1, 1) if your data has a single feature or X.reshape(1, -1) if it contains a single sample.\n",
      "  DeprecationWarning)\n"
     ]
    },
    {
     "ename": "ValueError",
     "evalue": "Found input variables with inconsistent numbers of samples: [1, 10232]",
     "output_type": "error",
     "traceback": [
      "\u001b[0;31m---------------------------------------------------------------------------\u001b[0m",
      "\u001b[0;31mValueError\u001b[0m                                Traceback (most recent call last)",
      "\u001b[0;32m<ipython-input-171-8d9a50892947>\u001b[0m in \u001b[0;36m<module>\u001b[0;34m()\u001b[0m\n\u001b[1;32m     16\u001b[0m     \u001b[0my_train\u001b[0m\u001b[0;34m=\u001b[0m \u001b[0my\u001b[0m\u001b[0;34m[\u001b[0m\u001b[0mtrain_index\u001b[0m\u001b[0;34m]\u001b[0m\u001b[0;34m\u001b[0m\u001b[0m\n\u001b[1;32m     17\u001b[0m     \u001b[0my_test\u001b[0m \u001b[0;34m=\u001b[0m \u001b[0my\u001b[0m\u001b[0;34m[\u001b[0m\u001b[0mtest_index\u001b[0m\u001b[0;34m]\u001b[0m\u001b[0;34m\u001b[0m\u001b[0m\n\u001b[0;32m---> 18\u001b[0;31m     \u001b[0mclf\u001b[0m \u001b[0;34m=\u001b[0m \u001b[0mMultinomialNB\u001b[0m\u001b[0;34m(\u001b[0m\u001b[0;34m)\u001b[0m\u001b[0;34m.\u001b[0m\u001b[0mfit\u001b[0m\u001b[0;34m(\u001b[0m\u001b[0mX_train\u001b[0m\u001b[0;34m,\u001b[0m \u001b[0my_train\u001b[0m\u001b[0;34m)\u001b[0m\u001b[0;34m\u001b[0m\u001b[0m\n\u001b[0m\u001b[1;32m     19\u001b[0m     \u001b[0my_pre\u001b[0m\u001b[0;34m[\u001b[0m\u001b[0mtest_index\u001b[0m\u001b[0;34m]\u001b[0m \u001b[0;34m=\u001b[0m \u001b[0mclf\u001b[0m\u001b[0;34m.\u001b[0m\u001b[0mpredict\u001b[0m\u001b[0;34m(\u001b[0m\u001b[0mX_test\u001b[0m\u001b[0;34m)\u001b[0m\u001b[0;34m\u001b[0m\u001b[0m\n\u001b[1;32m     20\u001b[0m \u001b[0;34m\u001b[0m\u001b[0m\n",
      "\u001b[0;32m/Users/yyb/anaconda/lib/python3.6/site-packages/sklearn/naive_bayes.py\u001b[0m in \u001b[0;36mfit\u001b[0;34m(self, X, y, sample_weight)\u001b[0m\n\u001b[1;32m    560\u001b[0m             \u001b[0mReturns\u001b[0m \u001b[0mself\u001b[0m\u001b[0;34m.\u001b[0m\u001b[0;34m\u001b[0m\u001b[0m\n\u001b[1;32m    561\u001b[0m         \"\"\"\n\u001b[0;32m--> 562\u001b[0;31m         \u001b[0mX\u001b[0m\u001b[0;34m,\u001b[0m \u001b[0my\u001b[0m \u001b[0;34m=\u001b[0m \u001b[0mcheck_X_y\u001b[0m\u001b[0;34m(\u001b[0m\u001b[0mX\u001b[0m\u001b[0;34m,\u001b[0m \u001b[0my\u001b[0m\u001b[0;34m,\u001b[0m \u001b[0;34m'csr'\u001b[0m\u001b[0;34m)\u001b[0m\u001b[0;34m\u001b[0m\u001b[0m\n\u001b[0m\u001b[1;32m    563\u001b[0m         \u001b[0m_\u001b[0m\u001b[0;34m,\u001b[0m \u001b[0mn_features\u001b[0m \u001b[0;34m=\u001b[0m \u001b[0mX\u001b[0m\u001b[0;34m.\u001b[0m\u001b[0mshape\u001b[0m\u001b[0;34m\u001b[0m\u001b[0m\n\u001b[1;32m    564\u001b[0m \u001b[0;34m\u001b[0m\u001b[0m\n",
      "\u001b[0;32m/Users/yyb/anaconda/lib/python3.6/site-packages/sklearn/utils/validation.py\u001b[0m in \u001b[0;36mcheck_X_y\u001b[0;34m(X, y, accept_sparse, dtype, order, copy, force_all_finite, ensure_2d, allow_nd, multi_output, ensure_min_samples, ensure_min_features, y_numeric, warn_on_dtype, estimator)\u001b[0m\n\u001b[1;32m    529\u001b[0m         \u001b[0my\u001b[0m \u001b[0;34m=\u001b[0m \u001b[0my\u001b[0m\u001b[0;34m.\u001b[0m\u001b[0mastype\u001b[0m\u001b[0;34m(\u001b[0m\u001b[0mnp\u001b[0m\u001b[0;34m.\u001b[0m\u001b[0mfloat64\u001b[0m\u001b[0;34m)\u001b[0m\u001b[0;34m\u001b[0m\u001b[0m\n\u001b[1;32m    530\u001b[0m \u001b[0;34m\u001b[0m\u001b[0m\n\u001b[0;32m--> 531\u001b[0;31m     \u001b[0mcheck_consistent_length\u001b[0m\u001b[0;34m(\u001b[0m\u001b[0mX\u001b[0m\u001b[0;34m,\u001b[0m \u001b[0my\u001b[0m\u001b[0;34m)\u001b[0m\u001b[0;34m\u001b[0m\u001b[0m\n\u001b[0m\u001b[1;32m    532\u001b[0m \u001b[0;34m\u001b[0m\u001b[0m\n\u001b[1;32m    533\u001b[0m     \u001b[0;32mreturn\u001b[0m \u001b[0mX\u001b[0m\u001b[0;34m,\u001b[0m \u001b[0my\u001b[0m\u001b[0;34m\u001b[0m\u001b[0m\n",
      "\u001b[0;32m/Users/yyb/anaconda/lib/python3.6/site-packages/sklearn/utils/validation.py\u001b[0m in \u001b[0;36mcheck_consistent_length\u001b[0;34m(*arrays)\u001b[0m\n\u001b[1;32m    179\u001b[0m     \u001b[0;32mif\u001b[0m \u001b[0mlen\u001b[0m\u001b[0;34m(\u001b[0m\u001b[0muniques\u001b[0m\u001b[0;34m)\u001b[0m \u001b[0;34m>\u001b[0m \u001b[0;36m1\u001b[0m\u001b[0;34m:\u001b[0m\u001b[0;34m\u001b[0m\u001b[0m\n\u001b[1;32m    180\u001b[0m         raise ValueError(\"Found input variables with inconsistent numbers of\"\n\u001b[0;32m--> 181\u001b[0;31m                          \" samples: %r\" % [int(l) for l in lengths])\n\u001b[0m\u001b[1;32m    182\u001b[0m \u001b[0;34m\u001b[0m\u001b[0m\n\u001b[1;32m    183\u001b[0m \u001b[0;34m\u001b[0m\u001b[0m\n",
      "\u001b[0;31mValueError\u001b[0m: Found input variables with inconsistent numbers of samples: [1, 10232]"
     ]
    }
   ],
   "source": [
    "from sklearn.naive_bayes import MultinomialNB  \n",
    "from sklearn.cross_validation import train_test_split   \n",
    "from sklearn.cross_validation import StratifiedKFold  \n",
    "from sklearn.cross_validation import KFold  \n",
    "from sklearn.metrics import precision_recall_curve    \n",
    "from sklearn.metrics import classification_report \n",
    "\n",
    "\n",
    "X = chi_filter_training \n",
    "y = np.array(Y_train)\n",
    "skf = StratifiedKFold(y,n_folds=10)  \n",
    "y_pre = y.copy()  \n",
    "for train_index,test_index in skf:  \n",
    "    x_train= X[train_index]\n",
    "    x_test = X[test_index]  \n",
    "    y_train= y[train_index]\n",
    "    y_test = y[test_index]  \n",
    "    clf = MultinomialNB().fit(X_train, y_train)    \n",
    "    y_pre[test_index] = clf.predict(X_test)    \n",
    "         \n",
    "print('Accuracy %.6f' %(np.mean(y_pre == y)))\n",
    "\n"
   ]
  },
  {
   "cell_type": "markdown",
   "metadata": {
    "collapsed": true
   },
   "source": [
    "https://medium.com/mlreview/topic-modeling-with-scikit-learn-e80d33668730"
   ]
  },
  {
   "cell_type": "code",
   "execution_count": 61,
   "metadata": {
    "collapsed": true
   },
   "outputs": [],
   "source": [
    "from sklearn.feature_extraction.text import TfidfVectorizer, CountVectorizer\n",
    "from sklearn.datasets import fetch_20newsgroups\n",
    "from sklearn.decomposition import NMF, LatentDirichletAllocation\n",
    "\n",
    "def display_topics(model, feature_names, no_top_words):\n",
    "    for topic_idx, topic in enumerate(model.components_):\n",
    "        print(\"Topic %d:\" % (topic_idx))\n",
    "        print(\" \".join([feature_names[i] for i in topic.argsort()[:-no_top_words - 1:-1]]))\n",
    "\n",
    "\n",
    "#dataset = fetch_20newsgroups(shuffle=True, random_state=1, remove=('headers', 'footers', 'quotes'))\n",
    "#documents = dataset.data\n",
    "#documents = str_posi_list\n",
    "documents = new_nega_list"
   ]
  },
  {
   "cell_type": "code",
   "execution_count": 65,
   "metadata": {
    "scrolled": true
   },
   "outputs": [
    {
     "name": "stdout",
     "output_type": "stream",
     "text": [
      "Topic 0:\n",
      "student game family school man city baby programme dinner song\n",
      "Topic 1:\n",
      "time home week school friend kid food experience child team\n",
      "Topic 2:\n",
      "day singapore people today fan teacher act sea love woman\n",
      "Topic 3:\n",
      "life world dn stay chance hotel music samsung video galaxy\n",
      "Topic 4:\n",
      "pm pop nov art tweet fear bag artist month buffet\n",
      "Topic 5:\n",
      "year child fav weekend share thing parent tip voucher mtv\n"
     ]
    }
   ],
   "source": [
    "no_features = 1000\n",
    "\n",
    "# NMF is able to use tf-idf\n",
    "tfidf_vectorizer = TfidfVectorizer(max_df=0.95, min_df=2, max_features=no_features, stop_words='english')\n",
    "tfidf = tfidf_vectorizer.fit_transform(documents)\n",
    "tfidf_feature_names = tfidf_vectorizer.get_feature_names()\n",
    "\n",
    "# LDA can only use raw term counts for LDA because it is a probabilistic graphical model\n",
    "tf_vectorizer = CountVectorizer(max_df=0.95, min_df=2, max_features=no_features, stop_words='english')\n",
    "tf = tf_vectorizer.fit_transform(documents)\n",
    "tf_feature_names = tf_vectorizer.get_feature_names()\n",
    "\n",
    "no_topics = 6\n",
    "\n",
    "# Run NMF\n",
    "nmf = NMF(n_components=no_topics, random_state=1, alpha=.1, l1_ratio=.5, init='nndsvd').fit(tfidf)\n",
    "\n",
    "# Run LDA\n",
    "lda = LatentDirichletAllocation(n_topics=no_topics, max_iter=50, learning_method='online', learning_offset=50.,random_state=0).fit(tf)\n",
    "\n",
    "no_top_words = 10\n",
    "display_topics(lda, tf_feature_names, no_top_words)"
   ]
  },
  {
   "cell_type": "code",
   "execution_count": 64,
   "metadata": {},
   "outputs": [
    {
     "name": "stdout",
     "output_type": "stream",
     "text": [
      "Topic 0:\n",
      "year month idea life friend school jail nov home treatment\n",
      "Topic 1:\n",
      "day today weekend family week birthday valentine kid world teacher\n",
      "Topic 2:\n",
      "student school child share programme teacher sec parent pri skill\n",
      "Topic 3:\n",
      "time tonight people parent moment drama step friend thought relationship\n",
      "Topic 4:\n",
      "pm nov artist oct tweet fan ceremony fear song catch\n"
     ]
    }
   ],
   "source": [
    "display_topics(nmf, tfidf_feature_names, no_top_words)"
   ]
  },
  {
   "cell_type": "code",
   "execution_count": null,
   "metadata": {
    "collapsed": true
   },
   "outputs": [],
   "source": []
  },
  {
   "cell_type": "code",
   "execution_count": null,
   "metadata": {
    "collapsed": true
   },
   "outputs": [],
   "source": []
  },
  {
   "cell_type": "markdown",
   "metadata": {},
   "source": [
    "# https://www.youtube.com/watch?v=FheTDyCwRdE\n",
    "A good video about the theory behind smote"
   ]
  },
  {
   "cell_type": "markdown",
   "metadata": {},
   "source": [
    "SMOTE\n",
    "http://contrib.scikit-learn.org/imbalanced-learn/stable/generated/imblearn.over_sampling.SMOTE.html\n",
    "ADASYN\n",
    "http://contrib.scikit-learn.org/imbalanced-learn/stable/generated/imblearn.over_sampling.ADASYN.html#imblearn.over_sampling.ADASYN\n",
    "7 Techniques to Handle Imbalanced Data\n",
    "https://www.kdnuggets.com/2017/06/7-techniques-handle-imbalanced-data.html\n",
    "SMOTE: Synthetic Minority Over-sampling Technique\n",
    "https://www.cs.cmu.edu/afs/cs/project/jair/pub/volume16/chawla02a-html/chawla2002.html\n",
    "over and under sampling wiki\n",
    "https://en.wikipedia.org/wiki/Oversampling_and_undersampling_in_data_analysis#cite_note-2"
   ]
  },
  {
   "cell_type": "code",
   "execution_count": 1,
   "metadata": {
    "collapsed": true
   },
   "outputs": [],
   "source": [
    "import matplotlib.pyplot as plt\n",
    "from sklearn.datasets import make_classification\n",
    "from sklearn.decomposition import PCA\n",
    "\n",
    "from imblearn.over_sampling import SMOTE"
   ]
  },
  {
   "cell_type": "code",
   "execution_count": 2,
   "metadata": {},
   "outputs": [
    {
     "name": "stdout",
     "output_type": "stream",
     "text": [
      "Automatically created module for IPython interactive environment\n"
     ]
    }
   ],
   "source": [
    "print(__doc__)\n",
    "\n",
    "\n",
    "def plot_resampling(ax, X, y, title):\n",
    "    c0 = ax.scatter(X[y == 0, 0], X[y == 0, 1], label=\"Class #0\", alpha=0.5)\n",
    "    c1 = ax.scatter(X[y == 1, 0], X[y == 1, 1], label=\"Class #1\", alpha=0.5)\n",
    "    ax.set_title(title)\n",
    "    ax.spines['top'].set_visible(False)\n",
    "    ax.spines['right'].set_visible(False)\n",
    "    ax.get_xaxis().tick_bottom()\n",
    "    ax.get_yaxis().tick_left()\n",
    "    ax.spines['left'].set_position(('outward', 10))\n",
    "    ax.spines['bottom'].set_position(('outward', 10))\n",
    "    ax.set_xlim([-6, 8])\n",
    "    ax.set_ylim([-6, 6])\n",
    "\n",
    "    return c0, c1"
   ]
  },
  {
   "cell_type": "code",
   "execution_count": 3,
   "metadata": {
    "collapsed": true
   },
   "outputs": [],
   "source": [
    "# Generate the dataset\n",
    "X, y = make_classification(n_classes=2, class_sep=2, weights=[0.3, 0.7],\n",
    "                           n_informative=3, n_redundant=1, flip_y=0,\n",
    "                           n_features=20, n_clusters_per_class=1,\n",
    "                           n_samples=80, random_state=10)"
   ]
  },
  {
   "cell_type": "code",
   "execution_count": 10,
   "metadata": {},
   "outputs": [
    {
     "data": {
      "text/plain": [
       "numpy.ndarray"
      ]
     },
     "execution_count": 10,
     "metadata": {},
     "output_type": "execute_result"
    }
   ],
   "source": [
    "type(X)"
   ]
  },
  {
   "cell_type": "code",
   "execution_count": 4,
   "metadata": {
    "collapsed": true
   },
   "outputs": [],
   "source": [
    "# Instanciate a PCA object for the sake of easy visualisation\n",
    "pca = PCA(n_components=2)\n",
    "\n",
    "# Fit and transform x to visualise inside a 2D feature space\n",
    "X_vis = pca.fit_transform(X)"
   ]
  },
  {
   "cell_type": "code",
   "execution_count": 5,
   "metadata": {
    "collapsed": true
   },
   "outputs": [],
   "source": [
    "# Apply regular SMOTE\n",
    "kind = ['regular', 'borderline1', 'borderline2', 'svm']\n",
    "sm = [SMOTE(kind=k) for k in kind]\n",
    "X_resampled = []\n",
    "y_resampled = []\n",
    "X_res_vis = []\n",
    "for method in sm:\n",
    "    X_res, y_res = method.fit_sample(X, y)\n",
    "    X_resampled.append(X_res)\n",
    "    y_resampled.append(y_res)\n",
    "    X_res_vis.append(pca.transform(X_res))"
   ]
  },
  {
   "cell_type": "code",
   "execution_count": 6,
   "metadata": {},
   "outputs": [
    {
     "data": {
      "image/png": "[encoded data removed]",
      "text/plain": [
       "<matplotlib.figure.Figure at 0x1102055c0>"
      ]
     },
     "metadata": {},
     "output_type": "display_data"
    }
   ],
   "source": [
    "# Two subplots, unpack the axes array immediately\n",
    "f, ((ax1, ax2), (ax3, ax4), (ax5, ax6)) = plt.subplots(3, 2)\n",
    "# Remove axis for second plot\n",
    "ax2.axis('off')\n",
    "ax_res = [ax3, ax4, ax5, ax6]\n",
    "\n",
    "c0, c1 = plot_resampling(ax1, X_vis, y, 'Original set')\n",
    "for i in range(len(kind)):\n",
    "    plot_resampling(ax_res[i], X_res_vis[i], y_resampled[i],\n",
    "                    'SMOTE {}'.format(kind[i]))\n",
    "\n",
    "ax2.legend((c0, c1), ('Class #0', 'Class #1'), loc='center',\n",
    "           ncol=1, labelspacing=0.)\n",
    "plt.tight_layout()\n",
    "plt.show()"
   ]
  },
  {
   "cell_type": "code",
   "execution_count": 17,
   "metadata": {},
   "outputs": [
    {
     "data": {
      "text/plain": [
       "<16622x6324 sparse matrix of type '<class 'numpy.float64'>'\n",
       "\twith 63273 stored elements in Compressed Sparse Row format>"
      ]
     },
     "execution_count": 17,
     "metadata": {},
     "output_type": "execute_result"
    }
   ],
   "source": [
    "X_tfidf_matrix"
   ]
  },
  {
   "cell_type": "code",
   "execution_count": null,
   "metadata": {
    "collapsed": true
   },
   "outputs": [],
   "source": []
  },
  {
   "cell_type": "code",
   "execution_count": 25,
   "metadata": {},
   "outputs": [
    {
     "data": {
      "text/plain": [
       "<16622x6324 sparse matrix of type '<class 'numpy.float64'>'\n",
       "\twith 63273 stored elements in Compressed Sparse Row format>"
      ]
     },
     "execution_count": 25,
     "metadata": {},
     "output_type": "execute_result"
    }
   ],
   "source": [
    "X_tfidf_matrix"
   ]
  },
  {
   "cell_type": "code",
   "execution_count": 26,
   "metadata": {},
   "outputs": [
    {
     "data": {
      "text/plain": [
       "['T',\n",
       " 'T',\n",
       " 'T',\n",
       " 'T',\n",
       " 'T',\n",
       " 'T',\n",
       " 'T',\n",
       " 'T',\n",
       " 'T',\n",
       " 'T',\n",
       " 'T',\n",
       " 'T',\n",
       " 'T',\n",
       " 'T',\n",
       " 'T',\n",
       " 'T',\n",
       " 'T',\n",
       " 'T',\n",
       " 'T',\n",
       " 'T',\n",
       " 'T',\n",
       " 'T',\n",
       " 'T',\n",
       " 'T',\n",
       " 'T',\n",
       " 'T',\n",
       " 'T',\n",
       " 'T',\n",
       " 'T',\n",
       " 'T',\n",
       " 'T',\n",
       " 'T',\n",
       " 'T',\n",
       " 'T',\n",
       " 'T',\n",
       " 'T',\n",
       " 'T',\n",
       " 'T',\n",
       " 'T',\n",
       " 'T',\n",
       " 'T',\n",
       " 'T',\n",
       " 'T',\n",
       " 'T',\n",
       " 'T',\n",
       " 'T',\n",
       " 'T',\n",
       " 'T',\n",
       " 'T',\n",
       " 'T',\n",
       " 'T',\n",
       " 'T',\n",
       " 'T',\n",
       " 'T',\n",
       " 'T',\n",
       " 'T',\n",
       " 'T',\n",
       " 'T',\n",
       " 'T',\n",
       " 'T',\n",
       " 'T',\n",
       " 'T',\n",
       " 'T',\n",
       " 'T',\n",
       " 'T',\n",
       " 'T',\n",
       " 'T',\n",
       " 'T',\n",
       " 'T',\n",
       " 'T',\n",
       " 'T',\n",
       " 'T',\n",
       " 'T',\n",
       " 'T',\n",
       " 'T',\n",
       " 'T',\n",
       " 'T',\n",
       " 'T',\n",
       " 'T',\n",
       " 'T',\n",
       " 'T',\n",
       " 'T',\n",
       " 'T',\n",
       " 'T',\n",
       " 'T',\n",
       " 'T',\n",
       " 'T',\n",
       " 'T',\n",
       " 'T',\n",
       " 'T',\n",
       " 'T',\n",
       " 'T',\n",
       " 'T',\n",
       " 'T',\n",
       " 'T',\n",
       " 'T',\n",
       " 'T',\n",
       " 'T',\n",
       " 'T',\n",
       " 'T',\n",
       " 'T',\n",
       " 'T',\n",
       " 'T',\n",
       " 'T',\n",
       " 'T',\n",
       " 'T',\n",
       " 'T',\n",
       " 'T',\n",
       " 'T',\n",
       " 'T',\n",
       " 'T',\n",
       " 'T',\n",
       " 'T',\n",
       " 'T',\n",
       " 'T',\n",
       " 'T',\n",
       " 'T',\n",
       " 'T',\n",
       " 'T',\n",
       " 'T',\n",
       " 'T',\n",
       " 'T',\n",
       " 'T',\n",
       " 'T',\n",
       " 'T',\n",
       " 'T',\n",
       " 'T',\n",
       " 'T',\n",
       " 'T',\n",
       " 'T',\n",
       " 'T',\n",
       " 'T',\n",
       " 'T',\n",
       " 'T',\n",
       " 'T',\n",
       " 'T',\n",
       " 'T',\n",
       " 'T',\n",
       " 'T',\n",
       " 'T',\n",
       " 'T',\n",
       " 'T',\n",
       " 'T',\n",
       " 'T',\n",
       " 'T',\n",
       " 'T',\n",
       " 'T',\n",
       " 'T',\n",
       " 'T',\n",
       " 'T',\n",
       " 'T',\n",
       " 'T',\n",
       " 'T',\n",
       " 'T',\n",
       " 'T',\n",
       " 'T',\n",
       " 'T',\n",
       " 'T',\n",
       " 'T',\n",
       " 'T',\n",
       " 'T',\n",
       " 'T',\n",
       " 'T',\n",
       " 'T',\n",
       " 'T',\n",
       " 'T',\n",
       " 'T',\n",
       " 'T',\n",
       " 'T',\n",
       " 'T',\n",
       " 'T',\n",
       " 'T',\n",
       " 'T',\n",
       " 'T',\n",
       " 'T',\n",
       " 'T',\n",
       " 'T',\n",
       " 'T',\n",
       " 'T',\n",
       " 'T',\n",
       " 'T',\n",
       " 'T',\n",
       " 'T',\n",
       " 'T',\n",
       " 'T',\n",
       " 'T',\n",
       " 'T',\n",
       " 'T',\n",
       " 'T',\n",
       " 'T',\n",
       " 'T',\n",
       " 'T',\n",
       " 'T',\n",
       " 'T',\n",
       " 'T',\n",
       " 'T',\n",
       " 'T',\n",
       " 'T',\n",
       " 'T',\n",
       " 'T',\n",
       " 'T',\n",
       " 'T',\n",
       " 'T',\n",
       " 'T',\n",
       " 'T',\n",
       " 'T',\n",
       " 'T',\n",
       " 'T',\n",
       " 'T',\n",
       " 'T',\n",
       " 'T',\n",
       " 'T',\n",
       " 'T',\n",
       " 'T',\n",
       " 'T',\n",
       " 'T',\n",
       " 'T',\n",
       " 'T',\n",
       " 'T',\n",
       " 'T',\n",
       " 'T',\n",
       " 'T',\n",
       " 'T',\n",
       " 'T',\n",
       " 'T',\n",
       " 'T',\n",
       " 'T',\n",
       " 'T',\n",
       " 'T',\n",
       " 'T',\n",
       " 'T',\n",
       " 'T',\n",
       " 'T',\n",
       " 'T',\n",
       " 'T',\n",
       " 'T',\n",
       " 'T',\n",
       " 'T',\n",
       " 'T',\n",
       " 'T',\n",
       " 'T',\n",
       " 'T',\n",
       " 'T',\n",
       " 'T',\n",
       " 'T',\n",
       " 'T',\n",
       " 'T',\n",
       " 'T',\n",
       " 'T',\n",
       " 'T',\n",
       " 'T',\n",
       " 'T',\n",
       " 'T',\n",
       " 'T',\n",
       " 'T',\n",
       " 'T',\n",
       " 'T',\n",
       " 'T',\n",
       " 'T',\n",
       " 'T',\n",
       " 'T',\n",
       " 'T',\n",
       " 'T',\n",
       " 'T',\n",
       " 'T',\n",
       " 'T',\n",
       " 'T',\n",
       " 'T',\n",
       " 'T',\n",
       " 'T',\n",
       " 'T',\n",
       " 'T',\n",
       " 'T',\n",
       " 'T',\n",
       " 'T',\n",
       " 'T',\n",
       " 'T',\n",
       " 'T',\n",
       " 'T',\n",
       " 'T',\n",
       " 'T',\n",
       " 'T',\n",
       " 'T',\n",
       " 'T',\n",
       " 'T',\n",
       " 'T',\n",
       " 'T',\n",
       " 'T',\n",
       " 'T',\n",
       " 'T',\n",
       " 'T',\n",
       " 'T',\n",
       " 'T',\n",
       " 'T',\n",
       " 'T',\n",
       " 'T',\n",
       " 'T',\n",
       " 'T',\n",
       " 'T',\n",
       " 'T',\n",
       " 'T',\n",
       " 'T',\n",
       " 'T',\n",
       " 'T',\n",
       " 'T',\n",
       " 'T',\n",
       " 'T',\n",
       " 'T',\n",
       " 'T',\n",
       " 'T',\n",
       " 'T',\n",
       " 'T',\n",
       " 'T',\n",
       " 'T',\n",
       " 'T',\n",
       " 'T',\n",
       " 'T',\n",
       " 'T',\n",
       " 'T',\n",
       " 'T',\n",
       " 'T',\n",
       " 'T',\n",
       " 'T',\n",
       " 'T',\n",
       " 'T',\n",
       " 'T',\n",
       " 'T',\n",
       " 'T',\n",
       " 'T',\n",
       " 'T',\n",
       " 'T',\n",
       " 'T',\n",
       " 'T',\n",
       " 'T',\n",
       " 'T',\n",
       " 'T',\n",
       " 'T',\n",
       " 'T',\n",
       " 'T',\n",
       " 'T',\n",
       " 'T',\n",
       " 'T',\n",
       " 'T',\n",
       " 'T',\n",
       " 'T',\n",
       " 'T',\n",
       " 'T',\n",
       " 'T',\n",
       " 'T',\n",
       " 'T',\n",
       " 'T',\n",
       " 'T',\n",
       " 'T',\n",
       " 'T',\n",
       " 'T',\n",
       " 'T',\n",
       " 'T',\n",
       " 'T',\n",
       " 'T',\n",
       " 'T',\n",
       " 'T',\n",
       " 'T',\n",
       " 'T',\n",
       " 'T',\n",
       " 'T',\n",
       " 'T',\n",
       " 'T',\n",
       " 'T',\n",
       " 'T',\n",
       " 'T',\n",
       " 'T',\n",
       " 'T',\n",
       " 'T',\n",
       " 'T',\n",
       " 'T',\n",
       " 'T',\n",
       " 'T',\n",
       " 'T',\n",
       " 'T',\n",
       " 'T',\n",
       " 'T',\n",
       " 'T',\n",
       " 'T',\n",
       " 'T',\n",
       " 'T',\n",
       " 'T',\n",
       " 'T',\n",
       " 'T',\n",
       " 'T',\n",
       " 'T',\n",
       " 'T',\n",
       " 'T',\n",
       " 'T',\n",
       " 'T',\n",
       " 'T',\n",
       " 'T',\n",
       " 'T',\n",
       " 'T',\n",
       " 'T',\n",
       " 'T',\n",
       " 'T',\n",
       " 'T',\n",
       " 'T',\n",
       " 'T',\n",
       " 'T',\n",
       " 'T',\n",
       " 'T',\n",
       " 'T',\n",
       " 'T',\n",
       " 'T',\n",
       " 'T',\n",
       " 'T',\n",
       " 'T',\n",
       " 'T',\n",
       " 'T',\n",
       " 'T',\n",
       " 'T',\n",
       " 'T',\n",
       " 'T',\n",
       " 'T',\n",
       " 'T',\n",
       " 'T',\n",
       " 'T',\n",
       " 'T',\n",
       " 'T',\n",
       " 'T',\n",
       " 'T',\n",
       " 'T',\n",
       " 'T',\n",
       " 'T',\n",
       " 'T',\n",
       " 'T',\n",
       " 'T',\n",
       " 'T',\n",
       " 'T',\n",
       " 'T',\n",
       " 'T',\n",
       " 'T',\n",
       " 'T',\n",
       " 'T',\n",
       " 'T',\n",
       " 'T',\n",
       " 'T',\n",
       " 'T',\n",
       " 'T',\n",
       " 'T',\n",
       " 'T',\n",
       " 'T',\n",
       " 'T',\n",
       " 'T',\n",
       " 'T',\n",
       " 'T',\n",
       " 'T',\n",
       " 'T',\n",
       " 'T',\n",
       " 'T',\n",
       " 'T',\n",
       " 'T',\n",
       " 'T',\n",
       " 'T',\n",
       " 'T',\n",
       " 'T',\n",
       " 'T',\n",
       " 'T',\n",
       " 'T',\n",
       " 'T',\n",
       " 'T',\n",
       " 'T',\n",
       " 'T',\n",
       " 'T',\n",
       " 'T',\n",
       " 'T',\n",
       " 'T',\n",
       " 'T',\n",
       " 'T',\n",
       " 'T',\n",
       " 'T',\n",
       " 'T',\n",
       " 'T',\n",
       " 'T',\n",
       " 'T',\n",
       " 'T',\n",
       " 'T',\n",
       " 'T',\n",
       " 'T',\n",
       " 'T',\n",
       " 'T',\n",
       " 'T',\n",
       " 'T',\n",
       " 'T',\n",
       " 'T',\n",
       " 'T',\n",
       " 'T',\n",
       " 'T',\n",
       " 'T',\n",
       " 'T',\n",
       " 'T',\n",
       " 'T',\n",
       " 'T',\n",
       " 'T',\n",
       " 'T',\n",
       " 'T',\n",
       " 'T',\n",
       " 'T',\n",
       " 'T',\n",
       " 'T',\n",
       " 'T',\n",
       " 'T',\n",
       " 'T',\n",
       " 'T',\n",
       " 'T',\n",
       " 'T',\n",
       " 'T',\n",
       " 'T',\n",
       " 'T',\n",
       " 'T',\n",
       " 'T',\n",
       " 'T',\n",
       " 'T',\n",
       " 'T',\n",
       " 'T',\n",
       " 'T',\n",
       " 'T',\n",
       " 'T',\n",
       " 'T',\n",
       " 'T',\n",
       " 'T',\n",
       " 'T',\n",
       " 'T',\n",
       " 'T',\n",
       " 'T',\n",
       " 'T',\n",
       " 'T',\n",
       " 'T',\n",
       " 'T',\n",
       " 'T',\n",
       " 'T',\n",
       " 'T',\n",
       " 'T',\n",
       " 'T',\n",
       " 'T',\n",
       " 'T',\n",
       " 'T',\n",
       " 'T',\n",
       " 'T',\n",
       " 'T',\n",
       " 'T',\n",
       " 'T',\n",
       " 'T',\n",
       " 'T',\n",
       " 'T',\n",
       " 'T',\n",
       " 'T',\n",
       " 'T',\n",
       " 'T',\n",
       " 'T',\n",
       " 'T',\n",
       " 'T',\n",
       " 'T',\n",
       " 'T',\n",
       " 'T',\n",
       " 'T',\n",
       " 'T',\n",
       " 'T',\n",
       " 'T',\n",
       " 'T',\n",
       " 'T',\n",
       " 'T',\n",
       " 'T',\n",
       " 'T',\n",
       " 'T',\n",
       " 'T',\n",
       " 'T',\n",
       " 'T',\n",
       " 'T',\n",
       " 'T',\n",
       " 'T',\n",
       " 'T',\n",
       " 'T',\n",
       " 'T',\n",
       " 'T',\n",
       " 'T',\n",
       " 'T',\n",
       " 'T',\n",
       " 'T',\n",
       " 'T',\n",
       " 'T',\n",
       " 'T',\n",
       " 'T',\n",
       " 'T',\n",
       " 'T',\n",
       " 'T',\n",
       " 'T',\n",
       " 'T',\n",
       " 'T',\n",
       " 'T',\n",
       " 'T',\n",
       " 'T',\n",
       " 'T',\n",
       " 'T',\n",
       " 'T',\n",
       " 'T',\n",
       " 'T',\n",
       " 'T',\n",
       " 'T',\n",
       " 'T',\n",
       " 'T',\n",
       " 'T',\n",
       " 'T',\n",
       " 'T',\n",
       " 'T',\n",
       " 'T',\n",
       " 'T',\n",
       " 'T',\n",
       " 'T',\n",
       " 'T',\n",
       " 'T',\n",
       " 'T',\n",
       " 'T',\n",
       " 'T',\n",
       " 'T',\n",
       " 'T',\n",
       " 'T',\n",
       " 'T',\n",
       " 'T',\n",
       " 'T',\n",
       " 'T',\n",
       " 'T',\n",
       " 'T',\n",
       " 'T',\n",
       " 'T',\n",
       " 'T',\n",
       " 'T',\n",
       " 'T',\n",
       " 'T',\n",
       " 'T',\n",
       " 'T',\n",
       " 'T',\n",
       " 'T',\n",
       " 'T',\n",
       " 'T',\n",
       " 'T',\n",
       " 'T',\n",
       " 'T',\n",
       " 'T',\n",
       " 'T',\n",
       " 'T',\n",
       " 'T',\n",
       " 'T',\n",
       " 'T',\n",
       " 'T',\n",
       " 'T',\n",
       " 'T',\n",
       " 'T',\n",
       " 'T',\n",
       " 'T',\n",
       " 'T',\n",
       " 'T',\n",
       " 'T',\n",
       " 'T',\n",
       " 'T',\n",
       " 'T',\n",
       " 'T',\n",
       " 'T',\n",
       " 'T',\n",
       " 'T',\n",
       " 'T',\n",
       " 'T',\n",
       " 'T',\n",
       " 'T',\n",
       " 'T',\n",
       " 'T',\n",
       " 'T',\n",
       " 'T',\n",
       " 'T',\n",
       " 'T',\n",
       " 'T',\n",
       " 'T',\n",
       " 'T',\n",
       " 'T',\n",
       " 'T',\n",
       " 'T',\n",
       " 'T',\n",
       " 'T',\n",
       " 'T',\n",
       " 'T',\n",
       " 'T',\n",
       " 'T',\n",
       " 'T',\n",
       " 'T',\n",
       " 'T',\n",
       " 'T',\n",
       " 'T',\n",
       " 'T',\n",
       " 'T',\n",
       " 'T',\n",
       " 'T',\n",
       " 'T',\n",
       " 'T',\n",
       " 'T',\n",
       " 'T',\n",
       " 'T',\n",
       " 'T',\n",
       " 'T',\n",
       " 'T',\n",
       " 'T',\n",
       " 'T',\n",
       " 'T',\n",
       " 'T',\n",
       " 'T',\n",
       " 'T',\n",
       " 'T',\n",
       " 'T',\n",
       " 'T',\n",
       " 'T',\n",
       " 'T',\n",
       " 'T',\n",
       " 'T',\n",
       " 'T',\n",
       " 'T',\n",
       " 'T',\n",
       " 'T',\n",
       " 'T',\n",
       " 'T',\n",
       " 'T',\n",
       " 'T',\n",
       " 'T',\n",
       " 'T',\n",
       " 'T',\n",
       " 'T',\n",
       " 'T',\n",
       " 'T',\n",
       " 'T',\n",
       " 'T',\n",
       " 'T',\n",
       " 'T',\n",
       " 'T',\n",
       " 'T',\n",
       " 'T',\n",
       " 'T',\n",
       " 'T',\n",
       " 'T',\n",
       " 'T',\n",
       " 'T',\n",
       " 'T',\n",
       " 'T',\n",
       " 'T',\n",
       " 'T',\n",
       " 'T',\n",
       " 'T',\n",
       " 'T',\n",
       " 'T',\n",
       " 'T',\n",
       " 'T',\n",
       " 'T',\n",
       " 'T',\n",
       " 'T',\n",
       " 'T',\n",
       " 'T',\n",
       " 'T',\n",
       " 'T',\n",
       " 'T',\n",
       " 'T',\n",
       " 'T',\n",
       " 'T',\n",
       " 'T',\n",
       " 'T',\n",
       " 'T',\n",
       " 'T',\n",
       " 'T',\n",
       " 'T',\n",
       " 'T',\n",
       " 'T',\n",
       " 'T',\n",
       " 'T',\n",
       " 'T',\n",
       " 'T',\n",
       " 'T',\n",
       " 'T',\n",
       " 'T',\n",
       " 'T',\n",
       " 'T',\n",
       " 'T',\n",
       " 'T',\n",
       " 'T',\n",
       " 'T',\n",
       " 'T',\n",
       " 'T',\n",
       " 'T',\n",
       " 'T',\n",
       " 'T',\n",
       " 'T',\n",
       " 'T',\n",
       " 'T',\n",
       " 'T',\n",
       " 'T',\n",
       " 'T',\n",
       " 'T',\n",
       " 'T',\n",
       " 'T',\n",
       " 'T',\n",
       " 'T',\n",
       " 'T',\n",
       " 'T',\n",
       " 'T',\n",
       " 'T',\n",
       " 'T',\n",
       " 'T',\n",
       " 'T',\n",
       " 'T',\n",
       " 'T',\n",
       " 'T',\n",
       " 'T',\n",
       " 'T',\n",
       " 'T',\n",
       " 'T',\n",
       " 'T',\n",
       " 'T',\n",
       " 'T',\n",
       " 'T',\n",
       " 'T',\n",
       " 'T',\n",
       " 'T',\n",
       " 'T',\n",
       " 'T',\n",
       " 'T',\n",
       " 'T',\n",
       " 'T',\n",
       " 'T',\n",
       " 'T',\n",
       " 'T',\n",
       " 'T',\n",
       " 'T',\n",
       " 'T',\n",
       " 'T',\n",
       " 'T',\n",
       " 'T',\n",
       " 'T',\n",
       " 'T',\n",
       " 'T',\n",
       " 'T',\n",
       " 'T',\n",
       " 'T',\n",
       " 'T',\n",
       " 'T',\n",
       " 'T',\n",
       " 'T',\n",
       " 'T',\n",
       " 'T',\n",
       " 'T',\n",
       " 'T',\n",
       " 'T',\n",
       " 'T',\n",
       " 'T',\n",
       " 'T',\n",
       " 'T',\n",
       " 'T',\n",
       " 'T',\n",
       " 'T',\n",
       " 'T',\n",
       " 'T',\n",
       " 'T',\n",
       " 'T',\n",
       " 'T',\n",
       " 'T',\n",
       " 'T',\n",
       " 'T',\n",
       " 'T',\n",
       " 'T',\n",
       " 'T',\n",
       " 'T',\n",
       " 'T',\n",
       " 'T',\n",
       " 'T',\n",
       " 'T',\n",
       " 'T',\n",
       " 'T',\n",
       " 'T',\n",
       " 'T',\n",
       " 'T',\n",
       " 'T',\n",
       " 'T',\n",
       " 'T',\n",
       " 'T',\n",
       " 'T',\n",
       " 'T',\n",
       " 'T',\n",
       " 'T',\n",
       " 'T',\n",
       " 'T',\n",
       " 'T',\n",
       " 'T',\n",
       " 'T',\n",
       " 'T',\n",
       " 'T',\n",
       " 'T',\n",
       " 'T',\n",
       " 'T',\n",
       " 'T',\n",
       " 'T',\n",
       " 'T',\n",
       " 'T',\n",
       " 'T',\n",
       " 'T',\n",
       " 'T',\n",
       " 'T',\n",
       " 'T',\n",
       " 'T',\n",
       " 'T',\n",
       " 'T',\n",
       " 'T',\n",
       " 'T',\n",
       " 'T',\n",
       " 'T',\n",
       " 'T',\n",
       " 'T',\n",
       " 'T',\n",
       " 'T',\n",
       " 'T',\n",
       " 'T',\n",
       " 'T',\n",
       " 'T',\n",
       " 'T',\n",
       " 'T',\n",
       " 'T',\n",
       " 'T',\n",
       " 'T',\n",
       " 'T',\n",
       " 'T',\n",
       " 'T',\n",
       " 'T',\n",
       " 'T',\n",
       " 'T',\n",
       " 'T',\n",
       " 'T',\n",
       " 'T',\n",
       " 'T',\n",
       " 'T',\n",
       " 'T',\n",
       " 'T',\n",
       " 'T',\n",
       " 'T',\n",
       " 'T',\n",
       " 'T',\n",
       " 'T',\n",
       " 'T',\n",
       " 'T',\n",
       " 'T',\n",
       " 'T',\n",
       " 'T',\n",
       " 'T',\n",
       " 'T',\n",
       " 'T',\n",
       " 'T',\n",
       " 'T',\n",
       " 'T',\n",
       " 'T',\n",
       " 'T',\n",
       " 'T',\n",
       " 'T',\n",
       " 'T',\n",
       " 'T',\n",
       " 'T',\n",
       " 'T',\n",
       " 'T',\n",
       " 'T',\n",
       " 'T',\n",
       " 'T',\n",
       " 'T',\n",
       " 'T',\n",
       " 'T',\n",
       " 'T',\n",
       " 'T',\n",
       " 'T',\n",
       " 'T',\n",
       " 'T',\n",
       " 'T',\n",
       " 'T',\n",
       " 'T',\n",
       " 'T',\n",
       " 'T',\n",
       " 'T',\n",
       " 'T',\n",
       " 'T',\n",
       " 'T',\n",
       " 'T',\n",
       " 'T',\n",
       " 'T',\n",
       " 'T',\n",
       " 'T',\n",
       " 'T',\n",
       " 'T',\n",
       " 'T',\n",
       " 'T',\n",
       " 'T',\n",
       " 'T',\n",
       " 'T',\n",
       " 'T',\n",
       " 'T',\n",
       " 'T',\n",
       " ...]"
      ]
     },
     "execution_count": 26,
     "metadata": {},
     "output_type": "execute_result"
    }
   ],
   "source": [
    "Y_train"
   ]
  },
  {
   "cell_type": "markdown",
   "metadata": {},
   "source": [
    "## Resampling"
   ]
  },
  {
   "cell_type": "markdown",
   "metadata": {},
   "source": [
    "SMOTE\n",
    "http://contrib.scikit-learn.org/imbalanced-learn/stable/generated/imblearn.over_sampling.SMOTE.html"
   ]
  },
  {
   "cell_type": "code",
   "execution_count": null,
   "metadata": {
    "collapsed": true
   },
   "outputs": [],
   "source": [
    "X, y = make_classification(n_classes=2, class_sep=2,weights=[0.1, 0.9], n_informative=3, n_redundant=1, flip_y=0,\n",
    "n_features=20, n_clusters_per_class=1, n_samples=1000, random_state=10)\n",
    "print('Original dataset shape {}'.format(Counter(y)))\n",
    "#Original dataset shape Counter({1: 900, 0: 100})\n",
    "\n",
    "sm = SMOTE(random_state=42)\n",
    "X_res, y_res = sm.fit_sample(X, y)\n",
    "print('Resampled dataset shape {}'.format(Counter(y_res)))\n",
    "#Resampled dataset shape Counter({0: 900, 1: 900})\n",
    "\n"
   ]
  },
  {
   "cell_type": "code",
   "execution_count": 44,
   "metadata": {
    "collapsed": true
   },
   "outputs": [],
   "source": []
  },
  {
   "cell_type": "markdown",
   "metadata": {},
   "source": [
    "## Ensemble Learning"
   ]
  },
  {
   "cell_type": "code",
   "execution_count": 42,
   "metadata": {},
   "outputs": [
    {
     "name": "stdout",
     "output_type": "stream",
     "text": [
      "0.892839951865\n"
     ]
    }
   ],
   "source": [
    "#https://machinelearningmastery.com/ensemble-machine-learning-algorithms-python-scikit-learn/\n",
    "\n",
    "import pandas\n",
    "from sklearn import model_selection\n",
    "from sklearn.ensemble import BaggingClassifier\n",
    "from sklearn.tree import DecisionTreeClassifier\n",
    "\n",
    "seed = 7\n",
    "kfold = model_selection.KFold(n_splits=10, random_state=seed)\n",
    "cart = DecisionTreeClassifier()\n",
    "num_trees = 100\n",
    "model = BaggingClassifier(base_estimator=cart, n_estimators=num_trees, random_state=seed)\n",
    "results = model_selection.cross_val_score(model, X_tfidf_matrix, Y_train, cv=kfold)\n",
    "print(results.mean())"
   ]
  },
  {
   "cell_type": "code",
   "execution_count": 31,
   "metadata": {},
   "outputs": [
    {
     "name": "stdout",
     "output_type": "stream",
     "text": [
      "0.88182912154\n"
     ]
    }
   ],
   "source": [
    "#bagging NB\n",
    "from sklearn.naive_bayes import MultinomialNB\n",
    "from sklearn import model_selection\n",
    "from sklearn.ensemble import BaggingClassifier\n",
    "\n",
    "seed = 9\n",
    "kfold = model_selection.KFold(n_splits=10, random_state=seed)\n",
    "cart = MultinomialNB()\n",
    "\n",
    "model = BaggingClassifier(base_estimator=cart, random_state=seed)\n",
    "results = model_selection.cross_val_score(model, X_tfidf_matrix, Y_train, cv=kfold)\n",
    "print(results.mean())"
   ]
  },
  {
   "cell_type": "code",
   "execution_count": 34,
   "metadata": {},
   "outputs": [
    {
     "name": "stdout",
     "output_type": "stream",
     "text": [
      "0.653309265945\n"
     ]
    }
   ],
   "source": [
    "#boosting NB\n",
    "from sklearn.naive_bayes import MultinomialNB\n",
    "from sklearn import model_selection\n",
    "from sklearn.ensemble import AdaBoostClassifier\n",
    "\n",
    "seed = 9\n",
    "kfold = model_selection.KFold(n_splits=10, random_state=seed)\n",
    "cart = MultinomialNB()\n",
    "\n",
    "model = AdaBoostClassifier(base_estimator=cart, random_state=seed)\n",
    "results = model_selection.cross_val_score(model, X_tfidf_matrix, Y_train, cv=kfold)\n",
    "print(results.mean())"
   ]
  },
  {
   "cell_type": "code",
   "execution_count": 43,
   "metadata": {},
   "outputs": [
    {
     "name": "stdout",
     "output_type": "stream",
     "text": [
      "0.72797888206\n"
     ]
    }
   ],
   "source": [
    "#Stochastic Gradient Boosting\n",
    "from sklearn.naive_bayes import MultinomialNB\n",
    "from sklearn import model_selection\n",
    "from sklearn.ensemble import GradientBoostingClassifier\n",
    "\n",
    "seed = 7\n",
    "num_trees = 100\n",
    "kfold = model_selection.KFold(n_splits=10, random_state=seed)\n",
    "model = GradientBoostingClassifier(n_estimators=num_trees, random_state=seed)\n",
    "results = model_selection.cross_val_score(model, X_tfidf_matrix, Y_train, cv=kfold)\n",
    "print(results.mean())"
   ]
  },
  {
   "cell_type": "code",
   "execution_count": 41,
   "metadata": {},
   "outputs": [
    {
     "name": "stdout",
     "output_type": "stream",
     "text": [
      "0.873345367028\n"
     ]
    }
   ],
   "source": [
    "from sklearn import model_selection\n",
    "from sklearn.linear_model import LogisticRegression\n",
    "from sklearn.tree import DecisionTreeClassifier\n",
    "from sklearn.svm import SVC\n",
    "from sklearn.ensemble import VotingClassifier\n",
    "\n",
    "seed = 7\n",
    "kfold = model_selection.KFold(n_splits=10, random_state=seed)\n",
    "\n",
    "# create the sub models\n",
    "estimators = []\n",
    "model1 = LogisticRegression()\n",
    "estimators.append(('logistic', model1))\n",
    "model2 = DecisionTreeClassifier()\n",
    "estimators.append(('cart', model2))\n",
    "model3 = SVC()\n",
    "estimators.append(('svm', model3))\n",
    "\n",
    "# create the ensemble model\n",
    "ensemble = VotingClassifier(estimators)\n",
    "results = model_selection.cross_val_score(ensemble, X_tfidf_matrix, Y_train, cv=kfold)\n",
    "print(results.mean())"
   ]
  },
  {
   "cell_type": "markdown",
   "metadata": {},
   "source": []
  },
  {
   "cell_type": "code",
   "execution_count": null,
   "metadata": {
    "collapsed": true
   },
   "outputs": [],
   "source": []
  }
 ],
 "metadata": {
  "kernelspec": {
   "display_name": "Python 3",
   "language": "python",
   "name": "python3"
  },
  "language_info": {
   "codemirror_mode": {
    "name": "ipython",
    "version": 3
   },
   "file_extension": ".py",
   "mimetype": "text/x-python",
   "name": "python",
   "nbconvert_exporter": "python",
   "pygments_lexer": "ipython3",
   "version": "3.6.1"
  }
 },
 "nbformat": 4,
 "nbformat_minor": 2
}
